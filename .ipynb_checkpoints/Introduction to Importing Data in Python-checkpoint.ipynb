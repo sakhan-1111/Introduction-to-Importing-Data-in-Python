{
 "cells": [
  {
   "cell_type": "markdown",
   "id": "24eed92e",
   "metadata": {},
   "source": [
    "# 1 Introduction and flat files\n",
    "\n",
    "In this chapter, you'll learn how to import data into Python from all types of flat files, which are a simple and prevalent form of data storage. You've previously learned how to use NumPy and pandas—you will learn how to use these packages to import flat files and customize your imports."
   ]
  },
  {
   "cell_type": "markdown",
   "id": "c407a010",
   "metadata": {},
   "source": [
    "## 1.1 Welcome to the course!"
   ]
  },
  {
   "cell_type": "markdown",
   "id": "f4f01b1a",
   "metadata": {},
   "source": [
    "## 1.2 Exploring your working directory\n",
    "\n",
    "In order to import data into Python, you should first have an idea of what files are in your working directory.\n",
    "\n",
    "IPython, which is running on DataCamp's servers, has a bunch of cool commands, including its [magic commands](https://ipython.readthedocs.io/en/stable/overview.html). For example, starting a line with `!` gives you complete system shell access. This means that the IPython magic command `! ls` will display the contents of your current directory. Your task is to use the IPython magic command `! ls` to check out the contents of your current directory and answer the following question: which of the following files is in your working directory?"
   ]
  },
  {
   "cell_type": "markdown",
   "id": "be61b58e",
   "metadata": {},
   "source": [
    "### 1.2.1 Instructions\n",
    "\n",
    "### Possible Answers\n",
    "\n",
    "- [ ] `huck_finn.txt`\n",
    "\n",
    "\n",
    "- [ ] `titanic.csv`\n",
    "\n",
    "\n",
    "- [x] `moby_dick.txt`"
   ]
  },
  {
   "cell_type": "markdown",
   "id": "44645fd4",
   "metadata": {},
   "source": [
    "## 1.3 Importing entire text files\n",
    "\n",
    "In this exercise, you'll be working with the file `moby_dick.txt`. It is a text file that contains the opening sentences of Moby Dick, one of the great American novels! Here you'll get experience opening a text file, printing its contents to the shell and, finally, closing it."
   ]
  },
  {
   "cell_type": "markdown",
   "id": "e31e32e6",
   "metadata": {},
   "source": [
    "### 1.3.1 Instructions\n",
    "\n",
    "- Open the file `moby_dick.txt` as *read-only* and store it in the variable `file`. Make sure to pass the filename enclosed in quotation marks `''`.\n",
    "- Print the contents of the file to the shell using the `print()` function. As Hugo showed in the video, you'll need to apply the method `read()` to the object `file`.\n",
    "- Check whether the file is closed by executing `print(file.closed)`.\n",
    "- Close the file using the `close()` method.\n",
    "- Check again that the file is closed as you did above."
   ]
  },
  {
   "cell_type": "markdown",
   "id": "fb15716f",
   "metadata": {},
   "source": [
    "## 1.4 Importing text files line by line\n",
    "\n",
    "For large files, we may not want to print all of their content to the shell: you may wish to print only the first few lines. Enter the `readline()` method, which allows you to do this. When a file called `file` is open, you can print out the first line by executing `file.readline()`. If you execute the same command again, the second line will print, and so on.\n",
    "\n",
    "In the introductory video, Hugo also introduced the concept of a **context manager**. He showed that you can bind a variable `file` by using a context manager construct:\n",
    "\n",
    "```python\n",
    "with open('huck_finn.txt') as file:\n",
    "```\n",
    "\n",
    "While still within this construct, the variable `file` will be bound to `open('huck_finn.txt')`; thus, to print the file to the shell, all the code you need to execute is:\n",
    "\n",
    "```python\n",
    "with open('huck_finn.txt') as file:\n",
    "    print(file.readline())\n",
    "```\n",
    "\n",
    "You'll now use these tools to print the first few lines of `moby_dick.txt`!"
   ]
  },
  {
   "cell_type": "markdown",
   "id": "7274a7ed",
   "metadata": {},
   "source": [
    "### 1.4.1 Instructions\n",
    "\n",
    "- Open `moby_dick.txt` using the `with` context manager and the variable `file`.\n",
    "- Print the first three lines of the file to the shell by using `readline()` three times within the context manager."
   ]
  },
  {
   "cell_type": "markdown",
   "id": "8d203e7f",
   "metadata": {},
   "source": [
    "## 1.5 The importance of flat files in data science"
   ]
  },
  {
   "cell_type": "markdown",
   "id": "6992a59d",
   "metadata": {},
   "source": [
    "## 1.6 Pop quiz: examples of flat files\n",
    "\n",
    "You're now well-versed in importing text files and you're about to become a wiz at importing flat files. But can you remember exactly what a flat file is? Test your knowledge by answering the following question: which of these file types below is NOT an example of a flat file?"
   ]
  },
  {
   "cell_type": "markdown",
   "id": "a4b6d02e",
   "metadata": {},
   "source": [
    "### 1.6.1 Answer the question\n",
    "\n",
    "### Possible Answers\n",
    "\n",
    "- [ ] A .csv file.\n",
    "\n",
    "- [ ] A tab-delimited .txt.\n",
    "\n",
    "- [x] A relational database (e.g. PostgreSQL)."
   ]
  },
  {
   "cell_type": "markdown",
   "id": "b24c03db",
   "metadata": {},
   "source": [
    "## 1.7 Pop quiz: what exactly are flat files?\n",
    "\n",
    "Which of the following statements about flat files is incorrect?"
   ]
  },
  {
   "cell_type": "markdown",
   "id": "d48066fb",
   "metadata": {},
   "source": [
    "### 1.7.1 Answer the question\n",
    "\n",
    "### Possible Answers\n",
    "\n",
    "- [ ] Flat files consist of rows and each row is called a record.\n",
    "\n",
    "- [x] Flat files consist of multiple tables with structured relationships between the tables.\n",
    "\n",
    "- [ ] A record in a flat file is composed of *fields* or *attributes*, each of which contains at most one item of information.\n",
    "\n",
    "- [ ] Flat files are pervasive in data science."
   ]
  },
  {
   "cell_type": "markdown",
   "id": "cda6bfd5",
   "metadata": {},
   "source": []
  },
  {
   "cell_type": "markdown",
   "id": "0782e975",
   "metadata": {},
   "source": []
  },
  {
   "cell_type": "markdown",
   "id": "61891378",
   "metadata": {},
   "source": []
  },
  {
   "cell_type": "markdown",
   "id": "0fcf1a74",
   "metadata": {},
   "source": []
  },
  {
   "cell_type": "markdown",
   "id": "40282781",
   "metadata": {},
   "source": []
  },
  {
   "cell_type": "markdown",
   "id": "cda22837",
   "metadata": {},
   "source": []
  },
  {
   "cell_type": "markdown",
   "id": "be970e7c",
   "metadata": {},
   "source": []
  },
  {
   "cell_type": "markdown",
   "id": "3d439848",
   "metadata": {},
   "source": []
  },
  {
   "cell_type": "markdown",
   "id": "0e346aab",
   "metadata": {},
   "source": []
  },
  {
   "cell_type": "markdown",
   "id": "cd0944f5",
   "metadata": {},
   "source": []
  },
  {
   "cell_type": "markdown",
   "id": "5f662be2",
   "metadata": {},
   "source": []
  },
  {
   "cell_type": "markdown",
   "id": "54372461",
   "metadata": {},
   "source": []
  },
  {
   "cell_type": "markdown",
   "id": "8ca2185b",
   "metadata": {},
   "source": []
  },
  {
   "cell_type": "markdown",
   "id": "467b9a7b",
   "metadata": {},
   "source": []
  },
  {
   "cell_type": "markdown",
   "id": "39c1716d",
   "metadata": {},
   "source": []
  },
  {
   "cell_type": "markdown",
   "id": "ca7d4008",
   "metadata": {},
   "source": []
  },
  {
   "cell_type": "markdown",
   "id": "507b05f3",
   "metadata": {},
   "source": []
  },
  {
   "cell_type": "markdown",
   "id": "c30490b4",
   "metadata": {},
   "source": []
  },
  {
   "cell_type": "markdown",
   "id": "ecf3ca57",
   "metadata": {},
   "source": []
  },
  {
   "cell_type": "markdown",
   "id": "7dd6e3aa",
   "metadata": {},
   "source": []
  },
  {
   "cell_type": "markdown",
   "id": "5db676ba",
   "metadata": {},
   "source": []
  },
  {
   "cell_type": "markdown",
   "id": "3b5c2f5d",
   "metadata": {},
   "source": []
  },
  {
   "cell_type": "markdown",
   "id": "e5f37c1f",
   "metadata": {},
   "source": []
  },
  {
   "cell_type": "markdown",
   "id": "21dbaee1",
   "metadata": {},
   "source": []
  },
  {
   "cell_type": "markdown",
   "id": "960a77db",
   "metadata": {},
   "source": []
  },
  {
   "cell_type": "markdown",
   "id": "0a5c86fd",
   "metadata": {},
   "source": []
  },
  {
   "cell_type": "markdown",
   "id": "6aea2ea9",
   "metadata": {},
   "source": []
  },
  {
   "cell_type": "markdown",
   "id": "69558c77",
   "metadata": {},
   "source": []
  },
  {
   "cell_type": "markdown",
   "id": "f6ebfae1",
   "metadata": {},
   "source": []
  },
  {
   "cell_type": "markdown",
   "id": "318cefae",
   "metadata": {},
   "source": []
  },
  {
   "cell_type": "markdown",
   "id": "31828571",
   "metadata": {},
   "source": []
  },
  {
   "cell_type": "markdown",
   "id": "504e2101",
   "metadata": {},
   "source": []
  },
  {
   "cell_type": "markdown",
   "id": "748aace5",
   "metadata": {},
   "source": []
  },
  {
   "cell_type": "markdown",
   "id": "13c692fc",
   "metadata": {},
   "source": []
  },
  {
   "cell_type": "markdown",
   "id": "6c6329b3",
   "metadata": {},
   "source": []
  },
  {
   "cell_type": "markdown",
   "id": "4a7ac7ea",
   "metadata": {},
   "source": []
  },
  {
   "cell_type": "markdown",
   "id": "d4fe39d6",
   "metadata": {},
   "source": []
  },
  {
   "cell_type": "markdown",
   "id": "f946e286",
   "metadata": {},
   "source": []
  },
  {
   "cell_type": "markdown",
   "id": "3c144030",
   "metadata": {},
   "source": []
  },
  {
   "cell_type": "markdown",
   "id": "30fc5522",
   "metadata": {},
   "source": []
  },
  {
   "cell_type": "markdown",
   "id": "6eef3535",
   "metadata": {},
   "source": []
  },
  {
   "cell_type": "markdown",
   "id": "6ed2e49d",
   "metadata": {},
   "source": []
  },
  {
   "cell_type": "markdown",
   "id": "a6aa40d4",
   "metadata": {},
   "source": []
  },
  {
   "cell_type": "markdown",
   "id": "c534df1f",
   "metadata": {},
   "source": []
  },
  {
   "cell_type": "markdown",
   "id": "71d3764f",
   "metadata": {},
   "source": []
  },
  {
   "cell_type": "markdown",
   "id": "d3be4b77",
   "metadata": {},
   "source": []
  },
  {
   "cell_type": "markdown",
   "id": "6753037e",
   "metadata": {},
   "source": []
  },
  {
   "cell_type": "markdown",
   "id": "86107d3e",
   "metadata": {},
   "source": []
  },
  {
   "cell_type": "markdown",
   "id": "7fa92a26",
   "metadata": {},
   "source": []
  },
  {
   "cell_type": "markdown",
   "id": "0f774c4f",
   "metadata": {},
   "source": []
  },
  {
   "cell_type": "markdown",
   "id": "85343580",
   "metadata": {},
   "source": []
  },
  {
   "cell_type": "markdown",
   "id": "74c201ad",
   "metadata": {},
   "source": []
  },
  {
   "cell_type": "markdown",
   "id": "d5e3fbd9",
   "metadata": {},
   "source": []
  },
  {
   "cell_type": "markdown",
   "id": "d1f2c2e5",
   "metadata": {},
   "source": []
  },
  {
   "cell_type": "markdown",
   "id": "f8e1185f",
   "metadata": {},
   "source": []
  },
  {
   "cell_type": "markdown",
   "id": "ca135f87",
   "metadata": {},
   "source": []
  },
  {
   "cell_type": "markdown",
   "id": "2dde3a62",
   "metadata": {},
   "source": []
  },
  {
   "cell_type": "markdown",
   "id": "48fcaaf5",
   "metadata": {},
   "source": []
  },
  {
   "cell_type": "markdown",
   "id": "ecc4896c",
   "metadata": {},
   "source": []
  },
  {
   "cell_type": "markdown",
   "id": "0e49d89f",
   "metadata": {},
   "source": []
  },
  {
   "cell_type": "markdown",
   "id": "96fe20b1",
   "metadata": {},
   "source": []
  },
  {
   "cell_type": "markdown",
   "id": "9a3085ed",
   "metadata": {},
   "source": []
  },
  {
   "cell_type": "markdown",
   "id": "2c7dbc32",
   "metadata": {},
   "source": []
  },
  {
   "cell_type": "markdown",
   "id": "2e0f7bc7",
   "metadata": {},
   "source": []
  },
  {
   "cell_type": "markdown",
   "id": "4a28dec7",
   "metadata": {},
   "source": []
  },
  {
   "cell_type": "markdown",
   "id": "72802016",
   "metadata": {},
   "source": []
  },
  {
   "cell_type": "markdown",
   "id": "d338db99",
   "metadata": {},
   "source": []
  },
  {
   "cell_type": "markdown",
   "id": "9a39127b",
   "metadata": {},
   "source": []
  },
  {
   "cell_type": "markdown",
   "id": "cbf62280",
   "metadata": {},
   "source": []
  },
  {
   "cell_type": "markdown",
   "id": "ae38aba7",
   "metadata": {},
   "source": []
  },
  {
   "cell_type": "markdown",
   "id": "6daf4dbc",
   "metadata": {},
   "source": []
  },
  {
   "cell_type": "markdown",
   "id": "1e33e74e",
   "metadata": {},
   "source": []
  },
  {
   "cell_type": "markdown",
   "id": "c19638ad",
   "metadata": {},
   "source": []
  },
  {
   "cell_type": "markdown",
   "id": "76b87fd3",
   "metadata": {},
   "source": []
  },
  {
   "cell_type": "markdown",
   "id": "2d6ca703",
   "metadata": {},
   "source": []
  },
  {
   "cell_type": "markdown",
   "id": "828948d1",
   "metadata": {},
   "source": []
  },
  {
   "cell_type": "markdown",
   "id": "bbc44e0c",
   "metadata": {},
   "source": []
  },
  {
   "cell_type": "markdown",
   "id": "c66fed66",
   "metadata": {},
   "source": []
  },
  {
   "cell_type": "markdown",
   "id": "154fbd3f",
   "metadata": {},
   "source": []
  },
  {
   "cell_type": "markdown",
   "id": "317b7c78",
   "metadata": {},
   "source": []
  },
  {
   "cell_type": "markdown",
   "id": "073c1916",
   "metadata": {},
   "source": []
  },
  {
   "cell_type": "markdown",
   "id": "69e0db98",
   "metadata": {},
   "source": []
  },
  {
   "cell_type": "markdown",
   "id": "4832604a",
   "metadata": {},
   "source": []
  },
  {
   "cell_type": "markdown",
   "id": "4fd443d1",
   "metadata": {},
   "source": []
  },
  {
   "cell_type": "markdown",
   "id": "8b197f84",
   "metadata": {},
   "source": []
  },
  {
   "cell_type": "markdown",
   "id": "c77c6fe7",
   "metadata": {},
   "source": []
  },
  {
   "cell_type": "markdown",
   "id": "37f76d88",
   "metadata": {},
   "source": []
  },
  {
   "cell_type": "markdown",
   "id": "d7e07f03",
   "metadata": {},
   "source": []
  },
  {
   "cell_type": "markdown",
   "id": "52d4b852",
   "metadata": {},
   "source": []
  },
  {
   "cell_type": "markdown",
   "id": "1cc941ec",
   "metadata": {},
   "source": []
  },
  {
   "cell_type": "markdown",
   "id": "523f0a91",
   "metadata": {},
   "source": []
  },
  {
   "cell_type": "markdown",
   "id": "5975a799",
   "metadata": {},
   "source": []
  },
  {
   "cell_type": "markdown",
   "id": "26aaba0e",
   "metadata": {},
   "source": []
  },
  {
   "cell_type": "markdown",
   "id": "d3e8673b",
   "metadata": {},
   "source": []
  },
  {
   "cell_type": "markdown",
   "id": "68bb3878",
   "metadata": {},
   "source": []
  },
  {
   "cell_type": "markdown",
   "id": "31ad506d",
   "metadata": {},
   "source": []
  },
  {
   "cell_type": "markdown",
   "id": "4364c539",
   "metadata": {},
   "source": []
  },
  {
   "cell_type": "markdown",
   "id": "675aa369",
   "metadata": {},
   "source": []
  },
  {
   "cell_type": "markdown",
   "id": "ff26df06",
   "metadata": {},
   "source": []
  },
  {
   "cell_type": "markdown",
   "id": "4cadeb64",
   "metadata": {},
   "source": []
  },
  {
   "cell_type": "markdown",
   "id": "529d9f66",
   "metadata": {},
   "source": []
  },
  {
   "cell_type": "markdown",
   "id": "231a4a23",
   "metadata": {},
   "source": []
  },
  {
   "cell_type": "markdown",
   "id": "7edd8a4b",
   "metadata": {},
   "source": []
  },
  {
   "cell_type": "markdown",
   "id": "8f81dea4",
   "metadata": {},
   "source": []
  },
  {
   "cell_type": "markdown",
   "id": "a9899d15",
   "metadata": {},
   "source": []
  },
  {
   "cell_type": "markdown",
   "id": "a6ac51df",
   "metadata": {},
   "source": []
  },
  {
   "cell_type": "markdown",
   "id": "b36762f4",
   "metadata": {},
   "source": []
  },
  {
   "cell_type": "markdown",
   "id": "17cde286",
   "metadata": {},
   "source": []
  },
  {
   "cell_type": "markdown",
   "id": "fa8bd323",
   "metadata": {},
   "source": []
  },
  {
   "cell_type": "markdown",
   "id": "aa3f3829",
   "metadata": {},
   "source": []
  },
  {
   "cell_type": "markdown",
   "id": "b7f1478e",
   "metadata": {},
   "source": []
  },
  {
   "cell_type": "markdown",
   "id": "49b670c1",
   "metadata": {},
   "source": []
  },
  {
   "cell_type": "markdown",
   "id": "416d2f19",
   "metadata": {},
   "source": []
  },
  {
   "cell_type": "markdown",
   "id": "d12dc9b1",
   "metadata": {},
   "source": []
  },
  {
   "cell_type": "markdown",
   "id": "8189ed9e",
   "metadata": {},
   "source": []
  },
  {
   "cell_type": "markdown",
   "id": "c2ab6920",
   "metadata": {},
   "source": []
  },
  {
   "cell_type": "markdown",
   "id": "72fdecf7",
   "metadata": {},
   "source": []
  },
  {
   "cell_type": "markdown",
   "id": "c443886c",
   "metadata": {},
   "source": []
  },
  {
   "cell_type": "markdown",
   "id": "572bd9c9",
   "metadata": {},
   "source": []
  },
  {
   "cell_type": "markdown",
   "id": "97aec4c2",
   "metadata": {},
   "source": []
  },
  {
   "cell_type": "markdown",
   "id": "548abf55",
   "metadata": {},
   "source": []
  },
  {
   "cell_type": "markdown",
   "id": "139d8f31",
   "metadata": {},
   "source": []
  },
  {
   "cell_type": "markdown",
   "id": "503d484f",
   "metadata": {},
   "source": []
  },
  {
   "cell_type": "markdown",
   "id": "b2dfa054",
   "metadata": {},
   "source": []
  },
  {
   "cell_type": "markdown",
   "id": "db8505a0",
   "metadata": {},
   "source": []
  },
  {
   "cell_type": "markdown",
   "id": "d584d678",
   "metadata": {},
   "source": []
  },
  {
   "cell_type": "markdown",
   "id": "1bdea0b9",
   "metadata": {},
   "source": []
  },
  {
   "cell_type": "markdown",
   "id": "2d690bbf",
   "metadata": {},
   "source": []
  },
  {
   "cell_type": "markdown",
   "id": "84980e58",
   "metadata": {},
   "source": []
  },
  {
   "cell_type": "markdown",
   "id": "6c0bf28a",
   "metadata": {},
   "source": []
  },
  {
   "cell_type": "markdown",
   "id": "b356370a",
   "metadata": {},
   "source": []
  },
  {
   "cell_type": "markdown",
   "id": "dadc0948",
   "metadata": {},
   "source": []
  },
  {
   "cell_type": "markdown",
   "id": "328bfea8",
   "metadata": {},
   "source": []
  },
  {
   "cell_type": "markdown",
   "id": "7031f32b",
   "metadata": {},
   "source": []
  },
  {
   "cell_type": "markdown",
   "id": "3157966f",
   "metadata": {},
   "source": []
  },
  {
   "cell_type": "markdown",
   "id": "54286c6f",
   "metadata": {},
   "source": []
  },
  {
   "cell_type": "markdown",
   "id": "62a0ef77",
   "metadata": {},
   "source": []
  },
  {
   "cell_type": "markdown",
   "id": "27826299",
   "metadata": {},
   "source": []
  },
  {
   "cell_type": "markdown",
   "id": "3590605c",
   "metadata": {},
   "source": []
  },
  {
   "cell_type": "markdown",
   "id": "ae052755",
   "metadata": {},
   "source": []
  },
  {
   "cell_type": "markdown",
   "id": "8a873dce",
   "metadata": {},
   "source": []
  },
  {
   "cell_type": "markdown",
   "id": "2b0c2ba9",
   "metadata": {},
   "source": []
  }
 ],
 "metadata": {
  "kernelspec": {
   "display_name": "Python 3 (ipykernel)",
   "language": "python",
   "name": "python3"
  },
  "language_info": {
   "codemirror_mode": {
    "name": "ipython",
    "version": 3
   },
   "file_extension": ".py",
   "mimetype": "text/x-python",
   "name": "python",
   "nbconvert_exporter": "python",
   "pygments_lexer": "ipython3",
   "version": "3.9.15"
  }
 },
 "nbformat": 4,
 "nbformat_minor": 5
}
