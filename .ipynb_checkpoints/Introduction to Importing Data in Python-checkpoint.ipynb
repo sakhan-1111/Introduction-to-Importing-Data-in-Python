{
 "cells": [
  {
   "cell_type": "markdown",
   "id": "f0dd245f",
   "metadata": {},
   "source": [
    "# 1 Introduction and flat files\n",
    "\n",
    "In this chapter, you'll learn how to import data into Python from all types of flat files, which are a simple and prevalent form of data storage. You've previously learned how to use NumPy and pandas—you will learn how to use these packages to import flat files and customize your imports."
   ]
  },
  {
   "cell_type": "markdown",
   "id": "bc98dc29",
   "metadata": {},
   "source": [
    "## 1.1 Welcome to the course!"
   ]
  },
  {
   "cell_type": "markdown",
   "id": "056b570c",
   "metadata": {},
   "source": [
    "## 1.2 Exploring your working directory\n",
    "\n",
    "In order to import data into Python, you should first have an idea of what files are in your working directory.\n",
    "\n",
    "IPython, which is running on DataCamp's servers, has a bunch of cool commands, including its [magic commands](https://ipython.readthedocs.io/en/stable/overview.html). For example, starting a line with `!` gives you complete system shell access. This means that the IPython magic command `! ls` will display the contents of your current directory. Your task is to use the IPython magic command `! ls` to check out the contents of your current directory and answer the following question: which of the following files is in your working directory?"
   ]
  },
  {
   "cell_type": "markdown",
   "id": "51424bb4",
   "metadata": {},
   "source": [
    "### 1.2.1 Instructions\n",
    "\n",
    "### Possible Answers\n",
    "\n",
    "- [ ] `huck_finn.txt`\n",
    "\n",
    "\n",
    "- [ ] `titanic.csv`\n",
    "\n",
    "\n",
    "- [x] `moby_dick.txt`"
   ]
  },
  {
   "cell_type": "markdown",
   "id": "01fe0293",
   "metadata": {},
   "source": [
    "## 1.3 Importing entire text files\n",
    "\n",
    "In this exercise, you'll be working with the file `moby_dick.txt`. It is a text file that contains the opening sentences of Moby Dick, one of the great American novels! Here you'll get experience opening a text file, printing its contents to the shell and, finally, closing it."
   ]
  },
  {
   "cell_type": "markdown",
   "id": "c86fab65",
   "metadata": {},
   "source": [
    "### 1.3.1 Instructions\n",
    "\n",
    "- Open the file `moby_dick.txt` as *read-only* and store it in the variable `file`. Make sure to pass the filename enclosed in quotation marks `''`.\n",
    "- Print the contents of the file to the shell using the `print()` function. As Hugo showed in the video, you'll need to apply the method `read()` to the object `file`.\n",
    "- Check whether the file is closed by executing `print(file.closed)`.\n",
    "- Close the file using the `close()` method.\n",
    "- Check again that the file is closed as you did above."
   ]
  },
  {
   "cell_type": "markdown",
   "id": "e9269a5b",
   "metadata": {},
   "source": [
    "## 1.4 Importing text files line by line\n",
    "\n",
    "For large files, we may not want to print all of their content to the shell: you may wish to print only the first few lines. Enter the `readline()` method, which allows you to do this. When a file called `file` is open, you can print out the first line by executing `file.readline()`. If you execute the same command again, the second line will print, and so on.\n",
    "\n",
    "In the introductory video, Hugo also introduced the concept of a **context manager**. He showed that you can bind a variable `file` by using a context manager construct:\n",
    "\n",
    "```python\n",
    "with open('huck_finn.txt') as file:\n",
    "```\n",
    "\n",
    "While still within this construct, the variable `file` will be bound to `open('huck_finn.txt')`; thus, to print the file to the shell, all the code you need to execute is:\n",
    "\n",
    "```python\n",
    "with open('huck_finn.txt') as file:\n",
    "    print(file.readline())\n",
    "```\n",
    "\n",
    "You'll now use these tools to print the first few lines of `moby_dick.txt`!"
   ]
  },
  {
   "cell_type": "markdown",
   "id": "a19ade71",
   "metadata": {},
   "source": [
    "### 1.4.1 Instructions\n",
    "\n",
    "- Open `moby_dick.txt` using the `with` context manager and the variable `file`.\n",
    "- Print the first three lines of the file to the shell by using `readline()` three times within the context manager."
   ]
  },
  {
   "cell_type": "markdown",
   "id": "09171fca",
   "metadata": {},
   "source": [
    "## 1.5 The importance of flat files in data science"
   ]
  },
  {
   "cell_type": "markdown",
   "id": "33b8695a",
   "metadata": {},
   "source": []
  },
  {
   "cell_type": "markdown",
   "id": "3fc46ea9",
   "metadata": {},
   "source": []
  },
  {
   "cell_type": "markdown",
   "id": "b12949be",
   "metadata": {},
   "source": []
  },
  {
   "cell_type": "markdown",
   "id": "9cd18a62",
   "metadata": {},
   "source": []
  },
  {
   "cell_type": "markdown",
   "id": "ee5de699",
   "metadata": {},
   "source": []
  },
  {
   "cell_type": "markdown",
   "id": "9df2aa8e",
   "metadata": {},
   "source": []
  },
  {
   "cell_type": "markdown",
   "id": "9949e73f",
   "metadata": {},
   "source": []
  },
  {
   "cell_type": "markdown",
   "id": "9c1800a3",
   "metadata": {},
   "source": []
  },
  {
   "cell_type": "markdown",
   "id": "6f952602",
   "metadata": {},
   "source": []
  },
  {
   "cell_type": "markdown",
   "id": "730d03e1",
   "metadata": {},
   "source": []
  },
  {
   "cell_type": "markdown",
   "id": "0c45bf53",
   "metadata": {},
   "source": []
  },
  {
   "cell_type": "markdown",
   "id": "2e48c365",
   "metadata": {},
   "source": []
  },
  {
   "cell_type": "markdown",
   "id": "e519ce7b",
   "metadata": {},
   "source": []
  },
  {
   "cell_type": "markdown",
   "id": "202ec405",
   "metadata": {},
   "source": []
  },
  {
   "cell_type": "markdown",
   "id": "bebba456",
   "metadata": {},
   "source": []
  },
  {
   "cell_type": "markdown",
   "id": "8b874e5c",
   "metadata": {},
   "source": []
  },
  {
   "cell_type": "markdown",
   "id": "f75034e7",
   "metadata": {},
   "source": []
  },
  {
   "cell_type": "markdown",
   "id": "0a489482",
   "metadata": {},
   "source": []
  },
  {
   "cell_type": "markdown",
   "id": "b191b6ce",
   "metadata": {},
   "source": []
  },
  {
   "cell_type": "markdown",
   "id": "c37287df",
   "metadata": {},
   "source": []
  },
  {
   "cell_type": "markdown",
   "id": "d0f275e5",
   "metadata": {},
   "source": []
  },
  {
   "cell_type": "markdown",
   "id": "93364300",
   "metadata": {},
   "source": []
  },
  {
   "cell_type": "markdown",
   "id": "f793d69b",
   "metadata": {},
   "source": []
  },
  {
   "cell_type": "markdown",
   "id": "0cb49b07",
   "metadata": {},
   "source": []
  },
  {
   "cell_type": "markdown",
   "id": "6388d7fd",
   "metadata": {},
   "source": []
  },
  {
   "cell_type": "markdown",
   "id": "78a17eac",
   "metadata": {},
   "source": []
  },
  {
   "cell_type": "markdown",
   "id": "cfb1958a",
   "metadata": {},
   "source": []
  },
  {
   "cell_type": "markdown",
   "id": "28638513",
   "metadata": {},
   "source": []
  },
  {
   "cell_type": "markdown",
   "id": "151b1f8c",
   "metadata": {},
   "source": []
  },
  {
   "cell_type": "markdown",
   "id": "c122d7ac",
   "metadata": {},
   "source": []
  },
  {
   "cell_type": "markdown",
   "id": "752ac3db",
   "metadata": {},
   "source": []
  },
  {
   "cell_type": "markdown",
   "id": "14684e5d",
   "metadata": {},
   "source": []
  },
  {
   "cell_type": "markdown",
   "id": "9bb92432",
   "metadata": {},
   "source": []
  },
  {
   "cell_type": "markdown",
   "id": "379b5743",
   "metadata": {},
   "source": []
  },
  {
   "cell_type": "markdown",
   "id": "f11e9bc2",
   "metadata": {},
   "source": []
  },
  {
   "cell_type": "markdown",
   "id": "225ad9d4",
   "metadata": {},
   "source": []
  },
  {
   "cell_type": "markdown",
   "id": "92a15c6b",
   "metadata": {},
   "source": []
  },
  {
   "cell_type": "markdown",
   "id": "de162ffc",
   "metadata": {},
   "source": []
  },
  {
   "cell_type": "markdown",
   "id": "391427f9",
   "metadata": {},
   "source": []
  },
  {
   "cell_type": "markdown",
   "id": "c5fe9315",
   "metadata": {},
   "source": []
  },
  {
   "cell_type": "markdown",
   "id": "478da737",
   "metadata": {},
   "source": []
  },
  {
   "cell_type": "markdown",
   "id": "958ebfc3",
   "metadata": {},
   "source": []
  },
  {
   "cell_type": "markdown",
   "id": "09d268b1",
   "metadata": {},
   "source": []
  },
  {
   "cell_type": "markdown",
   "id": "e206b36b",
   "metadata": {},
   "source": []
  },
  {
   "cell_type": "markdown",
   "id": "6102d835",
   "metadata": {},
   "source": []
  },
  {
   "cell_type": "markdown",
   "id": "aa77f53d",
   "metadata": {},
   "source": []
  },
  {
   "cell_type": "markdown",
   "id": "86125613",
   "metadata": {},
   "source": []
  },
  {
   "cell_type": "markdown",
   "id": "1b7368f8",
   "metadata": {},
   "source": []
  },
  {
   "cell_type": "markdown",
   "id": "d5a1fc94",
   "metadata": {},
   "source": []
  },
  {
   "cell_type": "markdown",
   "id": "5a42c282",
   "metadata": {},
   "source": []
  },
  {
   "cell_type": "markdown",
   "id": "c3fff073",
   "metadata": {},
   "source": []
  },
  {
   "cell_type": "markdown",
   "id": "61bcee3c",
   "metadata": {},
   "source": []
  },
  {
   "cell_type": "markdown",
   "id": "7e56db8a",
   "metadata": {},
   "source": []
  },
  {
   "cell_type": "markdown",
   "id": "8a5620bd",
   "metadata": {},
   "source": []
  },
  {
   "cell_type": "markdown",
   "id": "7c4eaa32",
   "metadata": {},
   "source": []
  },
  {
   "cell_type": "markdown",
   "id": "02ec175b",
   "metadata": {},
   "source": []
  },
  {
   "cell_type": "markdown",
   "id": "b37a53d1",
   "metadata": {},
   "source": []
  },
  {
   "cell_type": "markdown",
   "id": "7eb1d931",
   "metadata": {},
   "source": []
  },
  {
   "cell_type": "markdown",
   "id": "7884992e",
   "metadata": {},
   "source": []
  },
  {
   "cell_type": "markdown",
   "id": "745061fa",
   "metadata": {},
   "source": []
  },
  {
   "cell_type": "markdown",
   "id": "3dc820c7",
   "metadata": {},
   "source": []
  },
  {
   "cell_type": "markdown",
   "id": "df640545",
   "metadata": {},
   "source": []
  },
  {
   "cell_type": "markdown",
   "id": "fb4cc970",
   "metadata": {},
   "source": []
  },
  {
   "cell_type": "markdown",
   "id": "4916a00a",
   "metadata": {},
   "source": []
  },
  {
   "cell_type": "markdown",
   "id": "ed6555bd",
   "metadata": {},
   "source": []
  },
  {
   "cell_type": "markdown",
   "id": "e07e4e7d",
   "metadata": {},
   "source": []
  },
  {
   "cell_type": "markdown",
   "id": "f5f08582",
   "metadata": {},
   "source": []
  },
  {
   "cell_type": "markdown",
   "id": "7eb7d59b",
   "metadata": {},
   "source": []
  },
  {
   "cell_type": "markdown",
   "id": "3d65edc4",
   "metadata": {},
   "source": []
  },
  {
   "cell_type": "markdown",
   "id": "34f2711f",
   "metadata": {},
   "source": []
  },
  {
   "cell_type": "markdown",
   "id": "d0fd9d10",
   "metadata": {},
   "source": []
  },
  {
   "cell_type": "markdown",
   "id": "521591e0",
   "metadata": {},
   "source": []
  },
  {
   "cell_type": "markdown",
   "id": "8be462fb",
   "metadata": {},
   "source": []
  },
  {
   "cell_type": "markdown",
   "id": "92e40fd6",
   "metadata": {},
   "source": []
  },
  {
   "cell_type": "markdown",
   "id": "0df88377",
   "metadata": {},
   "source": []
  },
  {
   "cell_type": "markdown",
   "id": "bf9dabac",
   "metadata": {},
   "source": []
  },
  {
   "cell_type": "markdown",
   "id": "ca4ae722",
   "metadata": {},
   "source": []
  },
  {
   "cell_type": "markdown",
   "id": "ecfe1869",
   "metadata": {},
   "source": []
  },
  {
   "cell_type": "markdown",
   "id": "2a84d099",
   "metadata": {},
   "source": []
  },
  {
   "cell_type": "markdown",
   "id": "f3f435ad",
   "metadata": {},
   "source": []
  },
  {
   "cell_type": "markdown",
   "id": "f1a898e2",
   "metadata": {},
   "source": []
  },
  {
   "cell_type": "markdown",
   "id": "b1afe9c5",
   "metadata": {},
   "source": []
  },
  {
   "cell_type": "markdown",
   "id": "10e40ddb",
   "metadata": {},
   "source": []
  },
  {
   "cell_type": "markdown",
   "id": "462eb38a",
   "metadata": {},
   "source": []
  },
  {
   "cell_type": "markdown",
   "id": "7a7cf7d5",
   "metadata": {},
   "source": []
  },
  {
   "cell_type": "markdown",
   "id": "f493d882",
   "metadata": {},
   "source": []
  },
  {
   "cell_type": "markdown",
   "id": "fa72b9d7",
   "metadata": {},
   "source": []
  },
  {
   "cell_type": "markdown",
   "id": "6f641431",
   "metadata": {},
   "source": []
  },
  {
   "cell_type": "markdown",
   "id": "06979960",
   "metadata": {},
   "source": []
  },
  {
   "cell_type": "markdown",
   "id": "a686e82f",
   "metadata": {},
   "source": []
  },
  {
   "cell_type": "markdown",
   "id": "6c25daf0",
   "metadata": {},
   "source": []
  },
  {
   "cell_type": "markdown",
   "id": "4c87bfed",
   "metadata": {},
   "source": []
  },
  {
   "cell_type": "markdown",
   "id": "3bbcad9f",
   "metadata": {},
   "source": []
  },
  {
   "cell_type": "markdown",
   "id": "0f447e76",
   "metadata": {},
   "source": []
  },
  {
   "cell_type": "markdown",
   "id": "e6eaaef6",
   "metadata": {},
   "source": []
  },
  {
   "cell_type": "markdown",
   "id": "5de0cd3f",
   "metadata": {},
   "source": []
  },
  {
   "cell_type": "markdown",
   "id": "ac08b682",
   "metadata": {},
   "source": []
  },
  {
   "cell_type": "markdown",
   "id": "9bb3beef",
   "metadata": {},
   "source": []
  },
  {
   "cell_type": "markdown",
   "id": "ae1cec6e",
   "metadata": {},
   "source": []
  },
  {
   "cell_type": "markdown",
   "id": "47c989b5",
   "metadata": {},
   "source": []
  },
  {
   "cell_type": "markdown",
   "id": "b693ad50",
   "metadata": {},
   "source": []
  },
  {
   "cell_type": "markdown",
   "id": "c7ef8151",
   "metadata": {},
   "source": []
  },
  {
   "cell_type": "markdown",
   "id": "4d2642b1",
   "metadata": {},
   "source": []
  },
  {
   "cell_type": "markdown",
   "id": "8d84b2cb",
   "metadata": {},
   "source": []
  },
  {
   "cell_type": "markdown",
   "id": "72d06ca9",
   "metadata": {},
   "source": []
  },
  {
   "cell_type": "markdown",
   "id": "a9907ee3",
   "metadata": {},
   "source": []
  },
  {
   "cell_type": "markdown",
   "id": "70cbe8c5",
   "metadata": {},
   "source": []
  },
  {
   "cell_type": "markdown",
   "id": "34c49392",
   "metadata": {},
   "source": []
  },
  {
   "cell_type": "markdown",
   "id": "f4b525bf",
   "metadata": {},
   "source": []
  },
  {
   "cell_type": "markdown",
   "id": "a0d20b3e",
   "metadata": {},
   "source": []
  },
  {
   "cell_type": "markdown",
   "id": "2e4c54ce",
   "metadata": {},
   "source": []
  },
  {
   "cell_type": "markdown",
   "id": "df315c30",
   "metadata": {},
   "source": []
  },
  {
   "cell_type": "markdown",
   "id": "c1aee90f",
   "metadata": {},
   "source": []
  },
  {
   "cell_type": "markdown",
   "id": "e31b3985",
   "metadata": {},
   "source": []
  },
  {
   "cell_type": "markdown",
   "id": "c7b51ede",
   "metadata": {},
   "source": []
  },
  {
   "cell_type": "markdown",
   "id": "0c8dfbad",
   "metadata": {},
   "source": []
  },
  {
   "cell_type": "markdown",
   "id": "c9a9ebaf",
   "metadata": {},
   "source": []
  },
  {
   "cell_type": "markdown",
   "id": "b6185e43",
   "metadata": {},
   "source": []
  },
  {
   "cell_type": "markdown",
   "id": "a3ce38d7",
   "metadata": {},
   "source": []
  },
  {
   "cell_type": "markdown",
   "id": "9622fdb1",
   "metadata": {},
   "source": []
  },
  {
   "cell_type": "markdown",
   "id": "9a7e8cbd",
   "metadata": {},
   "source": []
  },
  {
   "cell_type": "markdown",
   "id": "37fe5c2c",
   "metadata": {},
   "source": []
  },
  {
   "cell_type": "markdown",
   "id": "5c9e926b",
   "metadata": {},
   "source": []
  },
  {
   "cell_type": "markdown",
   "id": "11d09e71",
   "metadata": {},
   "source": []
  },
  {
   "cell_type": "markdown",
   "id": "9d2f8fff",
   "metadata": {},
   "source": []
  },
  {
   "cell_type": "markdown",
   "id": "bff3e5a6",
   "metadata": {},
   "source": []
  },
  {
   "cell_type": "markdown",
   "id": "7a4c5e8b",
   "metadata": {},
   "source": []
  },
  {
   "cell_type": "markdown",
   "id": "7ad5c30c",
   "metadata": {},
   "source": []
  },
  {
   "cell_type": "markdown",
   "id": "b3308146",
   "metadata": {},
   "source": []
  },
  {
   "cell_type": "markdown",
   "id": "8812dd88",
   "metadata": {},
   "source": []
  },
  {
   "cell_type": "markdown",
   "id": "4cb319f0",
   "metadata": {},
   "source": []
  },
  {
   "cell_type": "markdown",
   "id": "b26ea69d",
   "metadata": {},
   "source": []
  },
  {
   "cell_type": "markdown",
   "id": "8b34398f",
   "metadata": {},
   "source": []
  },
  {
   "cell_type": "markdown",
   "id": "647bdff9",
   "metadata": {},
   "source": []
  },
  {
   "cell_type": "markdown",
   "id": "2bef7ccb",
   "metadata": {},
   "source": []
  },
  {
   "cell_type": "markdown",
   "id": "b17fca95",
   "metadata": {},
   "source": []
  },
  {
   "cell_type": "markdown",
   "id": "32f8b33f",
   "metadata": {},
   "source": []
  },
  {
   "cell_type": "markdown",
   "id": "157de015",
   "metadata": {},
   "source": []
  },
  {
   "cell_type": "markdown",
   "id": "ad396104",
   "metadata": {},
   "source": []
  },
  {
   "cell_type": "markdown",
   "id": "9ca936fd",
   "metadata": {},
   "source": []
  },
  {
   "cell_type": "markdown",
   "id": "16069903",
   "metadata": {},
   "source": []
  },
  {
   "cell_type": "markdown",
   "id": "4691b8ff",
   "metadata": {},
   "source": []
  },
  {
   "cell_type": "markdown",
   "id": "393a9664",
   "metadata": {},
   "source": []
  },
  {
   "cell_type": "markdown",
   "id": "d4366e32",
   "metadata": {},
   "source": []
  },
  {
   "cell_type": "markdown",
   "id": "91c24afa",
   "metadata": {},
   "source": []
  },
  {
   "cell_type": "markdown",
   "id": "4c74023f",
   "metadata": {},
   "source": []
  }
 ],
 "metadata": {
  "kernelspec": {
   "display_name": "Python 3 (ipykernel)",
   "language": "python",
   "name": "python3"
  },
  "language_info": {
   "codemirror_mode": {
    "name": "ipython",
    "version": 3
   },
   "file_extension": ".py",
   "mimetype": "text/x-python",
   "name": "python",
   "nbconvert_exporter": "python",
   "pygments_lexer": "ipython3",
   "version": "3.9.15"
  }
 },
 "nbformat": 4,
 "nbformat_minor": 5
}
