{
 "cells": [
  {
   "cell_type": "markdown",
   "id": "e539cbdd",
   "metadata": {},
   "source": [
    "# 1 Introduction and flat files\n",
    "\n",
    "In this chapter, you'll learn how to import data into Python from all types of flat files, which are a simple and prevalent form of data storage. You've previously learned how to use NumPy and pandas—you will learn how to use these packages to import flat files and customize your imports."
   ]
  },
  {
   "cell_type": "markdown",
   "id": "1eb8ee48",
   "metadata": {},
   "source": [
    "## 1.1 Welcome to the course!"
   ]
  },
  {
   "cell_type": "markdown",
   "id": "1ccc33ac",
   "metadata": {},
   "source": []
  },
  {
   "cell_type": "markdown",
   "id": "602b4ef9",
   "metadata": {},
   "source": []
  },
  {
   "cell_type": "markdown",
   "id": "0af81d5a",
   "metadata": {},
   "source": []
  },
  {
   "cell_type": "markdown",
   "id": "cdbb4d2c",
   "metadata": {},
   "source": []
  },
  {
   "cell_type": "markdown",
   "id": "05c4075d",
   "metadata": {},
   "source": []
  },
  {
   "cell_type": "markdown",
   "id": "b0da73dd",
   "metadata": {},
   "source": []
  },
  {
   "cell_type": "markdown",
   "id": "6dcec5d3",
   "metadata": {},
   "source": []
  },
  {
   "cell_type": "markdown",
   "id": "a469f48d",
   "metadata": {},
   "source": []
  },
  {
   "cell_type": "markdown",
   "id": "61ed54fc",
   "metadata": {},
   "source": []
  },
  {
   "cell_type": "markdown",
   "id": "ca243f56",
   "metadata": {},
   "source": []
  },
  {
   "cell_type": "markdown",
   "id": "a3c2f434",
   "metadata": {},
   "source": []
  },
  {
   "cell_type": "markdown",
   "id": "5bae54d2",
   "metadata": {},
   "source": []
  },
  {
   "cell_type": "markdown",
   "id": "2b6c6814",
   "metadata": {},
   "source": []
  },
  {
   "cell_type": "markdown",
   "id": "d05d2363",
   "metadata": {},
   "source": []
  },
  {
   "cell_type": "markdown",
   "id": "e1298fe8",
   "metadata": {},
   "source": []
  },
  {
   "cell_type": "markdown",
   "id": "4a7fc8e2",
   "metadata": {},
   "source": []
  },
  {
   "cell_type": "markdown",
   "id": "daafb7a5",
   "metadata": {},
   "source": []
  },
  {
   "cell_type": "markdown",
   "id": "00988249",
   "metadata": {},
   "source": []
  },
  {
   "cell_type": "markdown",
   "id": "7c9a472f",
   "metadata": {},
   "source": []
  },
  {
   "cell_type": "markdown",
   "id": "c021fe00",
   "metadata": {},
   "source": []
  },
  {
   "cell_type": "markdown",
   "id": "34f955bd",
   "metadata": {},
   "source": []
  },
  {
   "cell_type": "markdown",
   "id": "c0f656b4",
   "metadata": {},
   "source": []
  },
  {
   "cell_type": "markdown",
   "id": "b3390a94",
   "metadata": {},
   "source": []
  },
  {
   "cell_type": "markdown",
   "id": "3c83018e",
   "metadata": {},
   "source": []
  },
  {
   "cell_type": "markdown",
   "id": "890b996a",
   "metadata": {},
   "source": []
  },
  {
   "cell_type": "markdown",
   "id": "826561b4",
   "metadata": {},
   "source": []
  },
  {
   "cell_type": "markdown",
   "id": "e499f055",
   "metadata": {},
   "source": []
  },
  {
   "cell_type": "markdown",
   "id": "3573a9c8",
   "metadata": {},
   "source": []
  },
  {
   "cell_type": "markdown",
   "id": "04dbc830",
   "metadata": {},
   "source": []
  },
  {
   "cell_type": "markdown",
   "id": "7e3c7007",
   "metadata": {},
   "source": []
  },
  {
   "cell_type": "markdown",
   "id": "cfdba6bc",
   "metadata": {},
   "source": []
  },
  {
   "cell_type": "markdown",
   "id": "16861d19",
   "metadata": {},
   "source": []
  },
  {
   "cell_type": "markdown",
   "id": "d999fa84",
   "metadata": {},
   "source": []
  },
  {
   "cell_type": "markdown",
   "id": "c150d278",
   "metadata": {},
   "source": []
  },
  {
   "cell_type": "markdown",
   "id": "63b65533",
   "metadata": {},
   "source": []
  },
  {
   "cell_type": "markdown",
   "id": "93690a40",
   "metadata": {},
   "source": []
  },
  {
   "cell_type": "markdown",
   "id": "64747790",
   "metadata": {},
   "source": []
  },
  {
   "cell_type": "markdown",
   "id": "a34281cc",
   "metadata": {},
   "source": []
  },
  {
   "cell_type": "markdown",
   "id": "152992d3",
   "metadata": {},
   "source": []
  },
  {
   "cell_type": "markdown",
   "id": "51ab6a75",
   "metadata": {},
   "source": []
  },
  {
   "cell_type": "markdown",
   "id": "fcd001ea",
   "metadata": {},
   "source": []
  },
  {
   "cell_type": "markdown",
   "id": "1a424cad",
   "metadata": {},
   "source": []
  },
  {
   "cell_type": "markdown",
   "id": "60f1c47a",
   "metadata": {},
   "source": []
  },
  {
   "cell_type": "markdown",
   "id": "2ecb2476",
   "metadata": {},
   "source": []
  },
  {
   "cell_type": "markdown",
   "id": "57dd71b6",
   "metadata": {},
   "source": []
  },
  {
   "cell_type": "markdown",
   "id": "f10dce1f",
   "metadata": {},
   "source": []
  },
  {
   "cell_type": "markdown",
   "id": "b20993de",
   "metadata": {},
   "source": []
  },
  {
   "cell_type": "markdown",
   "id": "318f1757",
   "metadata": {},
   "source": []
  },
  {
   "cell_type": "markdown",
   "id": "2eade708",
   "metadata": {},
   "source": []
  },
  {
   "cell_type": "markdown",
   "id": "b4cde441",
   "metadata": {},
   "source": []
  },
  {
   "cell_type": "markdown",
   "id": "af7ada04",
   "metadata": {},
   "source": []
  },
  {
   "cell_type": "markdown",
   "id": "cf010a45",
   "metadata": {},
   "source": []
  },
  {
   "cell_type": "markdown",
   "id": "852c7fca",
   "metadata": {},
   "source": []
  },
  {
   "cell_type": "markdown",
   "id": "fa9af4c2",
   "metadata": {},
   "source": []
  },
  {
   "cell_type": "markdown",
   "id": "c8e9d442",
   "metadata": {},
   "source": []
  },
  {
   "cell_type": "markdown",
   "id": "c2d2d601",
   "metadata": {},
   "source": []
  },
  {
   "cell_type": "markdown",
   "id": "4534e8c8",
   "metadata": {},
   "source": []
  },
  {
   "cell_type": "markdown",
   "id": "291b80db",
   "metadata": {},
   "source": []
  },
  {
   "cell_type": "markdown",
   "id": "5c58bfe7",
   "metadata": {},
   "source": []
  },
  {
   "cell_type": "markdown",
   "id": "d1972dca",
   "metadata": {},
   "source": []
  },
  {
   "cell_type": "markdown",
   "id": "fe213504",
   "metadata": {},
   "source": []
  },
  {
   "cell_type": "markdown",
   "id": "337afe0f",
   "metadata": {},
   "source": []
  },
  {
   "cell_type": "markdown",
   "id": "0d93a137",
   "metadata": {},
   "source": []
  },
  {
   "cell_type": "markdown",
   "id": "12c9bb6b",
   "metadata": {},
   "source": []
  },
  {
   "cell_type": "markdown",
   "id": "7bb370fe",
   "metadata": {},
   "source": []
  },
  {
   "cell_type": "markdown",
   "id": "6241c3e6",
   "metadata": {},
   "source": []
  },
  {
   "cell_type": "markdown",
   "id": "9e53f2aa",
   "metadata": {},
   "source": []
  },
  {
   "cell_type": "markdown",
   "id": "863f2508",
   "metadata": {},
   "source": []
  },
  {
   "cell_type": "markdown",
   "id": "9fabfdf5",
   "metadata": {},
   "source": []
  },
  {
   "cell_type": "markdown",
   "id": "6e5270a7",
   "metadata": {},
   "source": []
  },
  {
   "cell_type": "markdown",
   "id": "8379cdf4",
   "metadata": {},
   "source": []
  },
  {
   "cell_type": "markdown",
   "id": "614d8a4d",
   "metadata": {},
   "source": []
  },
  {
   "cell_type": "markdown",
   "id": "ab7035bd",
   "metadata": {},
   "source": []
  },
  {
   "cell_type": "markdown",
   "id": "362f7772",
   "metadata": {},
   "source": []
  },
  {
   "cell_type": "markdown",
   "id": "ae795088",
   "metadata": {},
   "source": []
  },
  {
   "cell_type": "markdown",
   "id": "d21a263b",
   "metadata": {},
   "source": []
  },
  {
   "cell_type": "markdown",
   "id": "6f5c575f",
   "metadata": {},
   "source": []
  },
  {
   "cell_type": "markdown",
   "id": "3cf6b0e4",
   "metadata": {},
   "source": []
  },
  {
   "cell_type": "markdown",
   "id": "9b49f76d",
   "metadata": {},
   "source": []
  },
  {
   "cell_type": "markdown",
   "id": "b3a1f75d",
   "metadata": {},
   "source": []
  },
  {
   "cell_type": "markdown",
   "id": "b5cd7b81",
   "metadata": {},
   "source": []
  },
  {
   "cell_type": "markdown",
   "id": "2863b42d",
   "metadata": {},
   "source": []
  },
  {
   "cell_type": "markdown",
   "id": "53cab2b6",
   "metadata": {},
   "source": []
  },
  {
   "cell_type": "markdown",
   "id": "e8728f39",
   "metadata": {},
   "source": []
  },
  {
   "cell_type": "markdown",
   "id": "2e191428",
   "metadata": {},
   "source": []
  },
  {
   "cell_type": "markdown",
   "id": "52491bfd",
   "metadata": {},
   "source": []
  },
  {
   "cell_type": "markdown",
   "id": "3c8eaa8c",
   "metadata": {},
   "source": []
  },
  {
   "cell_type": "markdown",
   "id": "a022c917",
   "metadata": {},
   "source": []
  },
  {
   "cell_type": "markdown",
   "id": "738af9f8",
   "metadata": {},
   "source": []
  },
  {
   "cell_type": "markdown",
   "id": "8228156b",
   "metadata": {},
   "source": []
  },
  {
   "cell_type": "markdown",
   "id": "0e530e6e",
   "metadata": {},
   "source": []
  },
  {
   "cell_type": "markdown",
   "id": "ffed7780",
   "metadata": {},
   "source": []
  },
  {
   "cell_type": "markdown",
   "id": "003afe09",
   "metadata": {},
   "source": []
  },
  {
   "cell_type": "markdown",
   "id": "5ab1b6e0",
   "metadata": {},
   "source": []
  },
  {
   "cell_type": "markdown",
   "id": "a1752bc9",
   "metadata": {},
   "source": []
  },
  {
   "cell_type": "markdown",
   "id": "dab0205d",
   "metadata": {},
   "source": []
  },
  {
   "cell_type": "markdown",
   "id": "d2ea6c43",
   "metadata": {},
   "source": []
  },
  {
   "cell_type": "markdown",
   "id": "5dbf0651",
   "metadata": {},
   "source": []
  },
  {
   "cell_type": "markdown",
   "id": "17acce5e",
   "metadata": {},
   "source": []
  },
  {
   "cell_type": "markdown",
   "id": "4ed75908",
   "metadata": {},
   "source": []
  },
  {
   "cell_type": "markdown",
   "id": "729accd5",
   "metadata": {},
   "source": []
  },
  {
   "cell_type": "markdown",
   "id": "51bf9f29",
   "metadata": {},
   "source": []
  },
  {
   "cell_type": "markdown",
   "id": "3eb53033",
   "metadata": {},
   "source": []
  },
  {
   "cell_type": "markdown",
   "id": "aa4dcf78",
   "metadata": {},
   "source": []
  },
  {
   "cell_type": "markdown",
   "id": "b681e9c0",
   "metadata": {},
   "source": []
  },
  {
   "cell_type": "markdown",
   "id": "3e110ca2",
   "metadata": {},
   "source": []
  },
  {
   "cell_type": "markdown",
   "id": "4a76419e",
   "metadata": {},
   "source": []
  },
  {
   "cell_type": "markdown",
   "id": "3f86fee5",
   "metadata": {},
   "source": []
  },
  {
   "cell_type": "markdown",
   "id": "8d709789",
   "metadata": {},
   "source": []
  },
  {
   "cell_type": "markdown",
   "id": "8db2105f",
   "metadata": {},
   "source": []
  },
  {
   "cell_type": "markdown",
   "id": "3a8ccf4c",
   "metadata": {},
   "source": []
  },
  {
   "cell_type": "markdown",
   "id": "9fa4ae08",
   "metadata": {},
   "source": []
  },
  {
   "cell_type": "markdown",
   "id": "eae071cf",
   "metadata": {},
   "source": []
  },
  {
   "cell_type": "markdown",
   "id": "4be77256",
   "metadata": {},
   "source": []
  },
  {
   "cell_type": "markdown",
   "id": "ebd158a8",
   "metadata": {},
   "source": []
  },
  {
   "cell_type": "markdown",
   "id": "d27041d9",
   "metadata": {},
   "source": []
  },
  {
   "cell_type": "markdown",
   "id": "e60b5a35",
   "metadata": {},
   "source": []
  },
  {
   "cell_type": "markdown",
   "id": "43371070",
   "metadata": {},
   "source": []
  },
  {
   "cell_type": "markdown",
   "id": "79c85d95",
   "metadata": {},
   "source": []
  },
  {
   "cell_type": "markdown",
   "id": "93096fb6",
   "metadata": {},
   "source": []
  },
  {
   "cell_type": "markdown",
   "id": "e2d9ee52",
   "metadata": {},
   "source": []
  },
  {
   "cell_type": "markdown",
   "id": "5e066744",
   "metadata": {},
   "source": []
  },
  {
   "cell_type": "markdown",
   "id": "ae540886",
   "metadata": {},
   "source": []
  },
  {
   "cell_type": "markdown",
   "id": "11c43570",
   "metadata": {},
   "source": []
  },
  {
   "cell_type": "markdown",
   "id": "7c590b09",
   "metadata": {},
   "source": []
  },
  {
   "cell_type": "markdown",
   "id": "3cd0808c",
   "metadata": {},
   "source": []
  },
  {
   "cell_type": "markdown",
   "id": "dd0a909d",
   "metadata": {},
   "source": []
  },
  {
   "cell_type": "markdown",
   "id": "2fcc4630",
   "metadata": {},
   "source": []
  },
  {
   "cell_type": "markdown",
   "id": "dfa38077",
   "metadata": {},
   "source": []
  },
  {
   "cell_type": "markdown",
   "id": "3f14f6fc",
   "metadata": {},
   "source": []
  },
  {
   "cell_type": "markdown",
   "id": "f6a8207d",
   "metadata": {},
   "source": []
  },
  {
   "cell_type": "markdown",
   "id": "b84a4fcc",
   "metadata": {},
   "source": []
  },
  {
   "cell_type": "markdown",
   "id": "01c2cfae",
   "metadata": {},
   "source": []
  },
  {
   "cell_type": "markdown",
   "id": "b7ce2e67",
   "metadata": {},
   "source": []
  },
  {
   "cell_type": "markdown",
   "id": "1dc9a313",
   "metadata": {},
   "source": []
  },
  {
   "cell_type": "markdown",
   "id": "8d554e00",
   "metadata": {},
   "source": []
  },
  {
   "cell_type": "markdown",
   "id": "aea8089a",
   "metadata": {},
   "source": []
  },
  {
   "cell_type": "markdown",
   "id": "365c35d2",
   "metadata": {},
   "source": []
  },
  {
   "cell_type": "markdown",
   "id": "93b8e28c",
   "metadata": {},
   "source": []
  },
  {
   "cell_type": "markdown",
   "id": "db4cd867",
   "metadata": {},
   "source": []
  },
  {
   "cell_type": "markdown",
   "id": "1812fa68",
   "metadata": {},
   "source": []
  },
  {
   "cell_type": "markdown",
   "id": "e122d785",
   "metadata": {},
   "source": []
  },
  {
   "cell_type": "markdown",
   "id": "b41198ad",
   "metadata": {},
   "source": []
  },
  {
   "cell_type": "markdown",
   "id": "31abe842",
   "metadata": {},
   "source": []
  },
  {
   "cell_type": "markdown",
   "id": "5ea3f2dc",
   "metadata": {},
   "source": []
  },
  {
   "cell_type": "markdown",
   "id": "f8b9978c",
   "metadata": {},
   "source": []
  },
  {
   "cell_type": "markdown",
   "id": "d9884d13",
   "metadata": {},
   "source": []
  },
  {
   "cell_type": "markdown",
   "id": "b57935aa",
   "metadata": {},
   "source": []
  },
  {
   "cell_type": "markdown",
   "id": "5c4caeff",
   "metadata": {},
   "source": []
  },
  {
   "cell_type": "markdown",
   "id": "0b7154b7",
   "metadata": {},
   "source": []
  },
  {
   "cell_type": "markdown",
   "id": "ac9457bf",
   "metadata": {},
   "source": []
  },
  {
   "cell_type": "markdown",
   "id": "7a5a7f62",
   "metadata": {},
   "source": []
  },
  {
   "cell_type": "markdown",
   "id": "f5483500",
   "metadata": {},
   "source": []
  }
 ],
 "metadata": {
  "kernelspec": {
   "display_name": "Python 3 (ipykernel)",
   "language": "python",
   "name": "python3"
  },
  "language_info": {
   "codemirror_mode": {
    "name": "ipython",
    "version": 3
   },
   "file_extension": ".py",
   "mimetype": "text/x-python",
   "name": "python",
   "nbconvert_exporter": "python",
   "pygments_lexer": "ipython3",
   "version": "3.9.15"
  }
 },
 "nbformat": 4,
 "nbformat_minor": 5
}
