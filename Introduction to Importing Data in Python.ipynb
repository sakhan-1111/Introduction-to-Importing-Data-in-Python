{
 "cells": [
  {
   "cell_type": "markdown",
   "id": "e4a9333b",
   "metadata": {},
   "source": [
    "# 1 Introduction and flat files\n",
    "\n",
    "In this chapter, you'll learn how to import data into Python from all types of flat files, which are a simple and prevalent form of data storage. You've previously learned how to use NumPy and pandas—you will learn how to use these packages to import flat files and customize your imports."
   ]
  },
  {
   "cell_type": "markdown",
   "id": "b00f10ef",
   "metadata": {},
   "source": [
    "## 1.1 Welcome to the course!"
   ]
  },
  {
   "cell_type": "markdown",
   "id": "ce465f07",
   "metadata": {},
   "source": [
    "## 1.2 Exploring your working directory\n",
    "\n",
    "In order to import data into Python, you should first have an idea of what files are in your working directory.\n",
    "\n",
    "IPython, which is running on DataCamp's servers, has a bunch of cool commands, including its [magic commands](https://ipython.readthedocs.io/en/stable/overview.html). For example, starting a line with `!` gives you complete system shell access. This means that the IPython magic command `! ls` will display the contents of your current directory. Your task is to use the IPython magic command `! ls` to check out the contents of your current directory and answer the following question: which of the following files is in your working directory?"
   ]
  },
  {
   "cell_type": "markdown",
   "id": "2435e6b8",
   "metadata": {},
   "source": [
    "### 1.2.1 Instructions\n",
    "\n",
    "### Possible Answers\n",
    "\n",
    "- [ ] `huck_finn.txt`\n",
    "\n",
    "\n",
    "- [ ] `titanic.csv`\n",
    "\n",
    "\n",
    "- [x] `moby_dick.txt`"
   ]
  },
  {
   "cell_type": "markdown",
   "id": "c38284d2",
   "metadata": {},
   "source": [
    "## 1.3 Importing entire text files\n",
    "\n",
    "In this exercise, you'll be working with the file `moby_dick.txt`. It is a text file that contains the opening sentences of Moby Dick, one of the great American novels! Here you'll get experience opening a text file, printing its contents to the shell and, finally, closing it."
   ]
  },
  {
   "cell_type": "markdown",
   "id": "e04174e1",
   "metadata": {},
   "source": [
    "### 1.3.1 Instructions\n",
    "\n",
    "- Open the file `moby_dick.txt` as *read-only* and store it in the variable `file`. Make sure to pass the filename enclosed in quotation marks `''`.\n",
    "- Print the contents of the file to the shell using the `print()` function. As Hugo showed in the video, you'll need to apply the method `read()` to the object `file`.\n",
    "- Check whether the file is closed by executing `print(file.closed)`.\n",
    "- Close the file using the `close()` method.\n",
    "- Check again that the file is closed as you did above."
   ]
  },
  {
   "cell_type": "markdown",
   "id": "740dc999",
   "metadata": {},
   "source": [
    "## 1.4 Importing text files line by line\n",
    "\n",
    "For large files, we may not want to print all of their content to the shell: you may wish to print only the first few lines. Enter the `readline()` method, which allows you to do this. When a file called `file` is open, you can print out the first line by executing `file.readline()`. If you execute the same command again, the second line will print, and so on.\n",
    "\n",
    "In the introductory video, Hugo also introduced the concept of a **context manager**. He showed that you can bind a variable `file` by using a context manager construct:\n",
    "\n",
    "```python\n",
    "with open('huck_finn.txt') as file:\n",
    "```\n",
    "\n",
    "While still within this construct, the variable `file` will be bound to `open('huck_finn.txt')`; thus, to print the file to the shell, all the code you need to execute is:\n",
    "\n",
    "```python\n",
    "with open('huck_finn.txt') as file:\n",
    "    print(file.readline())\n",
    "```\n",
    "\n",
    "You'll now use these tools to print the first few lines of `moby_dick.txt`!"
   ]
  },
  {
   "cell_type": "markdown",
   "id": "01b790ab",
   "metadata": {},
   "source": [
    "### 1.4.1 Instructions\n",
    "\n",
    "- Open `moby_dick.txt` using the `with` context manager and the variable `file`.\n",
    "- Print the first three lines of the file to the shell by using `readline()` three times within the context manager."
   ]
  },
  {
   "cell_type": "markdown",
   "id": "a92f02f7",
   "metadata": {},
   "source": [
    "## 1.5 The importance of flat files in data science"
   ]
  },
  {
   "cell_type": "markdown",
   "id": "6bdf5ce9",
   "metadata": {},
   "source": [
    "## 1.6 Pop quiz: examples of flat files\n",
    "\n",
    "You're now well-versed in importing text files and you're about to become a wiz at importing flat files. But can you remember exactly what a flat file is? Test your knowledge by answering the following question: which of these file types below is NOT an example of a flat file?"
   ]
  },
  {
   "cell_type": "markdown",
   "id": "6d149bf8",
   "metadata": {},
   "source": [
    "### 1.6.1 Answer the question\n",
    "\n",
    "### Possible Answers\n",
    "\n",
    "- [ ] A .csv file.\n",
    "\n",
    "- [ ] A tab-delimited .txt.\n",
    "\n",
    "- [x] A relational database (e.g. PostgreSQL)."
   ]
  },
  {
   "cell_type": "markdown",
   "id": "f3cf9bd7",
   "metadata": {},
   "source": [
    "## 1.7 Pop quiz: what exactly are flat files?\n",
    "\n",
    "Which of the following statements about flat files is incorrect?"
   ]
  },
  {
   "cell_type": "markdown",
   "id": "04010956",
   "metadata": {},
   "source": [
    "### 1.7.1 Answer the question\n",
    "\n",
    "### Possible Answers\n",
    "\n",
    "- [ ] Flat files consist of rows and each row is called a record.\n",
    "\n",
    "- [x] Flat files consist of multiple tables with structured relationships between the tables.\n",
    "\n",
    "- [ ] A record in a flat file is composed of *fields* or *attributes*, each of which contains at most one item of information.\n",
    "\n",
    "- [ ] Flat files are pervasive in data science."
   ]
  },
  {
   "cell_type": "markdown",
   "id": "dfd4b241",
   "metadata": {},
   "source": [
    "## 1.8 Why we like flat files and the Zen of Python\n",
    "\n",
    "In PythonLand, there are currently hundreds of *Python Enhancement Proposals*, commonly referred to as *PEP*s. [PEP8](https://www.python.org/dev/peps/pep-0008/), for example, is a standard style guide for Python, written by our sensei Guido van Rossum himself. It is the basis for how we here at DataCamp ask our instructors to style their code. Another one of my favorites is [PEP20](https://www.python.org/dev/peps/pep-0020/), commonly called the *Zen of Python*. Its abstract is as follows:\n",
    "\n",
    "> Long time Pythoneer Tim Peters succinctly channels the BDFL's guiding principles for Python's design into 20 aphorisms, only 19 of which have been written down.\n",
    "\n",
    "If you don't know what the acronym `BDFL` stands for, I suggest that you look [here](https://docs.python.org/3.3/glossary.html#term-bdfl). You can print the Zen of Python in your shell by typing `import this` into it! You're going to do this now and the 5th aphorism (line) will say something of particular interest.\n",
    "\n",
    "The question you need to answer is: **what is the 5th aphorism of the *Zen of Python*?**"
   ]
  },
  {
   "cell_type": "markdown",
   "id": "1bb90ce0",
   "metadata": {},
   "source": [
    "### 1.8.1 Instructions\n",
    "\n",
    "### Possible Answers\n",
    "\n",
    "- [x] Flat is better than nested.\n",
    "\n",
    "- [ ] Flat files are essential for data science.\n",
    "\n",
    "- [ ] The world is representable as a flat file.\n",
    "\n",
    "- [ ] Flatness is in the eye of the beholder."
   ]
  },
  {
   "cell_type": "markdown",
   "id": "570c1886",
   "metadata": {},
   "source": [
    "## 1.9 Importing flat files using NumPy"
   ]
  },
  {
   "cell_type": "markdown",
   "id": "f2303f45",
   "metadata": {},
   "source": [
    "## 1.10 Using NumPy to import flat files\n",
    "\n",
    "In this exercise, you're now going to load the MNIST digit recognition dataset using the numpy function `loadtxt()` and see just how easy it can be:\n",
    "\n",
    "- The first argument will be the filename.\n",
    "- The second will be the delimiter which, in this case, is a comma.\n",
    "\n",
    "You can find more information about the MNIST dataset [here](http://yann.lecun.com/exdb/mnist/) on the webpage of Yann LeCun, who is currently Director of AI Research at Facebook and Founding Director of the NYU Center for Data Science, among many other things."
   ]
  },
  {
   "cell_type": "markdown",
   "id": "3dd07b4e",
   "metadata": {},
   "source": [
    "### 1.10.1 Instructions\n",
    "\n",
    "- Fill in the arguments of `np.loadtxt()` by passing `file` and a comma `','` for the delimiter.\n",
    "- Fill in the argument of `print()` to print the type of the object `digits`. Use the function `type()`.\n",
    "- Execute the rest of the code to visualize one of the rows of the data."
   ]
  },
  {
   "cell_type": "markdown",
   "id": "e6181799",
   "metadata": {},
   "source": [
    "## 1.11 Customizing your NumPy import\n",
    "\n",
    "What if there are rows, such as a header, that you don't want to import? What if your file has a delimiter other than a comma? What if you only wish to import particular columns?\n",
    "\n",
    "There are a number of arguments that `np.loadtxt()` takes that you'll find useful:\n",
    "\n",
    "- `delimiter` changes the delimiter that `loadtxt()` is expecting.\n",
    "  - You can use `','` for comma-delimited.\n",
    "  - You can use `'\\t'` for tab-delimited.\n",
    "- `skiprows` allows you to specify *how many rows* (not indices) you wish to skip\n",
    "- `usecols` takes a *list* of the indices of the columns you wish to keep.\n",
    "\n",
    "The file that you'll be importing, `digits_header.txt`, has a header and is tab-delimited."
   ]
  },
  {
   "cell_type": "markdown",
   "id": "d1e89d85",
   "metadata": {},
   "source": [
    "### 1.11.1 Instructions\n",
    "\n",
    "- Complete the arguments of `np.loadtxt()`: the file you're importing is tab-delimited, you want to skip the first row and you only want to import the first and third columns.\n",
    "- Complete the argument of the `print()` call in order to print the entire array that you just imported."
   ]
  },
  {
   "cell_type": "markdown",
   "id": "0587f46e",
   "metadata": {},
   "source": []
  },
  {
   "cell_type": "markdown",
   "id": "44db459f",
   "metadata": {},
   "source": []
  },
  {
   "cell_type": "markdown",
   "id": "f526ec1d",
   "metadata": {},
   "source": []
  },
  {
   "cell_type": "markdown",
   "id": "51407f10",
   "metadata": {},
   "source": []
  },
  {
   "cell_type": "markdown",
   "id": "1233b918",
   "metadata": {},
   "source": []
  },
  {
   "cell_type": "markdown",
   "id": "cb8e4fe9",
   "metadata": {},
   "source": []
  },
  {
   "cell_type": "markdown",
   "id": "a186efab",
   "metadata": {},
   "source": []
  },
  {
   "cell_type": "markdown",
   "id": "66eac60a",
   "metadata": {},
   "source": []
  },
  {
   "cell_type": "markdown",
   "id": "77ca8bcf",
   "metadata": {},
   "source": []
  },
  {
   "cell_type": "markdown",
   "id": "80f21568",
   "metadata": {},
   "source": []
  },
  {
   "cell_type": "markdown",
   "id": "c5d202e6",
   "metadata": {},
   "source": []
  },
  {
   "cell_type": "markdown",
   "id": "735cb5a7",
   "metadata": {},
   "source": []
  },
  {
   "cell_type": "markdown",
   "id": "06654af3",
   "metadata": {},
   "source": []
  },
  {
   "cell_type": "markdown",
   "id": "48eaf577",
   "metadata": {},
   "source": []
  },
  {
   "cell_type": "markdown",
   "id": "d55dcf02",
   "metadata": {},
   "source": []
  },
  {
   "cell_type": "markdown",
   "id": "9dd58fab",
   "metadata": {},
   "source": []
  },
  {
   "cell_type": "markdown",
   "id": "44625fbf",
   "metadata": {},
   "source": []
  },
  {
   "cell_type": "markdown",
   "id": "36dbce79",
   "metadata": {},
   "source": []
  },
  {
   "cell_type": "markdown",
   "id": "5e5e1fcb",
   "metadata": {},
   "source": []
  },
  {
   "cell_type": "markdown",
   "id": "e89788ab",
   "metadata": {},
   "source": []
  },
  {
   "cell_type": "markdown",
   "id": "ddbf1e38",
   "metadata": {},
   "source": []
  },
  {
   "cell_type": "markdown",
   "id": "70e2073c",
   "metadata": {},
   "source": []
  },
  {
   "cell_type": "markdown",
   "id": "5adfc8d7",
   "metadata": {},
   "source": []
  },
  {
   "cell_type": "markdown",
   "id": "c2de1ce6",
   "metadata": {},
   "source": []
  },
  {
   "cell_type": "markdown",
   "id": "1a23999f",
   "metadata": {},
   "source": []
  },
  {
   "cell_type": "markdown",
   "id": "651a3694",
   "metadata": {},
   "source": []
  },
  {
   "cell_type": "markdown",
   "id": "fc3171d5",
   "metadata": {},
   "source": []
  },
  {
   "cell_type": "markdown",
   "id": "551e2247",
   "metadata": {},
   "source": []
  },
  {
   "cell_type": "markdown",
   "id": "a8059286",
   "metadata": {},
   "source": []
  },
  {
   "cell_type": "markdown",
   "id": "c0257b30",
   "metadata": {},
   "source": []
  },
  {
   "cell_type": "markdown",
   "id": "178a670a",
   "metadata": {},
   "source": []
  },
  {
   "cell_type": "markdown",
   "id": "9da7f90d",
   "metadata": {},
   "source": []
  },
  {
   "cell_type": "markdown",
   "id": "7a5ecbc0",
   "metadata": {},
   "source": []
  },
  {
   "cell_type": "markdown",
   "id": "4634539c",
   "metadata": {},
   "source": []
  },
  {
   "cell_type": "markdown",
   "id": "810e9aaa",
   "metadata": {},
   "source": []
  },
  {
   "cell_type": "markdown",
   "id": "85f6128c",
   "metadata": {},
   "source": []
  },
  {
   "cell_type": "markdown",
   "id": "984cafe0",
   "metadata": {},
   "source": []
  },
  {
   "cell_type": "markdown",
   "id": "71b90779",
   "metadata": {},
   "source": []
  },
  {
   "cell_type": "markdown",
   "id": "28fb2473",
   "metadata": {},
   "source": []
  },
  {
   "cell_type": "markdown",
   "id": "dfe97378",
   "metadata": {},
   "source": []
  },
  {
   "cell_type": "markdown",
   "id": "cd2e57ed",
   "metadata": {},
   "source": []
  },
  {
   "cell_type": "markdown",
   "id": "84c1fc27",
   "metadata": {},
   "source": []
  },
  {
   "cell_type": "markdown",
   "id": "69ac8b06",
   "metadata": {},
   "source": []
  },
  {
   "cell_type": "markdown",
   "id": "fcafe287",
   "metadata": {},
   "source": []
  },
  {
   "cell_type": "markdown",
   "id": "d8e6a4d0",
   "metadata": {},
   "source": []
  },
  {
   "cell_type": "markdown",
   "id": "efdcf609",
   "metadata": {},
   "source": []
  },
  {
   "cell_type": "markdown",
   "id": "d9abde8f",
   "metadata": {},
   "source": []
  },
  {
   "cell_type": "markdown",
   "id": "1a6e7fe1",
   "metadata": {},
   "source": []
  },
  {
   "cell_type": "markdown",
   "id": "ca9fa19e",
   "metadata": {},
   "source": []
  },
  {
   "cell_type": "markdown",
   "id": "2db466f3",
   "metadata": {},
   "source": []
  },
  {
   "cell_type": "markdown",
   "id": "4b830fda",
   "metadata": {},
   "source": []
  },
  {
   "cell_type": "markdown",
   "id": "cb174d9c",
   "metadata": {},
   "source": []
  },
  {
   "cell_type": "markdown",
   "id": "69a643ab",
   "metadata": {},
   "source": []
  },
  {
   "cell_type": "markdown",
   "id": "dde1dca3",
   "metadata": {},
   "source": []
  },
  {
   "cell_type": "markdown",
   "id": "e566cd2b",
   "metadata": {},
   "source": []
  },
  {
   "cell_type": "markdown",
   "id": "96f60abe",
   "metadata": {},
   "source": []
  },
  {
   "cell_type": "markdown",
   "id": "34d02187",
   "metadata": {},
   "source": []
  },
  {
   "cell_type": "markdown",
   "id": "82c1a921",
   "metadata": {},
   "source": []
  },
  {
   "cell_type": "markdown",
   "id": "68ace257",
   "metadata": {},
   "source": []
  },
  {
   "cell_type": "markdown",
   "id": "ecbf8977",
   "metadata": {},
   "source": []
  },
  {
   "cell_type": "markdown",
   "id": "57af9ee7",
   "metadata": {},
   "source": []
  },
  {
   "cell_type": "markdown",
   "id": "4545e19e",
   "metadata": {},
   "source": []
  },
  {
   "cell_type": "markdown",
   "id": "2fdd668e",
   "metadata": {},
   "source": []
  },
  {
   "cell_type": "markdown",
   "id": "48fcbe74",
   "metadata": {},
   "source": []
  },
  {
   "cell_type": "markdown",
   "id": "e43b137a",
   "metadata": {},
   "source": []
  },
  {
   "cell_type": "markdown",
   "id": "530f3f91",
   "metadata": {},
   "source": []
  },
  {
   "cell_type": "markdown",
   "id": "9cf37cde",
   "metadata": {},
   "source": []
  },
  {
   "cell_type": "markdown",
   "id": "2d7be072",
   "metadata": {},
   "source": []
  },
  {
   "cell_type": "markdown",
   "id": "58782736",
   "metadata": {},
   "source": []
  },
  {
   "cell_type": "markdown",
   "id": "9f831c68",
   "metadata": {},
   "source": []
  },
  {
   "cell_type": "markdown",
   "id": "f4f6e533",
   "metadata": {},
   "source": []
  },
  {
   "cell_type": "markdown",
   "id": "ebb46585",
   "metadata": {},
   "source": []
  },
  {
   "cell_type": "markdown",
   "id": "fbe4b30c",
   "metadata": {},
   "source": []
  },
  {
   "cell_type": "markdown",
   "id": "421df30b",
   "metadata": {},
   "source": []
  },
  {
   "cell_type": "markdown",
   "id": "334f887e",
   "metadata": {},
   "source": []
  },
  {
   "cell_type": "markdown",
   "id": "48af87ed",
   "metadata": {},
   "source": []
  },
  {
   "cell_type": "markdown",
   "id": "4ff9d16a",
   "metadata": {},
   "source": []
  },
  {
   "cell_type": "markdown",
   "id": "6899e846",
   "metadata": {},
   "source": []
  },
  {
   "cell_type": "markdown",
   "id": "90c2fdc4",
   "metadata": {},
   "source": []
  },
  {
   "cell_type": "markdown",
   "id": "c1bb0513",
   "metadata": {},
   "source": []
  },
  {
   "cell_type": "markdown",
   "id": "eab48408",
   "metadata": {},
   "source": []
  },
  {
   "cell_type": "markdown",
   "id": "ae264ef9",
   "metadata": {},
   "source": []
  },
  {
   "cell_type": "markdown",
   "id": "65c7c654",
   "metadata": {},
   "source": []
  },
  {
   "cell_type": "markdown",
   "id": "4525949d",
   "metadata": {},
   "source": []
  },
  {
   "cell_type": "markdown",
   "id": "4a3ed7ef",
   "metadata": {},
   "source": []
  },
  {
   "cell_type": "markdown",
   "id": "39f4f896",
   "metadata": {},
   "source": []
  },
  {
   "cell_type": "markdown",
   "id": "edab876f",
   "metadata": {},
   "source": []
  },
  {
   "cell_type": "markdown",
   "id": "6204359a",
   "metadata": {},
   "source": []
  },
  {
   "cell_type": "markdown",
   "id": "7544404e",
   "metadata": {},
   "source": []
  },
  {
   "cell_type": "markdown",
   "id": "84adb317",
   "metadata": {},
   "source": []
  },
  {
   "cell_type": "markdown",
   "id": "5ba3bef8",
   "metadata": {},
   "source": []
  },
  {
   "cell_type": "markdown",
   "id": "9dd7839f",
   "metadata": {},
   "source": []
  },
  {
   "cell_type": "markdown",
   "id": "4fa6d411",
   "metadata": {},
   "source": []
  },
  {
   "cell_type": "markdown",
   "id": "46b961c3",
   "metadata": {},
   "source": []
  },
  {
   "cell_type": "markdown",
   "id": "987bcfcc",
   "metadata": {},
   "source": []
  },
  {
   "cell_type": "markdown",
   "id": "0074513f",
   "metadata": {},
   "source": []
  },
  {
   "cell_type": "markdown",
   "id": "4ae3b6e6",
   "metadata": {},
   "source": []
  },
  {
   "cell_type": "markdown",
   "id": "f790bdac",
   "metadata": {},
   "source": []
  },
  {
   "cell_type": "markdown",
   "id": "23d1c3eb",
   "metadata": {},
   "source": []
  },
  {
   "cell_type": "markdown",
   "id": "7c45f4df",
   "metadata": {},
   "source": []
  },
  {
   "cell_type": "markdown",
   "id": "b368969b",
   "metadata": {},
   "source": []
  },
  {
   "cell_type": "markdown",
   "id": "b6897459",
   "metadata": {},
   "source": []
  },
  {
   "cell_type": "markdown",
   "id": "c694edd5",
   "metadata": {},
   "source": []
  },
  {
   "cell_type": "markdown",
   "id": "18596146",
   "metadata": {},
   "source": []
  },
  {
   "cell_type": "markdown",
   "id": "40fd04cf",
   "metadata": {},
   "source": []
  },
  {
   "cell_type": "markdown",
   "id": "8c6af402",
   "metadata": {},
   "source": []
  },
  {
   "cell_type": "markdown",
   "id": "fba78a06",
   "metadata": {},
   "source": []
  },
  {
   "cell_type": "markdown",
   "id": "5928d137",
   "metadata": {},
   "source": []
  },
  {
   "cell_type": "markdown",
   "id": "d1ee8284",
   "metadata": {},
   "source": []
  },
  {
   "cell_type": "markdown",
   "id": "37b7c5ac",
   "metadata": {},
   "source": []
  },
  {
   "cell_type": "markdown",
   "id": "d6972cf8",
   "metadata": {},
   "source": []
  },
  {
   "cell_type": "markdown",
   "id": "77153d65",
   "metadata": {},
   "source": []
  },
  {
   "cell_type": "markdown",
   "id": "1244d375",
   "metadata": {},
   "source": []
  },
  {
   "cell_type": "markdown",
   "id": "af2b9ef2",
   "metadata": {},
   "source": []
  },
  {
   "cell_type": "markdown",
   "id": "f4ae48c4",
   "metadata": {},
   "source": []
  },
  {
   "cell_type": "markdown",
   "id": "d23637d1",
   "metadata": {},
   "source": []
  },
  {
   "cell_type": "markdown",
   "id": "8c2bf4a8",
   "metadata": {},
   "source": []
  },
  {
   "cell_type": "markdown",
   "id": "d555015d",
   "metadata": {},
   "source": []
  },
  {
   "cell_type": "markdown",
   "id": "992d5389",
   "metadata": {},
   "source": []
  },
  {
   "cell_type": "markdown",
   "id": "0e7f3d7a",
   "metadata": {},
   "source": []
  },
  {
   "cell_type": "markdown",
   "id": "533cc505",
   "metadata": {},
   "source": []
  },
  {
   "cell_type": "markdown",
   "id": "17788965",
   "metadata": {},
   "source": []
  },
  {
   "cell_type": "markdown",
   "id": "0dd5c2dd",
   "metadata": {},
   "source": []
  },
  {
   "cell_type": "markdown",
   "id": "4a5c5317",
   "metadata": {},
   "source": []
  },
  {
   "cell_type": "markdown",
   "id": "020d6640",
   "metadata": {},
   "source": []
  },
  {
   "cell_type": "markdown",
   "id": "77d22bf4",
   "metadata": {},
   "source": []
  },
  {
   "cell_type": "markdown",
   "id": "7f3d4a53",
   "metadata": {},
   "source": []
  },
  {
   "cell_type": "markdown",
   "id": "9aefff77",
   "metadata": {},
   "source": []
  },
  {
   "cell_type": "markdown",
   "id": "9096badc",
   "metadata": {},
   "source": []
  },
  {
   "cell_type": "markdown",
   "id": "d642ba26",
   "metadata": {},
   "source": []
  },
  {
   "cell_type": "markdown",
   "id": "4737709b",
   "metadata": {},
   "source": []
  },
  {
   "cell_type": "markdown",
   "id": "7fc84336",
   "metadata": {},
   "source": []
  },
  {
   "cell_type": "markdown",
   "id": "b4d402b8",
   "metadata": {},
   "source": []
  },
  {
   "cell_type": "markdown",
   "id": "a0f13930",
   "metadata": {},
   "source": []
  },
  {
   "cell_type": "markdown",
   "id": "64e92b87",
   "metadata": {},
   "source": []
  }
 ],
 "metadata": {
  "kernelspec": {
   "display_name": "Python 3 (ipykernel)",
   "language": "python",
   "name": "python3"
  },
  "language_info": {
   "codemirror_mode": {
    "name": "ipython",
    "version": 3
   },
   "file_extension": ".py",
   "mimetype": "text/x-python",
   "name": "python",
   "nbconvert_exporter": "python",
   "pygments_lexer": "ipython3",
   "version": "3.9.15"
  }
 },
 "nbformat": 4,
 "nbformat_minor": 5
}
