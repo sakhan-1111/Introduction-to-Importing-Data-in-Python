{
 "cells": [
  {
   "cell_type": "markdown",
   "id": "f9b157b8",
   "metadata": {},
   "source": [
    "# 1 Introduction and flat files\n",
    "\n",
    "In this chapter, you'll learn how to import data into Python from all types of flat files, which are a simple and prevalent form of data storage. You've previously learned how to use NumPy and pandas—you will learn how to use these packages to import flat files and customize your imports."
   ]
  },
  {
   "cell_type": "markdown",
   "id": "2a129345",
   "metadata": {},
   "source": [
    "## 1.1 Welcome to the course!"
   ]
  },
  {
   "cell_type": "markdown",
   "id": "43cfb985",
   "metadata": {},
   "source": [
    "## 1.2 Exploring your working directory\n",
    "\n",
    "In order to import data into Python, you should first have an idea of what files are in your working directory.\n",
    "\n",
    "IPython, which is running on DataCamp's servers, has a bunch of cool commands, including its [magic commands](https://ipython.readthedocs.io/en/stable/overview.html). For example, starting a line with `!` gives you complete system shell access. This means that the IPython magic command `! ls` will display the contents of your current directory. Your task is to use the IPython magic command `! ls` to check out the contents of your current directory and answer the following question: which of the following files is in your working directory?"
   ]
  },
  {
   "cell_type": "markdown",
   "id": "1c71cc4a",
   "metadata": {},
   "source": [
    "### 1.2.1 Instructions\n",
    "\n",
    "### Possible Answers\n",
    "\n",
    "- [ ] `huck_finn.txt`\n",
    "\n",
    "\n",
    "- [ ] `titanic.csv`\n",
    "\n",
    "\n",
    "- [x] `moby_dick.txt`"
   ]
  },
  {
   "cell_type": "markdown",
   "id": "b335708b",
   "metadata": {},
   "source": [
    "## 1.3 Importing entire text files\n",
    "\n",
    "In this exercise, you'll be working with the file `moby_dick.txt`. It is a text file that contains the opening sentences of Moby Dick, one of the great American novels! Here you'll get experience opening a text file, printing its contents to the shell and, finally, closing it."
   ]
  },
  {
   "cell_type": "markdown",
   "id": "4300c0bd",
   "metadata": {},
   "source": [
    "### 1.3.1 Instructions\n",
    "\n",
    "- Open the file `moby_dick.txt` as *read-only* and store it in the variable `file`. Make sure to pass the filename enclosed in quotation marks `''`.\n",
    "- Print the contents of the file to the shell using the `print()` function. As Hugo showed in the video, you'll need to apply the method `read()` to the object `file`.\n",
    "- Check whether the file is closed by executing `print(file.closed)`.\n",
    "- Close the file using the `close()` method.\n",
    "- Check again that the file is closed as you did above."
   ]
  },
  {
   "cell_type": "markdown",
   "id": "419d97f3",
   "metadata": {},
   "source": [
    "## 1.4 Importing text files line by line\n",
    "\n",
    "For large files, we may not want to print all of their content to the shell: you may wish to print only the first few lines. Enter the `readline()` method, which allows you to do this. When a file called `file` is open, you can print out the first line by executing `file.readline()`. If you execute the same command again, the second line will print, and so on.\n",
    "\n",
    "In the introductory video, Hugo also introduced the concept of a **context manager**. He showed that you can bind a variable `file` by using a context manager construct:\n",
    "\n",
    "```python\n",
    "with open('huck_finn.txt') as file:\n",
    "```\n",
    "\n",
    "While still within this construct, the variable `file` will be bound to `open('huck_finn.txt')`; thus, to print the file to the shell, all the code you need to execute is:\n",
    "\n",
    "```python\n",
    "with open('huck_finn.txt') as file:\n",
    "    print(file.readline())\n",
    "```\n",
    "\n",
    "You'll now use these tools to print the first few lines of `moby_dick.txt`!"
   ]
  },
  {
   "cell_type": "markdown",
   "id": "8f66aa5b",
   "metadata": {},
   "source": [
    "### 1.4.1 Instructions\n",
    "\n",
    "- Open `moby_dick.txt` using the `with` context manager and the variable `file`.\n",
    "- Print the first three lines of the file to the shell by using `readline()` three times within the context manager."
   ]
  },
  {
   "cell_type": "markdown",
   "id": "806de7af",
   "metadata": {},
   "source": [
    "## 1.5 The importance of flat files in data science"
   ]
  },
  {
   "cell_type": "markdown",
   "id": "b38406a9",
   "metadata": {},
   "source": [
    "## 1.6 Pop quiz: examples of flat files\n",
    "\n",
    "You're now well-versed in importing text files and you're about to become a wiz at importing flat files. But can you remember exactly what a flat file is? Test your knowledge by answering the following question: which of these file types below is NOT an example of a flat file?"
   ]
  },
  {
   "cell_type": "markdown",
   "id": "93cfeda6",
   "metadata": {},
   "source": [
    "### 1.6.1 Answer the question\n",
    "\n",
    "### Possible Answers\n",
    "\n",
    "- [ ] A .csv file.\n",
    "\n",
    "- [ ] A tab-delimited .txt.\n",
    "\n",
    "- [x] A relational database (e.g. PostgreSQL)."
   ]
  },
  {
   "cell_type": "markdown",
   "id": "bd3af38f",
   "metadata": {},
   "source": [
    "## 1.7 Pop quiz: what exactly are flat files?\n",
    "\n",
    "Which of the following statements about flat files is incorrect?"
   ]
  },
  {
   "cell_type": "markdown",
   "id": "be8b01f8",
   "metadata": {},
   "source": [
    "### 1.7.1 Answer the question\n",
    "\n",
    "### Possible Answers\n",
    "\n",
    "- [ ] Flat files consist of rows and each row is called a record.\n",
    "\n",
    "- [x] Flat files consist of multiple tables with structured relationships between the tables.\n",
    "\n",
    "- [ ] A record in a flat file is composed of *fields* or *attributes*, each of which contains at most one item of information.\n",
    "\n",
    "- [ ] Flat files are pervasive in data science."
   ]
  },
  {
   "cell_type": "markdown",
   "id": "67f25442",
   "metadata": {},
   "source": [
    "## 1.8 Why we like flat files and the Zen of Python\n",
    "\n",
    "In PythonLand, there are currently hundreds of *Python Enhancement Proposals*, commonly referred to as *PEP*s. [PEP8](https://www.python.org/dev/peps/pep-0008/), for example, is a standard style guide for Python, written by our sensei Guido van Rossum himself. It is the basis for how we here at DataCamp ask our instructors to style their code. Another one of my favorites is [PEP20](https://www.python.org/dev/peps/pep-0020/), commonly called the *Zen of Python*. Its abstract is as follows:\n",
    "\n",
    "> Long time Pythoneer Tim Peters succinctly channels the BDFL's guiding principles for Python's design into 20 aphorisms, only 19 of which have been written down.\n",
    "\n",
    "If you don't know what the acronym `BDFL` stands for, I suggest that you look [here](https://docs.python.org/3.3/glossary.html#term-bdfl). You can print the Zen of Python in your shell by typing `import this` into it! You're going to do this now and the 5th aphorism (line) will say something of particular interest.\n",
    "\n",
    "The question you need to answer is: **what is the 5th aphorism of the *Zen of Python*?**"
   ]
  },
  {
   "cell_type": "markdown",
   "id": "10bf2591",
   "metadata": {},
   "source": [
    "### 1.8.1 Instructions\n",
    "\n",
    "### Possible Answers\n",
    "\n",
    "- [x] Flat is better than nested.\n",
    "\n",
    "- [ ] Flat files are essential for data science.\n",
    "\n",
    "- [ ] The world is representable as a flat file.\n",
    "\n",
    "- [ ] Flatness is in the eye of the beholder."
   ]
  },
  {
   "cell_type": "markdown",
   "id": "9576514e",
   "metadata": {},
   "source": [
    "## 1.9 Importing flat files using NumPy"
   ]
  },
  {
   "cell_type": "markdown",
   "id": "9f9013ee",
   "metadata": {},
   "source": [
    "## 1.10 Using NumPy to import flat files\n",
    "\n",
    "In this exercise, you're now going to load the MNIST digit recognition dataset using the numpy function `loadtxt()` and see just how easy it can be:\n",
    "\n",
    "- The first argument will be the filename.\n",
    "- The second will be the delimiter which, in this case, is a comma.\n",
    "\n",
    "You can find more information about the MNIST dataset [here](http://yann.lecun.com/exdb/mnist/) on the webpage of Yann LeCun, who is currently Director of AI Research at Facebook and Founding Director of the NYU Center for Data Science, among many other things."
   ]
  },
  {
   "cell_type": "markdown",
   "id": "b97fb24e",
   "metadata": {},
   "source": [
    "### 1.10.1 Instructions\n",
    "\n",
    "- Fill in the arguments of `np.loadtxt()` by passing `file` and a comma `','` for the delimiter.\n",
    "- Fill in the argument of `print()` to print the type of the object `digits`. Use the function `type()`.\n",
    "- Execute the rest of the code to visualize one of the rows of the data."
   ]
  },
  {
   "cell_type": "markdown",
   "id": "5965a364",
   "metadata": {},
   "source": [
    "## 1.11 Customizing your NumPy import\n",
    "\n",
    "What if there are rows, such as a header, that you don't want to import? What if your file has a delimiter other than a comma? What if you only wish to import particular columns?\n",
    "\n",
    "There are a number of arguments that `np.loadtxt()` takes that you'll find useful:\n",
    "\n",
    "- `delimiter` changes the delimiter that `loadtxt()` is expecting.\n",
    "  - You can use `','` for comma-delimited.\n",
    "  - You can use `'\\t'` for tab-delimited.\n",
    "- `skiprows` allows you to specify *how many rows* (not indices) you wish to skip\n",
    "- `usecols` takes a *list* of the indices of the columns you wish to keep.\n",
    "\n",
    "The file that you'll be importing, `digits_header.txt`, has a header and is tab-delimited."
   ]
  },
  {
   "cell_type": "markdown",
   "id": "2f04688a",
   "metadata": {},
   "source": [
    "### 1.11.1 Instructions\n",
    "\n",
    "- Complete the arguments of `np.loadtxt()`: the file you're importing is tab-delimited, you want to skip the first row and you only want to import the first and third columns.\n",
    "- Complete the argument of the `print()` call in order to print the entire array that you just imported."
   ]
  },
  {
   "cell_type": "markdown",
   "id": "78f5f322",
   "metadata": {},
   "source": [
    "## 1.12 Importing different datatypes\n",
    "\n",
    "The file `seaslug.txt`\n",
    "\n",
    "- has a text header, consisting of strings\n",
    "- is tab-delimited.\n",
    "\n",
    "These data consists of percentage of sea slug larvae that had metamorphosed in a given time period. Read more [here](http://www.stat.ucla.edu/~rgould/datasets/aboutseaslugs.html).\n",
    "\n",
    "Due to the header, if you tried to import it as-is using `np.loadtxt()`, Python would throw you a `ValueError` and tell you that it `could not convert string to float`. There are two ways to deal with this: firstly, you can set the data type argument `dtype` equal to `str` (for string).\n",
    "\n",
    "Alternatively, you can skip the first row as we have seen before, using the `skiprows` argument."
   ]
  },
  {
   "cell_type": "markdown",
   "id": "5a11a860",
   "metadata": {},
   "source": [
    "### 1.12.1 Instructions\n",
    "\n",
    "- Complete the first call to `np.loadtxt()` by passing `file` as the first argument.\n",
    "- Execute `print(data[0])` to print the first element of `data`.\n",
    "- Complete the second call to `np.loadtxt()`. The file you're importing is tab-delimited, the datatype is `float`, and you want to skip the first row.\n",
    "- Print the 10th element of `data_float` by completing the `print()` command. Be guided by the previous `print()` call.\n",
    "- Execute the rest of the code to visualize the data."
   ]
  },
  {
   "cell_type": "markdown",
   "id": "710e4e76",
   "metadata": {},
   "source": [
    "## 1.13 Working with mixed datatypes (1)\n",
    "\n",
    "Much of the time you will need to import datasets which have different datatypes in different columns; one column may contain strings and another floats, for example. The function `np.loadtxt()` will freak at this. There is another function, `np.genfromtxt()`, which can handle such structures. If we pass `dtype=None` to it, it will figure out what types each column should be.\n",
    "\n",
    "Import `'titanic.csv'` using the function `np.genfromtxt()` as follows:\n",
    "\n",
    "```python\n",
    "data = np.genfromtxt('titanic.csv', delimiter=',', names=True, dtype=None)\n",
    "```\n",
    "\n",
    "Here, the first argument is the filename, the second specifies the delimiter `,` and the third argument `names` tells us there is a header. Because the data are of different types, `data` is an object called a [structured array](http://docs.scipy.org/doc/numpy/user/basics.rec.html). Because numpy arrays have to contain elements that are all the same type, the structured array solves this by being a 1D array, where each element of the array is a row of the flat file imported. You can test this by checking out the array's shape in the shell by executing `np.shape(data)`.\n",
    "\n",
    "Accessing rows and columns of structured arrays is super-intuitive: to get the ith row, merely execute `data[i]` and to get the column with name `'Fare'`, execute `data['Fare']`.\n",
    "\n",
    "After importing the Titanic data as a structured array (as per the instructions above), print the entire column with the name `Survived` to the shell. What are the last 4 values of this column?"
   ]
  },
  {
   "cell_type": "markdown",
   "id": "a1236600",
   "metadata": {},
   "source": [
    "### 1.13.1 Instructions\n",
    "\n",
    "### Possible Answers\n",
    "\n",
    "- [ ] 1,0,0,1.\n",
    "\n",
    "- [ ] 1,2,0,0.\n",
    "\n",
    "- [x] 1,0,1,0.\n",
    "\n",
    "- [ ] 0,1,1,1."
   ]
  },
  {
   "cell_type": "markdown",
   "id": "ba271c11",
   "metadata": {},
   "source": [
    "## 1.14 Working with mixed datatypes (2)\n",
    "\n",
    "You have just used `np.genfromtxt()` to import data containing mixed datatypes. There is also another function `np.recfromcsv()` that behaves similarly to `np.genfromtxt()`, except that its default `dtype` is `None`. In this exercise, you'll practice using this to achieve the same result."
   ]
  },
  {
   "cell_type": "markdown",
   "id": "819c285c",
   "metadata": {},
   "source": [
    "### 1.14.1 Instructions\n",
    "\n",
    "- Import `titanic.csv` using the function `np.recfromcsv()` and assign it to the variable, `d`. You'll only need to pass `file` to it because it has the defaults `delimiter=','` and `names=True` in addition to `dtype=None`!\n",
    "- Run the remaining code to print the first three entries of the resulting array `d`."
   ]
  },
  {
   "cell_type": "markdown",
   "id": "97d5796f",
   "metadata": {},
   "source": [
    "## 1.15 Importing flat files using pandas"
   ]
  },
  {
   "cell_type": "markdown",
   "id": "94bbcfc7",
   "metadata": {},
   "source": [
    "## 1.16 Using pandas to import flat files as DataFrames (1)\n",
    "\n",
    "In the last exercise, you were able to import flat files containing columns with different datatypes as `numpy` arrays. However, the `DataFrame` object in pandas is a more appropriate structure in which to store such data and, thankfully, we can easily import files of mixed data types as DataFrames using the pandas functions `read_csv()` and `read_table()`."
   ]
  },
  {
   "cell_type": "markdown",
   "id": "fc824361",
   "metadata": {},
   "source": [
    "### 1.16.1 Instructions\n",
    "\n",
    "- Import the `pandas` package using the alias `pd`.\n",
    "- Read `titanic.csv` into a DataFrame called `df`. The file name is already stored in the `file` object.\n",
    "- In a `print()` call, view the head of the DataFrame."
   ]
  },
  {
   "cell_type": "markdown",
   "id": "bd27af63",
   "metadata": {},
   "source": [
    "## 1.17 Using pandas to import flat files as DataFrames (2)\n",
    "\n",
    "In the last exercise, you were able to import flat files into a `pandas` DataFrame. As a bonus, it is then straightforward to retrieve the corresponding `numpy` array using the attribute `values`. You'll now have a chance to do this using the MNIST dataset, which is available as `digits.csv`."
   ]
  },
  {
   "cell_type": "markdown",
   "id": "ecde8ac6",
   "metadata": {},
   "source": [
    "### 1.17.1 Instructions\n",
    "\n",
    "- Import the first 5 rows of the file into a DataFrame using the function `pd.read_csv()` and assign the result to `data`. You'll need to use the arguments `nrows` and `header` (there is no header in this file).\n",
    "- Build a `numpy` array from the resulting DataFrame in `data` and assign to `data_array`.\n",
    "- Execute `print(type(data_array))` to print the datatype of `data_array`."
   ]
  },
  {
   "cell_type": "markdown",
   "id": "d60f22f1",
   "metadata": {},
   "source": [
    "## 1.18 Customizing your pandas import\n",
    "\n",
    "The `pandas` package is also great at dealing with many of the issues you will encounter when importing data as a data scientist, such as comments occurring in flat files, empty lines and missing values. Note that missing values are also commonly referred to as `NA` or `NaN`. To wrap up this chapter, you're now going to import a slightly corrupted copy of the Titanic dataset `titanic_corrupt.txt`, which\n",
    "\n",
    "- contains comments after the character `'#'`\n",
    "- is tab-delimited."
   ]
  },
  {
   "cell_type": "markdown",
   "id": "4b83ab2b",
   "metadata": {},
   "source": [
    "### 1.18.1 Instructions\n",
    "\n",
    "- Complete the `sep` (the `pandas` version of `delim`), `comment` and `na_values` arguments of `pd.read_csv()`. `comment` takes characters that comments occur after in the file, which in this case is `'#'`. `na_values` takes a list of strings to recognize as `NA`/`NaN`, in this case the string `'Nothing'`.\n",
    "- Execute the rest of the code to print the head of the resulting DataFrame and plot the histogram of the `'Age'` of passengers aboard the Titanic."
   ]
  },
  {
   "cell_type": "markdown",
   "id": "ccabfc95",
   "metadata": {},
   "source": [
    "## 1.19 Final thoughts on data import"
   ]
  },
  {
   "cell_type": "markdown",
   "id": "42fe2ae3",
   "metadata": {},
   "source": []
  },
  {
   "cell_type": "markdown",
   "id": "d82751f5",
   "metadata": {},
   "source": []
  },
  {
   "cell_type": "markdown",
   "id": "5986d71d",
   "metadata": {},
   "source": []
  },
  {
   "cell_type": "markdown",
   "id": "5b867f3f",
   "metadata": {},
   "source": []
  },
  {
   "cell_type": "markdown",
   "id": "cd73605c",
   "metadata": {},
   "source": []
  },
  {
   "cell_type": "markdown",
   "id": "bfa4b1c8",
   "metadata": {},
   "source": []
  },
  {
   "cell_type": "markdown",
   "id": "04a6a4dd",
   "metadata": {},
   "source": []
  },
  {
   "cell_type": "markdown",
   "id": "ed6dcd9e",
   "metadata": {},
   "source": []
  },
  {
   "cell_type": "markdown",
   "id": "1ba7972c",
   "metadata": {},
   "source": []
  },
  {
   "cell_type": "markdown",
   "id": "cf1e9f91",
   "metadata": {},
   "source": []
  },
  {
   "cell_type": "markdown",
   "id": "5f43a110",
   "metadata": {},
   "source": []
  },
  {
   "cell_type": "markdown",
   "id": "4e8a8484",
   "metadata": {},
   "source": []
  },
  {
   "cell_type": "markdown",
   "id": "559230a5",
   "metadata": {},
   "source": []
  },
  {
   "cell_type": "markdown",
   "id": "3016b9e6",
   "metadata": {},
   "source": []
  },
  {
   "cell_type": "markdown",
   "id": "299539f4",
   "metadata": {},
   "source": []
  },
  {
   "cell_type": "markdown",
   "id": "38d5a025",
   "metadata": {},
   "source": []
  },
  {
   "cell_type": "markdown",
   "id": "f6b43e7a",
   "metadata": {},
   "source": []
  },
  {
   "cell_type": "markdown",
   "id": "29fc459a",
   "metadata": {},
   "source": []
  },
  {
   "cell_type": "markdown",
   "id": "0d06b659",
   "metadata": {},
   "source": []
  },
  {
   "cell_type": "markdown",
   "id": "cf9a44a2",
   "metadata": {},
   "source": []
  },
  {
   "cell_type": "markdown",
   "id": "a3066bd0",
   "metadata": {},
   "source": []
  },
  {
   "cell_type": "markdown",
   "id": "2fefd06f",
   "metadata": {},
   "source": []
  },
  {
   "cell_type": "markdown",
   "id": "36b35eb3",
   "metadata": {},
   "source": []
  },
  {
   "cell_type": "markdown",
   "id": "fdd275c2",
   "metadata": {},
   "source": []
  },
  {
   "cell_type": "markdown",
   "id": "398563dd",
   "metadata": {},
   "source": []
  },
  {
   "cell_type": "markdown",
   "id": "4f2a5f05",
   "metadata": {},
   "source": []
  },
  {
   "cell_type": "markdown",
   "id": "e416b90c",
   "metadata": {},
   "source": []
  },
  {
   "cell_type": "markdown",
   "id": "86849258",
   "metadata": {},
   "source": []
  },
  {
   "cell_type": "markdown",
   "id": "37c41d5d",
   "metadata": {},
   "source": []
  },
  {
   "cell_type": "markdown",
   "id": "051001e5",
   "metadata": {},
   "source": []
  },
  {
   "cell_type": "markdown",
   "id": "2cbacdaa",
   "metadata": {},
   "source": []
  },
  {
   "cell_type": "markdown",
   "id": "e17e7884",
   "metadata": {},
   "source": []
  },
  {
   "cell_type": "markdown",
   "id": "21a0dd5b",
   "metadata": {},
   "source": []
  },
  {
   "cell_type": "markdown",
   "id": "61438e16",
   "metadata": {},
   "source": []
  },
  {
   "cell_type": "markdown",
   "id": "7bb2149f",
   "metadata": {},
   "source": []
  },
  {
   "cell_type": "markdown",
   "id": "a0c98d6c",
   "metadata": {},
   "source": []
  },
  {
   "cell_type": "markdown",
   "id": "a7439f60",
   "metadata": {},
   "source": []
  },
  {
   "cell_type": "markdown",
   "id": "0cb79e3b",
   "metadata": {},
   "source": []
  },
  {
   "cell_type": "markdown",
   "id": "00e40a4d",
   "metadata": {},
   "source": []
  },
  {
   "cell_type": "markdown",
   "id": "89d570c8",
   "metadata": {},
   "source": []
  },
  {
   "cell_type": "markdown",
   "id": "5ab8fd49",
   "metadata": {},
   "source": []
  },
  {
   "cell_type": "markdown",
   "id": "665229e9",
   "metadata": {},
   "source": []
  },
  {
   "cell_type": "markdown",
   "id": "d4a4cc37",
   "metadata": {},
   "source": []
  },
  {
   "cell_type": "markdown",
   "id": "2a7792f0",
   "metadata": {},
   "source": []
  },
  {
   "cell_type": "markdown",
   "id": "be7b3f39",
   "metadata": {},
   "source": []
  },
  {
   "cell_type": "markdown",
   "id": "92c695c0",
   "metadata": {},
   "source": []
  },
  {
   "cell_type": "markdown",
   "id": "2f014c34",
   "metadata": {},
   "source": []
  },
  {
   "cell_type": "markdown",
   "id": "e03f2ea0",
   "metadata": {},
   "source": []
  },
  {
   "cell_type": "markdown",
   "id": "bd049b4c",
   "metadata": {},
   "source": []
  },
  {
   "cell_type": "markdown",
   "id": "02ab7b41",
   "metadata": {},
   "source": []
  },
  {
   "cell_type": "markdown",
   "id": "3699c69c",
   "metadata": {},
   "source": []
  },
  {
   "cell_type": "markdown",
   "id": "2a35e276",
   "metadata": {},
   "source": []
  },
  {
   "cell_type": "markdown",
   "id": "d3bec74a",
   "metadata": {},
   "source": []
  },
  {
   "cell_type": "markdown",
   "id": "1b646346",
   "metadata": {},
   "source": []
  },
  {
   "cell_type": "markdown",
   "id": "019ba93f",
   "metadata": {},
   "source": []
  },
  {
   "cell_type": "markdown",
   "id": "aa4e118c",
   "metadata": {},
   "source": []
  },
  {
   "cell_type": "markdown",
   "id": "3cdab947",
   "metadata": {},
   "source": []
  },
  {
   "cell_type": "markdown",
   "id": "44c8fcf2",
   "metadata": {},
   "source": []
  },
  {
   "cell_type": "markdown",
   "id": "58d4c2e6",
   "metadata": {},
   "source": []
  },
  {
   "cell_type": "markdown",
   "id": "d7c70ca5",
   "metadata": {},
   "source": []
  },
  {
   "cell_type": "markdown",
   "id": "0378a17d",
   "metadata": {},
   "source": []
  },
  {
   "cell_type": "markdown",
   "id": "89dfda9d",
   "metadata": {},
   "source": []
  },
  {
   "cell_type": "markdown",
   "id": "9323fba9",
   "metadata": {},
   "source": []
  },
  {
   "cell_type": "markdown",
   "id": "e110515c",
   "metadata": {},
   "source": []
  },
  {
   "cell_type": "markdown",
   "id": "f5859843",
   "metadata": {},
   "source": []
  },
  {
   "cell_type": "markdown",
   "id": "fb6d4798",
   "metadata": {},
   "source": []
  },
  {
   "cell_type": "markdown",
   "id": "25a9554d",
   "metadata": {},
   "source": []
  },
  {
   "cell_type": "markdown",
   "id": "f78a1270",
   "metadata": {},
   "source": []
  },
  {
   "cell_type": "markdown",
   "id": "1f9a1b4e",
   "metadata": {},
   "source": []
  },
  {
   "cell_type": "markdown",
   "id": "b5ea9fba",
   "metadata": {},
   "source": []
  },
  {
   "cell_type": "markdown",
   "id": "7e814f7c",
   "metadata": {},
   "source": []
  },
  {
   "cell_type": "markdown",
   "id": "53d60950",
   "metadata": {},
   "source": []
  },
  {
   "cell_type": "markdown",
   "id": "245aadfc",
   "metadata": {},
   "source": []
  },
  {
   "cell_type": "markdown",
   "id": "2f4790bc",
   "metadata": {},
   "source": []
  },
  {
   "cell_type": "markdown",
   "id": "6a944ec8",
   "metadata": {},
   "source": []
  },
  {
   "cell_type": "markdown",
   "id": "e8dbc012",
   "metadata": {},
   "source": []
  },
  {
   "cell_type": "markdown",
   "id": "fb4b6896",
   "metadata": {},
   "source": []
  },
  {
   "cell_type": "markdown",
   "id": "b8239e7e",
   "metadata": {},
   "source": []
  },
  {
   "cell_type": "markdown",
   "id": "7445b87b",
   "metadata": {},
   "source": []
  },
  {
   "cell_type": "markdown",
   "id": "44162f37",
   "metadata": {},
   "source": []
  },
  {
   "cell_type": "markdown",
   "id": "8784974c",
   "metadata": {},
   "source": []
  },
  {
   "cell_type": "markdown",
   "id": "47b623fd",
   "metadata": {},
   "source": []
  },
  {
   "cell_type": "markdown",
   "id": "bdfe43cb",
   "metadata": {},
   "source": []
  },
  {
   "cell_type": "markdown",
   "id": "de2e4db4",
   "metadata": {},
   "source": []
  },
  {
   "cell_type": "markdown",
   "id": "90f5b66f",
   "metadata": {},
   "source": []
  },
  {
   "cell_type": "markdown",
   "id": "881b6435",
   "metadata": {},
   "source": []
  },
  {
   "cell_type": "markdown",
   "id": "25dc21e2",
   "metadata": {},
   "source": []
  },
  {
   "cell_type": "markdown",
   "id": "d7d4faca",
   "metadata": {},
   "source": []
  },
  {
   "cell_type": "markdown",
   "id": "aec2c8c3",
   "metadata": {},
   "source": []
  },
  {
   "cell_type": "markdown",
   "id": "a87f9fa0",
   "metadata": {},
   "source": []
  },
  {
   "cell_type": "markdown",
   "id": "c7d34922",
   "metadata": {},
   "source": []
  },
  {
   "cell_type": "markdown",
   "id": "88c99e86",
   "metadata": {},
   "source": []
  },
  {
   "cell_type": "markdown",
   "id": "a439981f",
   "metadata": {},
   "source": []
  },
  {
   "cell_type": "markdown",
   "id": "205e8dde",
   "metadata": {},
   "source": []
  },
  {
   "cell_type": "markdown",
   "id": "f6046272",
   "metadata": {},
   "source": []
  },
  {
   "cell_type": "markdown",
   "id": "b7c3690b",
   "metadata": {},
   "source": []
  },
  {
   "cell_type": "markdown",
   "id": "5c85897d",
   "metadata": {},
   "source": []
  },
  {
   "cell_type": "markdown",
   "id": "9948cde0",
   "metadata": {},
   "source": []
  },
  {
   "cell_type": "markdown",
   "id": "d07bfc37",
   "metadata": {},
   "source": []
  },
  {
   "cell_type": "markdown",
   "id": "9389b6b0",
   "metadata": {},
   "source": []
  },
  {
   "cell_type": "markdown",
   "id": "22a8c76d",
   "metadata": {},
   "source": []
  },
  {
   "cell_type": "markdown",
   "id": "f3180c9b",
   "metadata": {},
   "source": []
  },
  {
   "cell_type": "markdown",
   "id": "1482dbbb",
   "metadata": {},
   "source": []
  },
  {
   "cell_type": "markdown",
   "id": "3ba696fd",
   "metadata": {},
   "source": []
  },
  {
   "cell_type": "markdown",
   "id": "fc17d149",
   "metadata": {},
   "source": []
  },
  {
   "cell_type": "markdown",
   "id": "79edd55f",
   "metadata": {},
   "source": []
  },
  {
   "cell_type": "markdown",
   "id": "830b9ed8",
   "metadata": {},
   "source": []
  },
  {
   "cell_type": "markdown",
   "id": "b2e3b99a",
   "metadata": {},
   "source": []
  },
  {
   "cell_type": "markdown",
   "id": "3c02899c",
   "metadata": {},
   "source": []
  },
  {
   "cell_type": "markdown",
   "id": "827628cd",
   "metadata": {},
   "source": []
  },
  {
   "cell_type": "markdown",
   "id": "2087bf63",
   "metadata": {},
   "source": []
  },
  {
   "cell_type": "markdown",
   "id": "7b3c1ffe",
   "metadata": {},
   "source": []
  },
  {
   "cell_type": "markdown",
   "id": "fa11d306",
   "metadata": {},
   "source": []
  },
  {
   "cell_type": "markdown",
   "id": "7cee6822",
   "metadata": {},
   "source": []
  },
  {
   "cell_type": "markdown",
   "id": "9cd46340",
   "metadata": {},
   "source": []
  },
  {
   "cell_type": "markdown",
   "id": "742b1e4c",
   "metadata": {},
   "source": []
  },
  {
   "cell_type": "markdown",
   "id": "298cc0a3",
   "metadata": {},
   "source": []
  },
  {
   "cell_type": "markdown",
   "id": "6bf242f6",
   "metadata": {},
   "source": []
  },
  {
   "cell_type": "markdown",
   "id": "b7416878",
   "metadata": {},
   "source": []
  },
  {
   "cell_type": "markdown",
   "id": "a5c29635",
   "metadata": {},
   "source": []
  },
  {
   "cell_type": "markdown",
   "id": "e0236b46",
   "metadata": {},
   "source": []
  }
 ],
 "metadata": {
  "kernelspec": {
   "display_name": "Python 3 (ipykernel)",
   "language": "python",
   "name": "python3"
  },
  "language_info": {
   "codemirror_mode": {
    "name": "ipython",
    "version": 3
   },
   "file_extension": ".py",
   "mimetype": "text/x-python",
   "name": "python",
   "nbconvert_exporter": "python",
   "pygments_lexer": "ipython3",
   "version": "3.9.15"
  }
 },
 "nbformat": 4,
 "nbformat_minor": 5
}
