{
 "cells": [
  {
   "cell_type": "markdown",
   "id": "f9b157b8",
   "metadata": {},
   "source": [
    "# 1 Introduction and flat files\n",
    "\n",
    "In this chapter, you'll learn how to import data into Python from all types of flat files, which are a simple and prevalent form of data storage. You've previously learned how to use NumPy and pandas—you will learn how to use these packages to import flat files and customize your imports."
   ]
  },
  {
   "cell_type": "markdown",
   "id": "2a129345",
   "metadata": {},
   "source": [
    "## 1.1 Welcome to the course!"
   ]
  },
  {
   "cell_type": "markdown",
   "id": "43cfb985",
   "metadata": {},
   "source": [
    "## 1.2 Exploring your working directory\n",
    "\n",
    "In order to import data into Python, you should first have an idea of what files are in your working directory.\n",
    "\n",
    "IPython, which is running on DataCamp's servers, has a bunch of cool commands, including its [magic commands](https://ipython.readthedocs.io/en/stable/overview.html). For example, starting a line with `!` gives you complete system shell access. This means that the IPython magic command `! ls` will display the contents of your current directory. Your task is to use the IPython magic command `! ls` to check out the contents of your current directory and answer the following question: which of the following files is in your working directory?"
   ]
  },
  {
   "cell_type": "markdown",
   "id": "1c71cc4a",
   "metadata": {},
   "source": [
    "### 1.2.1 Instructions\n",
    "\n",
    "### Possible Answers\n",
    "\n",
    "- [ ] `huck_finn.txt`\n",
    "\n",
    "\n",
    "- [ ] `titanic.csv`\n",
    "\n",
    "\n",
    "- [x] `moby_dick.txt`"
   ]
  },
  {
   "cell_type": "markdown",
   "id": "b335708b",
   "metadata": {},
   "source": [
    "## 1.3 Importing entire text files\n",
    "\n",
    "In this exercise, you'll be working with the file `moby_dick.txt`. It is a text file that contains the opening sentences of Moby Dick, one of the great American novels! Here you'll get experience opening a text file, printing its contents to the shell and, finally, closing it."
   ]
  },
  {
   "cell_type": "markdown",
   "id": "4300c0bd",
   "metadata": {},
   "source": [
    "### 1.3.1 Instructions\n",
    "\n",
    "- Open the file `moby_dick.txt` as *read-only* and store it in the variable `file`. Make sure to pass the filename enclosed in quotation marks `''`.\n",
    "- Print the contents of the file to the shell using the `print()` function. As Hugo showed in the video, you'll need to apply the method `read()` to the object `file`.\n",
    "- Check whether the file is closed by executing `print(file.closed)`.\n",
    "- Close the file using the `close()` method.\n",
    "- Check again that the file is closed as you did above."
   ]
  },
  {
   "cell_type": "code",
   "execution_count": null,
   "id": "e27f8865",
   "metadata": {},
   "outputs": [],
   "source": []
  },
  {
   "cell_type": "markdown",
   "id": "419d97f3",
   "metadata": {},
   "source": [
    "## 1.4 Importing text files line by line\n",
    "\n",
    "For large files, we may not want to print all of their content to the shell: you may wish to print only the first few lines. Enter the `readline()` method, which allows you to do this. When a file called `file` is open, you can print out the first line by executing `file.readline()`. If you execute the same command again, the second line will print, and so on.\n",
    "\n",
    "In the introductory video, Hugo also introduced the concept of a **context manager**. He showed that you can bind a variable `file` by using a context manager construct:\n",
    "\n",
    "```python\n",
    "with open('huck_finn.txt') as file:\n",
    "```\n",
    "\n",
    "While still within this construct, the variable `file` will be bound to `open('huck_finn.txt')`; thus, to print the file to the shell, all the code you need to execute is:\n",
    "\n",
    "```python\n",
    "with open('huck_finn.txt') as file:\n",
    "    print(file.readline())\n",
    "```\n",
    "\n",
    "You'll now use these tools to print the first few lines of `moby_dick.txt`!"
   ]
  },
  {
   "cell_type": "markdown",
   "id": "8f66aa5b",
   "metadata": {},
   "source": [
    "### 1.4.1 Instructions\n",
    "\n",
    "- Open `moby_dick.txt` using the `with` context manager and the variable `file`.\n",
    "- Print the first three lines of the file to the shell by using `readline()` three times within the context manager."
   ]
  },
  {
   "cell_type": "markdown",
   "id": "806de7af",
   "metadata": {},
   "source": [
    "## 1.5 The importance of flat files in data science"
   ]
  },
  {
   "cell_type": "markdown",
   "id": "b38406a9",
   "metadata": {},
   "source": [
    "## 1.6 Pop quiz: examples of flat files\n",
    "\n",
    "You're now well-versed in importing text files and you're about to become a wiz at importing flat files. But can you remember exactly what a flat file is? Test your knowledge by answering the following question: which of these file types below is NOT an example of a flat file?"
   ]
  },
  {
   "cell_type": "markdown",
   "id": "93cfeda6",
   "metadata": {},
   "source": [
    "### 1.6.1 Answer the question\n",
    "\n",
    "### Possible Answers\n",
    "\n",
    "- [ ] A .csv file.\n",
    "\n",
    "- [ ] A tab-delimited .txt.\n",
    "\n",
    "- [x] A relational database (e.g. PostgreSQL)."
   ]
  },
  {
   "cell_type": "markdown",
   "id": "bd3af38f",
   "metadata": {},
   "source": [
    "## 1.7 Pop quiz: what exactly are flat files?\n",
    "\n",
    "Which of the following statements about flat files is incorrect?"
   ]
  },
  {
   "cell_type": "markdown",
   "id": "be8b01f8",
   "metadata": {},
   "source": [
    "### 1.7.1 Answer the question\n",
    "\n",
    "### Possible Answers\n",
    "\n",
    "- [ ] Flat files consist of rows and each row is called a record.\n",
    "\n",
    "- [x] Flat files consist of multiple tables with structured relationships between the tables.\n",
    "\n",
    "- [ ] A record in a flat file is composed of *fields* or *attributes*, each of which contains at most one item of information.\n",
    "\n",
    "- [ ] Flat files are pervasive in data science."
   ]
  },
  {
   "cell_type": "markdown",
   "id": "67f25442",
   "metadata": {},
   "source": [
    "## 1.8 Why we like flat files and the Zen of Python\n",
    "\n",
    "In PythonLand, there are currently hundreds of *Python Enhancement Proposals*, commonly referred to as *PEP*s. [PEP8](https://www.python.org/dev/peps/pep-0008/), for example, is a standard style guide for Python, written by our sensei Guido van Rossum himself. It is the basis for how we here at DataCamp ask our instructors to style their code. Another one of my favorites is [PEP20](https://www.python.org/dev/peps/pep-0020/), commonly called the *Zen of Python*. Its abstract is as follows:\n",
    "\n",
    "> Long time Pythoneer Tim Peters succinctly channels the BDFL's guiding principles for Python's design into 20 aphorisms, only 19 of which have been written down.\n",
    "\n",
    "If you don't know what the acronym `BDFL` stands for, I suggest that you look [here](https://docs.python.org/3.3/glossary.html#term-bdfl). You can print the Zen of Python in your shell by typing `import this` into it! You're going to do this now and the 5th aphorism (line) will say something of particular interest.\n",
    "\n",
    "The question you need to answer is: **what is the 5th aphorism of the *Zen of Python*?**"
   ]
  },
  {
   "cell_type": "markdown",
   "id": "10bf2591",
   "metadata": {},
   "source": [
    "### 1.8.1 Instructions\n",
    "\n",
    "### Possible Answers\n",
    "\n",
    "- [x] Flat is better than nested.\n",
    "\n",
    "- [ ] Flat files are essential for data science.\n",
    "\n",
    "- [ ] The world is representable as a flat file.\n",
    "\n",
    "- [ ] Flatness is in the eye of the beholder."
   ]
  },
  {
   "cell_type": "markdown",
   "id": "9576514e",
   "metadata": {},
   "source": [
    "## 1.9 Importing flat files using NumPy"
   ]
  },
  {
   "cell_type": "markdown",
   "id": "9f9013ee",
   "metadata": {},
   "source": [
    "## 1.10 Using NumPy to import flat files\n",
    "\n",
    "In this exercise, you're now going to load the MNIST digit recognition dataset using the numpy function `loadtxt()` and see just how easy it can be:\n",
    "\n",
    "- The first argument will be the filename.\n",
    "- The second will be the delimiter which, in this case, is a comma.\n",
    "\n",
    "You can find more information about the MNIST dataset [here](http://yann.lecun.com/exdb/mnist/) on the webpage of Yann LeCun, who is currently Director of AI Research at Facebook and Founding Director of the NYU Center for Data Science, among many other things."
   ]
  },
  {
   "cell_type": "markdown",
   "id": "b97fb24e",
   "metadata": {},
   "source": [
    "### 1.10.1 Instructions\n",
    "\n",
    "- Fill in the arguments of `np.loadtxt()` by passing `file` and a comma `','` for the delimiter.\n",
    "- Fill in the argument of `print()` to print the type of the object `digits`. Use the function `type()`.\n",
    "- Execute the rest of the code to visualize one of the rows of the data."
   ]
  },
  {
   "cell_type": "markdown",
   "id": "5965a364",
   "metadata": {},
   "source": [
    "## 1.11 Customizing your NumPy import\n",
    "\n",
    "What if there are rows, such as a header, that you don't want to import? What if your file has a delimiter other than a comma? What if you only wish to import particular columns?\n",
    "\n",
    "There are a number of arguments that `np.loadtxt()` takes that you'll find useful:\n",
    "\n",
    "- `delimiter` changes the delimiter that `loadtxt()` is expecting.\n",
    "  - You can use `','` for comma-delimited.\n",
    "  - You can use `'\\t'` for tab-delimited.\n",
    "- `skiprows` allows you to specify *how many rows* (not indices) you wish to skip\n",
    "- `usecols` takes a *list* of the indices of the columns you wish to keep.\n",
    "\n",
    "The file that you'll be importing, `digits_header.txt`, has a header and is tab-delimited."
   ]
  },
  {
   "cell_type": "markdown",
   "id": "2f04688a",
   "metadata": {},
   "source": [
    "### 1.11.1 Instructions\n",
    "\n",
    "- Complete the arguments of `np.loadtxt()`: the file you're importing is tab-delimited, you want to skip the first row and you only want to import the first and third columns.\n",
    "- Complete the argument of the `print()` call in order to print the entire array that you just imported."
   ]
  },
  {
   "cell_type": "markdown",
   "id": "78f5f322",
   "metadata": {},
   "source": [
    "## 1.12 Importing different datatypes\n",
    "\n",
    "The file `seaslug.txt`\n",
    "\n",
    "- has a text header, consisting of strings\n",
    "- is tab-delimited.\n",
    "\n",
    "These data consists of percentage of sea slug larvae that had metamorphosed in a given time period. Read more [here](http://www.stat.ucla.edu/~rgould/datasets/aboutseaslugs.html).\n",
    "\n",
    "Due to the header, if you tried to import it as-is using `np.loadtxt()`, Python would throw you a `ValueError` and tell you that it `could not convert string to float`. There are two ways to deal with this: firstly, you can set the data type argument `dtype` equal to `str` (for string).\n",
    "\n",
    "Alternatively, you can skip the first row as we have seen before, using the `skiprows` argument."
   ]
  },
  {
   "cell_type": "markdown",
   "id": "5a11a860",
   "metadata": {},
   "source": [
    "### 1.12.1 Instructions\n",
    "\n",
    "- Complete the first call to `np.loadtxt()` by passing `file` as the first argument.\n",
    "- Execute `print(data[0])` to print the first element of `data`.\n",
    "- Complete the second call to `np.loadtxt()`. The file you're importing is tab-delimited, the datatype is `float`, and you want to skip the first row.\n",
    "- Print the 10th element of `data_float` by completing the `print()` command. Be guided by the previous `print()` call.\n",
    "- Execute the rest of the code to visualize the data."
   ]
  },
  {
   "cell_type": "markdown",
   "id": "710e4e76",
   "metadata": {},
   "source": [
    "## 1.13 Working with mixed datatypes (1)\n",
    "\n",
    "Much of the time you will need to import datasets which have different datatypes in different columns; one column may contain strings and another floats, for example. The function `np.loadtxt()` will freak at this. There is another function, `np.genfromtxt()`, which can handle such structures. If we pass `dtype=None` to it, it will figure out what types each column should be.\n",
    "\n",
    "Import `'titanic.csv'` using the function `np.genfromtxt()` as follows:\n",
    "\n",
    "```python\n",
    "data = np.genfromtxt('titanic.csv', delimiter=',', names=True, dtype=None)\n",
    "```\n",
    "\n",
    "Here, the first argument is the filename, the second specifies the delimiter `,` and the third argument `names` tells us there is a header. Because the data are of different types, `data` is an object called a [structured array](http://docs.scipy.org/doc/numpy/user/basics.rec.html). Because numpy arrays have to contain elements that are all the same type, the structured array solves this by being a 1D array, where each element of the array is a row of the flat file imported. You can test this by checking out the array's shape in the shell by executing `np.shape(data)`.\n",
    "\n",
    "Accessing rows and columns of structured arrays is super-intuitive: to get the ith row, merely execute `data[i]` and to get the column with name `'Fare'`, execute `data['Fare']`.\n",
    "\n",
    "After importing the Titanic data as a structured array (as per the instructions above), print the entire column with the name `Survived` to the shell. What are the last 4 values of this column?"
   ]
  },
  {
   "cell_type": "markdown",
   "id": "a1236600",
   "metadata": {},
   "source": [
    "### 1.13.1 Instructions\n",
    "\n",
    "### Possible Answers\n",
    "\n",
    "- [ ] 1,0,0,1.\n",
    "\n",
    "- [ ] 1,2,0,0.\n",
    "\n",
    "- [x] 1,0,1,0.\n",
    "\n",
    "- [ ] 0,1,1,1."
   ]
  },
  {
   "cell_type": "markdown",
   "id": "ba271c11",
   "metadata": {},
   "source": [
    "## 1.14 Working with mixed datatypes (2)\n",
    "\n",
    "You have just used `np.genfromtxt()` to import data containing mixed datatypes. There is also another function `np.recfromcsv()` that behaves similarly to `np.genfromtxt()`, except that its default `dtype` is `None`. In this exercise, you'll practice using this to achieve the same result."
   ]
  },
  {
   "cell_type": "markdown",
   "id": "819c285c",
   "metadata": {},
   "source": [
    "### 1.14.1 Instructions\n",
    "\n",
    "- Import `titanic.csv` using the function `np.recfromcsv()` and assign it to the variable, `d`. You'll only need to pass `file` to it because it has the defaults `delimiter=','` and `names=True` in addition to `dtype=None`!\n",
    "- Run the remaining code to print the first three entries of the resulting array `d`."
   ]
  },
  {
   "cell_type": "markdown",
   "id": "97d5796f",
   "metadata": {},
   "source": [
    "## 1.15 Importing flat files using pandas"
   ]
  },
  {
   "cell_type": "markdown",
   "id": "94bbcfc7",
   "metadata": {},
   "source": [
    "## 1.16 Using pandas to import flat files as DataFrames (1)\n",
    "\n",
    "In the last exercise, you were able to import flat files containing columns with different datatypes as `numpy` arrays. However, the `DataFrame` object in pandas is a more appropriate structure in which to store such data and, thankfully, we can easily import files of mixed data types as DataFrames using the pandas functions `read_csv()` and `read_table()`."
   ]
  },
  {
   "cell_type": "markdown",
   "id": "fc824361",
   "metadata": {},
   "source": [
    "### 1.16.1 Instructions\n",
    "\n",
    "- Import the `pandas` package using the alias `pd`.\n",
    "- Read `titanic.csv` into a DataFrame called `df`. The file name is already stored in the `file` object.\n",
    "- In a `print()` call, view the head of the DataFrame."
   ]
  },
  {
   "cell_type": "markdown",
   "id": "bd27af63",
   "metadata": {},
   "source": [
    "## 1.17 Using pandas to import flat files as DataFrames (2)\n",
    "\n",
    "In the last exercise, you were able to import flat files into a `pandas` DataFrame. As a bonus, it is then straightforward to retrieve the corresponding `numpy` array using the attribute `values`. You'll now have a chance to do this using the MNIST dataset, which is available as `digits.csv`."
   ]
  },
  {
   "cell_type": "markdown",
   "id": "ecde8ac6",
   "metadata": {},
   "source": [
    "### 1.17.1 Instructions\n",
    "\n",
    "- Import the first 5 rows of the file into a DataFrame using the function `pd.read_csv()` and assign the result to `data`. You'll need to use the arguments `nrows` and `header` (there is no header in this file).\n",
    "- Build a `numpy` array from the resulting DataFrame in `data` and assign to `data_array`.\n",
    "- Execute `print(type(data_array))` to print the datatype of `data_array`."
   ]
  },
  {
   "cell_type": "markdown",
   "id": "d60f22f1",
   "metadata": {},
   "source": [
    "## 1.18 Customizing your pandas import\n",
    "\n",
    "The `pandas` package is also great at dealing with many of the issues you will encounter when importing data as a data scientist, such as comments occurring in flat files, empty lines and missing values. Note that missing values are also commonly referred to as `NA` or `NaN`. To wrap up this chapter, you're now going to import a slightly corrupted copy of the Titanic dataset `titanic_corrupt.txt`, which\n",
    "\n",
    "- contains comments after the character `'#'`\n",
    "- is tab-delimited."
   ]
  },
  {
   "cell_type": "markdown",
   "id": "4b83ab2b",
   "metadata": {},
   "source": [
    "### 1.18.1 Instructions\n",
    "\n",
    "- Complete the `sep` (the `pandas` version of `delim`), `comment` and `na_values` arguments of `pd.read_csv()`. `comment` takes characters that comments occur after in the file, which in this case is `'#'`. `na_values` takes a list of strings to recognize as `NA`/`NaN`, in this case the string `'Nothing'`.\n",
    "- Execute the rest of the code to print the head of the resulting DataFrame and plot the histogram of the `'Age'` of passengers aboard the Titanic."
   ]
  },
  {
   "cell_type": "markdown",
   "id": "ccabfc95",
   "metadata": {},
   "source": [
    "## 1.19 Final thoughts on data import"
   ]
  },
  {
   "cell_type": "markdown",
   "id": "42fe2ae3",
   "metadata": {},
   "source": [
    "# 2 Importing data from other file types\n",
    "\n",
    "You've learned how to import flat files, but there are many other file types you will potentially have to work with as a data scientist. In this chapter, you'll learn how to import data into Python from a wide array of important file types. These include pickled files, Excel spreadsheets, SAS and Stata files, HDF5 files, a file type for storing large quantities of numerical data, and MATLAB files."
   ]
  },
  {
   "cell_type": "markdown",
   "id": "d82751f5",
   "metadata": {},
   "source": [
    "## 2.1 Introduction to other file types"
   ]
  },
  {
   "cell_type": "markdown",
   "id": "5986d71d",
   "metadata": {},
   "source": [
    "## 2.2 Not so flat any more\n",
    "\n",
    "In Chapter 1, you learned how to use the IPython magic command `! ls` to explore your current working directory. You can also do this natively in Python using the [library `os`](https://docs.python.org/2/library/os.html), which consists of miscellaneous operating system interfaces.\n",
    "\n",
    "The first line of the following code imports the library `os`, the second line stores the name of the current directory in a string called `wd` and the third outputs the contents of the directory in a list to the shell.\n",
    "\n",
    "```python\n",
    "import os\n",
    "wd = os.getcwd()\n",
    "os.listdir(wd)\n",
    "```\n",
    "\n",
    "Run this code in the IPython shell and answer the following questions. Ignore the files that begin with `.`.\n",
    "\n",
    "Check out the contents of your current directory and answer the following questions: (1) which file is in your directory and NOT an example of a flat file; (2) why is it not a flat file?"
   ]
  },
  {
   "cell_type": "markdown",
   "id": "5b867f3f",
   "metadata": {},
   "source": [
    "### 2.2.1 Instructions\n",
    "\n",
    "### Possible Answers\n",
    "\n",
    "- [ ] `database.db` is not a flat file because relational databases contain structured relationships and flat files do not.\n",
    "\n",
    "\n",
    "- [x] `battledeath.xlsx` is not a flat because it is a spreadsheet consisting of many sheets, not a single table.\n",
    "\n",
    "\n",
    "- [ ] `titanic.txt` is not a flat file because it is a `.txt`, not a `.csv`."
   ]
  },
  {
   "cell_type": "markdown",
   "id": "cd73605c",
   "metadata": {},
   "source": [
    "## 2.3 Loading a pickled file\n",
    "\n",
    "There are a number of datatypes that cannot be saved easily to flat files, such as lists and dictionaries. If you want your files to be human readable, you may want to save them as text files in a clever manner. JSONs, which you will see in a later chapter, are appropriate for Python dictionaries.\n",
    "\n",
    "However, if you merely want to be able to import them into Python, you can [serialize](https://en.wikipedia.org/wiki/Serialization) them. All this means is converting the object into a sequence of bytes, or a bytestream.\n",
    "\n",
    "In this exercise, you'll import the `pickle` package, open a previously pickled data structure from a file and load it."
   ]
  },
  {
   "cell_type": "markdown",
   "id": "bfa4b1c8",
   "metadata": {},
   "source": [
    "### 2.3.1 Instructions\n",
    "\n",
    "- Import the `pickle` package.\n",
    "- Complete the second argument of `open()` so that it is read only for a binary file. This argument will be a string of two letters, one signifying 'read only', the other 'binary'.\n",
    "- Pass the correct argument to `pickle.load()`; it should use the variable that is bound to `open`.\n",
    "- Print the data, `d`.\n",
    "- Print the datatype of `d`; take your mind back to your previous use of the function `type()`."
   ]
  },
  {
   "cell_type": "markdown",
   "id": "04a6a4dd",
   "metadata": {},
   "source": [
    "## 2.4 Listing sheets in Excel files\n",
    "\n",
    "Whether you like it or not, any working data scientist will need to deal with Excel spreadsheets at some point in time. You won't always want to do so in Excel, however!\n",
    "\n",
    "Here, you'll learn how to use `pandas` to import Excel spreadsheets and how to list the names of the sheets in any loaded .xlsx file.\n",
    "\n",
    "Recall from the video that, given an Excel file imported into a variable `spreadsheet`, you can retrieve a list of the sheet names using the attribute `spreadsheet.sheet_names`.\n",
    "\n",
    "Specifically, you'll be loading and checking out the spreadsheet `'battledeath.xlsx'`, modified from the Peace Research Institute Oslo's (PRIO) [dataset](https://www.prio.org/Data/Armed-Conflict/Battle-Deaths/The-Battle-Deaths-Dataset-version-30/). This data contains age-adjusted mortality rates due to war in various countries over several years."
   ]
  },
  {
   "cell_type": "markdown",
   "id": "ed6dcd9e",
   "metadata": {},
   "source": [
    "### 2.4.1 Instructions\n",
    "\n",
    "- Assign the spreadsheet filename (provided above) to the variable `file`.\n",
    "- Pass the correct argument to `pd.ExcelFile()` to load the file using pandas, assigning the result to the variable `xls`.\n",
    "- Print the sheetnames of the Excel spreadsheet by passing the necessary argument to the `print()` function."
   ]
  },
  {
   "cell_type": "markdown",
   "id": "1ba7972c",
   "metadata": {},
   "source": [
    "## 2.5 Importing sheets from Excel files\n",
    "\n",
    "In the previous exercises, you saw that the Excel file contains two sheets, `'2002'` and `'2004'`. The next step is to import these.\n",
    "\n",
    "In this exercise, you'll learn how to import any given sheet of your loaded .xlsx file as a DataFrame. You'll be able to do so by specifying either the sheet's name or its index.\n",
    "\n",
    "The spreadsheet `'battledeath.xlsx'` is already loaded as `xls`."
   ]
  },
  {
   "cell_type": "markdown",
   "id": "cf1e9f91",
   "metadata": {},
   "source": [
    "### 2.5.1 Instructions\n",
    "\n",
    "- Load the sheet `'2004'` into the DataFrame `df1` using its name as a string.\n",
    "- Print the head of `df1` to the shell.\n",
    "- Load the sheet `2002` into the DataFrame `df2` using its index (`0`).\n",
    "- Print the head of `df2` to the shell."
   ]
  },
  {
   "cell_type": "markdown",
   "id": "5f43a110",
   "metadata": {},
   "source": [
    "## 2.6 Customizing your spreadsheet import\n",
    "\n",
    "Here, you'll parse your spreadsheets and use additional arguments to skip rows, rename columns and select only particular columns.\n",
    "\n",
    "The spreadsheet `'battledeath.xlsx'` is already loaded as `xls`.\n",
    "\n",
    "As before, you'll use the method `parse()`. This time, however, you'll add the additional arguments `skiprows`, `names` and `usecols`. These skip rows, name the columns and designate which columns to parse, respectively. All these arguments can be assigned to lists containing the specific row numbers, strings and column numbers, as appropriate."
   ]
  },
  {
   "cell_type": "markdown",
   "id": "4e8a8484",
   "metadata": {},
   "source": [
    "### 2.6.1 Instructions\n",
    "\n",
    "- Parse the first sheet by index. In doing so, skip the first row of data and name the columns `'Country'` and `'AAM due to War (2002)'` using the argument `names`. The values passed to `skiprows` and `names` all need to be of type `list`.\n",
    "- Parse the second sheet by index. In doing so, parse only the first column with the `usecols` parameter, skip the first row and rename the column `'Country'`. The argument passed to `usecols` also needs to be of type `list`."
   ]
  },
  {
   "cell_type": "markdown",
   "id": "559230a5",
   "metadata": {},
   "source": [
    "## 2.7 Importing SAS/Stata files using pandas"
   ]
  },
  {
   "cell_type": "markdown",
   "id": "3016b9e6",
   "metadata": {},
   "source": [
    "## 2.8 How to import SAS7BDAT\n",
    "\n",
    "How do you correctly import the function `SAS7BDAT()` from the package sas7bdat?"
   ]
  },
  {
   "cell_type": "markdown",
   "id": "299539f4",
   "metadata": {},
   "source": [
    "### 2.8.1 Answer the question\n",
    "\n",
    "### Possible Answers\n",
    "\n",
    "- [ ] `import SAS7BDAT from sas7bdat`\n",
    "\n",
    "\n",
    "- [ ] `from SAS7BDAT import sas7bdat`\n",
    "\n",
    "\n",
    "- [ ] `import sas7bdat from SAS7BDAT`\n",
    "\n",
    "\n",
    "- [x] `from sas7bdat import SAS7BDAT`"
   ]
  },
  {
   "cell_type": "markdown",
   "id": "38d5a025",
   "metadata": {},
   "source": [
    "## 2.9 Importing SAS files\n",
    "\n",
    "In this exercise, you'll figure out how to import a SAS file as a DataFrame using `SAS7BDAT` and `pandas`. The file `'sales.sas7bdat'` is already in your working directory and both `pandas` and `matplotlib.pyplot` have already been imported as follows:\n",
    "\n",
    "```python\n",
    "import pandas as pd\n",
    "import matplotlib.pyplot as plt\n",
    "```\n",
    "\n",
    "The data are adapted from the website of the undergraduate text book [Principles of Econometrics](http://www.principlesofeconometrics.com/) by Hill, Griffiths and Lim."
   ]
  },
  {
   "cell_type": "markdown",
   "id": "f6b43e7a",
   "metadata": {},
   "source": [
    "### 2.9.1 Instructions\n",
    "\n",
    "- Import the module `SAS7BDAT` from the library `sas7bdat`.\n",
    "- In the context of the file `'sales.sas7bdat'`, load its contents to a DataFrame `df_sas`, using the method `to_data_frame()` on the object `file`.\n",
    "- Print the head of the DataFrame `df_sas`.\n",
    "- Execute your entire script to produce a histogram plot!"
   ]
  },
  {
   "cell_type": "markdown",
   "id": "29fc459a",
   "metadata": {},
   "source": [
    "## 2.10 Using read_stata to import Stata files\n",
    "\n",
    "The `pandas` package has been imported in the environment as `pd` and the file `disarea.dta` is in your working directory. The data consist of disease extents for several diseases in various countries (more information can be found [here](http://www.cid.harvard.edu/ciddata/geog/readme_disarea.html)).\n",
    "\n",
    "What is the correct way of using the `read_stata()` function to import `disarea.dta` into the object `df`?"
   ]
  },
  {
   "cell_type": "markdown",
   "id": "0d06b659",
   "metadata": {},
   "source": [
    "### 2.10.1 Instructions\n",
    "\n",
    "### Possible Answers\n",
    "\n",
    "- [ ] `df = 'disarea.dta'`\n",
    "\n",
    "\n",
    "- [ ] `df = read_stata.pd('disarea.dta')`\n",
    "\n",
    "\n",
    "- [x] `df = pd.read_stata('disarea.dta')`\n",
    "\n",
    "\n",
    "- [ ] `df = pd.read_stata(disarea.dta)`"
   ]
  },
  {
   "cell_type": "markdown",
   "id": "cf9a44a2",
   "metadata": {},
   "source": [
    "## 2.11 Importing Stata files\n",
    "\n",
    "Here, you'll gain expertise in importing Stata files as DataFrames using the `pd.read_stata()` function from `pandas`. The last exercise's file, `'disarea.dta'`, is still in your working directory."
   ]
  },
  {
   "cell_type": "markdown",
   "id": "a3066bd0",
   "metadata": {},
   "source": [
    "### 2.11.1 Instructions\n",
    "\n",
    "- Use `pd.read_stata()` to load the file `'disarea.dta'` into the DataFrame `df`.\n",
    "- Print the head of the DataFrame `df`.\n",
    "- Visualize your results by plotting a histogram of the column `disa10`. We’ve already provided this code for you, so just run it!"
   ]
  },
  {
   "cell_type": "markdown",
   "id": "2fefd06f",
   "metadata": {},
   "source": [
    "## 2.12 Importing HDF5 files"
   ]
  },
  {
   "cell_type": "markdown",
   "id": "36b35eb3",
   "metadata": {},
   "source": [
    "## 2.13 Using File to import HDF5 files\n",
    "\n",
    "The `h5py` package has been imported in the environment and the file `LIGO_data.hdf5` is loaded in the object `h5py_file`.\n",
    "\n",
    "What is the correct way of using the h5py function, `File()`, to import the file in `h5py_file` into an object, `h5py_data`, for *reading* only?"
   ]
  },
  {
   "cell_type": "markdown",
   "id": "fdd275c2",
   "metadata": {},
   "source": [
    "### 2.13.1 Instructions\n",
    "\n",
    "### Possible Answers\n",
    "\n",
    "- [ ] `h5py_data = File(h5py_file, 'r')`\n",
    "\n",
    "\n",
    "- [x] `h5py_data = h5py.File(h5py_file, 'r')`\n",
    "\n",
    "\n",
    "- [ ] `h5py_data = h5py.File(h5py_file, read)`\n",
    "\n",
    "\n",
    "- [ ] `h5py_data = h5py.File(h5py_file, 'read')`"
   ]
  },
  {
   "cell_type": "markdown",
   "id": "398563dd",
   "metadata": {},
   "source": [
    "## 2.14 Using h5py to import HDF5 files\n",
    "\n",
    "The file `'LIGO_data.hdf5'` is already in your working directory. In this exercise, you'll import it using the `h5py` library. You'll also print out its datatype to confirm you have imported it correctly. You'll then study the structure of the file in order to see precisely what HDF groups it contains.\n",
    "\n",
    "You can find the LIGO data plus loads of documentation and tutorials [here](https://losc.ligo.org/events/GW150914/). There is also a great tutorial on Signal Processing with the data [here](https://www.gw-openscience.org/GW150914data/LOSC_Event_tutorial_GW150914.html)."
   ]
  },
  {
   "cell_type": "markdown",
   "id": "4f2a5f05",
   "metadata": {},
   "source": [
    "### 2.14.1 Instructions\n",
    "\n",
    "- Import the package `h5py`.\n",
    "- Assign the name of the file to the variable `file`.\n",
    "- Load the file as read only into the variable `data`.\n",
    "- Print the datatype of `data`.\n",
    "- Print the names of the groups in the HDF5 file `'LIGO_data.hdf5'`."
   ]
  },
  {
   "cell_type": "markdown",
   "id": "e416b90c",
   "metadata": {},
   "source": [
    "## 2.15 Extracting data from your HDF5 file\n",
    "\n",
    "In this exercise, you'll extract some of the LIGO experiment's actual data from the HDF5 file and you'll visualize it.\n",
    "\n",
    "To do so, you'll need to first explore the HDF5 group `'strain'`."
   ]
  },
  {
   "cell_type": "markdown",
   "id": "86849258",
   "metadata": {},
   "source": [
    "### 2.15.1 Instructions\n",
    "\n",
    "- Assign the HDF5 group `data['strain']` to `group`.\n",
    "- In the `for` loop, print out the keys of the HDF5 group in `group`.\n",
    "- Assign the time series data `data['strain']['Strain']` to a NumPy array called `strain`.\n",
    "- Set `num_samples` equal to `10000`, the number of time points we wish to sample.\n",
    "- Execute the rest of the code to produce a plot of the time series data in `LIGO_data.hdf5`."
   ]
  },
  {
   "cell_type": "markdown",
   "id": "37c41d5d",
   "metadata": {},
   "source": [
    "## 2.16 Importing MATLAB files"
   ]
  },
  {
   "cell_type": "markdown",
   "id": "051001e5",
   "metadata": {},
   "source": [
    "## 2.17 Loading .mat files\n",
    "\n",
    "In this exercise, you'll figure out how to load a MATLAB file using `scipy.io.loadmat()` and you'll discover what Python datatype it yields.\n",
    "\n",
    "The file `'albeck_gene_expression.mat'` is in your working directory. This file contains [gene expression data](https://www.mcb.ucdavis.edu/faculty-labs/albeck/workshop.htm) from the Albeck Lab at UC Davis. You can find the data and some great documentation [here](https://www.mcb.ucdavis.edu/faculty-labs/albeck/workshop.htm)."
   ]
  },
  {
   "cell_type": "markdown",
   "id": "2cbacdaa",
   "metadata": {},
   "source": [
    "### 2.17.1 Instructions\n",
    "\n",
    "- Import the package `scipy.io`.\n",
    "- Load the file `'albeck_gene_expression.mat'` into the variable `mat`; do so using the function `scipy.io.loadmat()`.\n",
    "- Use the function `type()` to print the datatype of `mat` to the IPython shell."
   ]
  },
  {
   "cell_type": "markdown",
   "id": "e17e7884",
   "metadata": {},
   "source": [
    "## 2.18 The structure of .mat in Python\n",
    "\n",
    "Here, you'll discover what is in the MATLAB dictionary that you loaded in the previous exercise.\n",
    "\n",
    "The file `'albeck_gene_expression.mat'` is already loaded into the variable `mat`. The following libraries have already been imported as follows:\n",
    "\n",
    "```python\n",
    "import scipy.io\n",
    "import matplotlib.pyplot as plt\n",
    "import numpy as np\n",
    "```\n",
    "\n",
    "Once again, this file contains [gene expression data](https://www.mcb.ucdavis.edu/faculty-labs/albeck/workshop.htm) from the Albeck Lab at UCDavis. You can find the data and some great documentation [here](https://www.mcb.ucdavis.edu/faculty-labs/albeck/workshop.htm)."
   ]
  },
  {
   "cell_type": "markdown",
   "id": "21a0dd5b",
   "metadata": {},
   "source": [
    "### 2.18.1 Instructions\n",
    "\n",
    "- Use the method `.keys()` on the dictionary `mat` to print the keys. Most of these keys (in fact the ones that do NOT begin and end with '__') are variables from the corresponding MATLAB environment.\n",
    "- Print the type of the value corresponding to the key `'CYratioCyt'` in `mat`. Recall that `mat['CYratioCyt']` accesses the value.\n",
    "- Print the shape of the value corresponding to the key `'CYratioCyt'` using the `numpy` function `shape()`.\n",
    "- Execute the entire script to see some oscillatory gene expression data!"
   ]
  },
  {
   "cell_type": "markdown",
   "id": "61438e16",
   "metadata": {},
   "source": [
    "# 3 Working with relational databases in Python\n",
    "\n",
    "In this chapter, you'll learn how to extract meaningful data from relational databases, an essential skill for any data scientist. You will learn about relational models, how to create SQL queries, how to filter and order your SQL records, and how to perform advanced queries by joining database tables."
   ]
  },
  {
   "cell_type": "markdown",
   "id": "7bb2149f",
   "metadata": {},
   "source": [
    "## 3.1 Introduction to relational databases"
   ]
  },
  {
   "cell_type": "markdown",
   "id": "a0c98d6c",
   "metadata": {},
   "source": [
    "## 3.2 Pop quiz: The relational model\n",
    "\n",
    "Which of the following is not part of the relational model?"
   ]
  },
  {
   "cell_type": "markdown",
   "id": "a7439f60",
   "metadata": {},
   "source": [
    "### 3.2.1 Answer the question\n",
    "\n",
    "### Possible Answers\n",
    "\n",
    "- [ ] Each row or record in a table represents an instance of an entity type.\n",
    "\n",
    "- [ ] Each column in a table represents an attribute or feature of an instance.\n",
    "\n",
    "- [ ] Every table contains a primary key column, which has a unique entry for each row.\n",
    "\n",
    "- [x] A database consists of at least 3 tables.\n",
    "\n",
    "- [ ] There are relations between tables."
   ]
  },
  {
   "cell_type": "markdown",
   "id": "0cb79e3b",
   "metadata": {},
   "source": [
    "## 3.3 Creating a database engine in Python"
   ]
  },
  {
   "cell_type": "markdown",
   "id": "00e40a4d",
   "metadata": {},
   "source": [
    "## 3.4 Creating a database engine\n",
    "\n",
    "Here, you're going to fire up your very first SQL engine. You'll create an engine to connect to the SQLite database `'Chinook.sqlite'`, which is in your working directory. Remember that to create an engine to connect to `'Northwind.sqlite'`, Hugo executed the command\n",
    "\n",
    "```python\n",
    "engine = create_engine('sqlite:///Northwind.sqlite')\n",
    "```\n",
    "\n",
    "Here, `'sqlite:///Northwind.sqlite'` is called the *connection string* to the SQLite database `Northwind.sqlite`. A little bit of background on the [Chinook database](https://github.com/lerocha/chinook-database): the Chinook database contains information about a semi-fictional digital media store in which media data is real and customer, employee and sales data has been manually created.\n",
    "\n",
    "Why the name Chinook, you ask? According to their [website](https://github.com/lerocha/chinook-database),\n",
    "\n",
    "> The name of this sample database was based on the Northwind database. Chinooks are winds in the interior West of North America, where the Canadian Prairies and Great Plains meet various mountain ranges. Chinooks are most prevalent over southern Alberta in Canada. Chinook is a good name choice for a database that intends to be an alternative to Northwind."
   ]
  },
  {
   "cell_type": "markdown",
   "id": "89d570c8",
   "metadata": {},
   "source": [
    "### 3.4.1 Instructions\n",
    "\n",
    "- Import the function `create_engine` from the module `sqlalchemy`.\n",
    "- Create an engine to connect to the SQLite database `'Chinook.sqlite'` and assign it to `engine`."
   ]
  },
  {
   "cell_type": "markdown",
   "id": "5ab8fd49",
   "metadata": {},
   "source": [
    "## 3.5 What are the tables in the database?\n",
    "\n",
    "In this exercise, you'll once again create an engine to connect to `'Chinook.sqlite'`. Before you can get any data out of the database, however, you'll need to know what tables it contains!\n",
    "\n",
    "To this end, you'll save the table names to a list using the method `table_names()` on the engine and then you will print the list."
   ]
  },
  {
   "cell_type": "markdown",
   "id": "665229e9",
   "metadata": {},
   "source": [
    "### 3.5.1 Instructions\n",
    "\n",
    "- Import the function `create_engine` from the module `sqlalchemy`.\n",
    "- Create an engine to connect to the SQLite database `'Chinook.sqlite'` and assign it to `engine`.\n",
    "- Using the method `table_names()` on the engine `engine`, assign the table names of `'Chinook.sqlite'` to the variable `table_names`.\n",
    "- Print the object `table_names` to the shell."
   ]
  },
  {
   "cell_type": "markdown",
   "id": "d4a4cc37",
   "metadata": {},
   "source": [
    "## 3.6 Querying relational databases in Python"
   ]
  },
  {
   "cell_type": "markdown",
   "id": "2a7792f0",
   "metadata": {},
   "source": [
    "## 3.7 The Hello World of SQL Queries!\n",
    "\n",
    "Now, it's time for liftoff! In this exercise, you'll perform the Hello World of SQL queries, `SELECT`, in order to retrieve all columns of the table `Album` in the Chinook database. Recall that the query `SELECT *` selects all columns."
   ]
  },
  {
   "cell_type": "markdown",
   "id": "be7b3f39",
   "metadata": {},
   "source": [
    "### 3.7.1 Instructions\n",
    "\n",
    "- Open the engine connection as `con` using the method `connect()` on the engine.\n",
    "- Execute the query that **selects** *ALL columns* **from** the `Album` table. Store the results in `rs`.\n",
    "- Store all of your query results in the DataFrame `df` by applying the `fetchall()` method to the results `rs`.\n",
    "- Close the connection!"
   ]
  },
  {
   "cell_type": "markdown",
   "id": "92c695c0",
   "metadata": {},
   "source": [
    "## 3.8 Customizing the Hello World of SQL Queries\n",
    "\n",
    "Congratulations on executing your first SQL query! Now you're going to figure out how to customize your query in order to:\n",
    "\n",
    "- Select specified columns from a table;\n",
    "- Select a specified number of rows;\n",
    "- Import column names from the database table.\n",
    "\n",
    "Recall that Hugo performed a very similar query customization in the video:\n",
    "\n",
    "```python\n",
    "engine = create_engine('sqlite:///Northwind.sqlite')\n",
    "\n",
    "with engine.connect() as con:\n",
    "    rs = con.execute(\"SELECT OrderID, OrderDate, ShipName FROM Orders\")\n",
    "    df = pd.DataFrame(rs.fetchmany(size=5))\n",
    "    df.columns = rs.keys()\n",
    "```\n",
    "\n",
    "Packages have already been imported as follows:\n",
    "\n",
    "```python\n",
    "from sqlalchemy import create_engine\n",
    "import pandas as pd\n",
    "```\n",
    "\n",
    "The engine has also already been created:\n",
    "\n",
    "```python\n",
    "engine = create_engine('sqlite:///Chinook.sqlite')\n",
    "```\n",
    "\n",
    "The engine connection is already open with the statement\n",
    "\n",
    "```python\n",
    "with engine.connect() as con:\n",
    "```\n",
    "\n",
    "All the code you need to complete is within this context."
   ]
  },
  {
   "cell_type": "markdown",
   "id": "2f014c34",
   "metadata": {},
   "source": [
    "### 3.8.1 Instructions\n",
    "\n",
    "- Execute the SQL query that **selects** the columns `LastName` and `Title` **from** the `Employee` table. Store the results in the variable `rs`.\n",
    "- Apply the method `fetchmany()` to `rs` in order to retrieve 3 of the records. Store them in the DataFrame `df`.\n",
    "- Using the `rs` object, set the DataFrame's column names to the corresponding names of the table columns."
   ]
  },
  {
   "cell_type": "markdown",
   "id": "e03f2ea0",
   "metadata": {},
   "source": [
    "## 3.9 Filtering your database records using SQL's WHERE\n",
    "\n",
    "You can now execute a basic SQL query to select records from any table in your database and you can also perform simple query customizations to select particular columns and numbers of rows.\n",
    "\n",
    "There are a couple more standard SQL query chops that will aid you in your journey to becoming an SQL ninja.\n",
    "\n",
    "Let's say, for example that you wanted to get all records from the `Customer` table of the Chinook database for which the `Country` is `'Canada'`. You can do this very easily in SQL using a `SELECT` statement followed by a `WHERE` clause as follows:\n",
    "\n",
    "```python\n",
    "SELECT * FROM Customer WHERE Country = 'Canada'\n",
    "```\n",
    "\n",
    "In fact, you can filter any `SELECT` statement by any condition using a `WHERE` clause. This is called *filtering* your records.\n",
    "\n",
    "In this interactive exercise, you'll select all records of the `Employee` table for which `'EmployeeId'` is greater than or equal to `6`.\n",
    "\n",
    "Packages are already imported as follows:\n",
    "\n",
    "```python\n",
    "import pandas as pd\n",
    "from sqlalchemy import create_engine\n",
    "```\n",
    "\n",
    "Query away!"
   ]
  },
  {
   "cell_type": "markdown",
   "id": "bd049b4c",
   "metadata": {},
   "source": [
    "### 3.9.1 Instructions\n",
    "\n",
    "- Complete the argument of `create_engine()` so that the engine for the SQLite database `'Chinook.sqlite'` is created.\n",
    "- Execute the query that **selects** *all* records **from** the `Employee` table **where** `'EmployeeId'` is greater than or equal to `6`. Use the `>=` operator and assign the results to `rs`.\n",
    "- Apply the method `fetchall()` to `rs` in order to fetch all records in `rs`. Store them in the DataFrame `df`.\n",
    "- Using the `rs` object, set the DataFrame's column names to the corresponding names of the table columns."
   ]
  },
  {
   "cell_type": "markdown",
   "id": "02ab7b41",
   "metadata": {},
   "source": [
    "## 3.10 Ordering your SQL records with ORDER BY\n",
    "\n",
    "You can also *order* your SQL query results. For example, if you wanted to get all records from the `Customer` table of the Chinook database and order them in increasing order by the column `SupportRepId`, you could do so with the following query:\n",
    "\n",
    "```python\n",
    "\"SELECT * FROM Customer ORDER BY SupportRepId\"\n",
    "```\n",
    "\n",
    "In fact, you can order any `SELECT` statement by any column.\n",
    "\n",
    "In this interactive exercise, you'll select all records of the `Employee` table and order them in increasing order by the column `BirthDate`.\n",
    "\n",
    "Packages are already imported as follows:\n",
    "\n",
    "```python\n",
    "import pandas as pd\n",
    "from sqlalchemy import create_engine\n",
    "```\n",
    "\n",
    "Get querying!"
   ]
  },
  {
   "cell_type": "markdown",
   "id": "3699c69c",
   "metadata": {},
   "source": [
    "### 3.10.1 Instructions\n",
    "\n",
    "- Using the function `create_engine()`, create an engine for the SQLite database `Chinook.sqlite` and assign it to the variable `engine`.\n",
    "- In the context manager, execute the query that **selects** *all* records **from** the `Employee` table and **orders** them in increasing order **by** the column `BirthDate`. Assign the result to `rs`.\n",
    "- In a call to `pd.DataFrame()`, apply the method `fetchall()` to `rs` in order to fetch all records in `rs`. Store them in the DataFrame `df`.\n",
    "- Set the DataFrame's column names to the corresponding names of the table columns."
   ]
  },
  {
   "cell_type": "markdown",
   "id": "2a35e276",
   "metadata": {},
   "source": [
    "## 3.11 Querying relational databases directly with pandas"
   ]
  },
  {
   "cell_type": "markdown",
   "id": "d3bec74a",
   "metadata": {},
   "source": [
    "## 3.12 Pandas and The Hello World of SQL Queries!\n",
    "\n",
    "Here, you'll take advantage of the power of `pandas` to write the results of your SQL query to a DataFrame in one swift line of Python code!\n",
    "\n",
    "You'll first import `pandas` and create the SQLite `'Chinook.sqlite'` engine. Then you'll query the database to select all records from the `Album` table.\n",
    "\n",
    "Recall that to select all records from the `Orders` table in the Northwind database, Hugo executed the following command:\n",
    "\n",
    "```python\n",
    "df = pd.read_sql_query(\"SELECT * FROM Orders\", engine)\n",
    "```"
   ]
  },
  {
   "cell_type": "markdown",
   "id": "1b646346",
   "metadata": {},
   "source": [
    "### 3.12.1 Instructions\n",
    "\n",
    "- Import the `pandas` package using the alias `pd`.\n",
    "- Using the function `create_engine()`, create an engine for the SQLite database `Chinook.sqlite` and assign it to the variable `engine`.\n",
    "- Use the `pandas` function `read_sql_query()` to assign to the variable `df` the DataFrame of results from the following query: **select** *all* records **from** the table `Album`.\n",
    "- The remainder of the code is included to confirm that the DataFrame created by this method is equal to that created by the previous method that you learned."
   ]
  },
  {
   "cell_type": "markdown",
   "id": "019ba93f",
   "metadata": {},
   "source": [
    "## 3.13 Pandas for more complex querying\n",
    "\n",
    "Here, you'll become more familiar with the pandas function `read_sql_query()` by using it to execute a more complex query: a `SELECT` statement followed by both a `WHERE` clause AND an `ORDER BY` clause.\n",
    "\n",
    "You'll build a DataFrame that contains the rows of the `Employee` table for which the `EmployeeId` is greater than or equal to `6` and you'll order these entries by `BirthDate`."
   ]
  },
  {
   "cell_type": "markdown",
   "id": "aa4e118c",
   "metadata": {},
   "source": [
    "### 3.13.1 Instructions\n",
    "\n",
    "- Using the function `create_engine()`, create an engine for the SQLite database `Chinook.sqlite` and assign it to the variable `engine`.\n",
    "- Use the `pandas` function `read_sql_query()` to assign to the variable `df` the DataFrame of results from the following query: **select** *all* records **from** the `Employee` table **where** the `EmployeeId` is greater than or equal to `6` and **ordered by** `BirthDate` (make sure to use `WHERE` and `ORDER BY` in this precise order)."
   ]
  },
  {
   "cell_type": "markdown",
   "id": "3cdab947",
   "metadata": {},
   "source": [
    "## 3.14 Advanced querying: exploiting table relationships"
   ]
  },
  {
   "cell_type": "markdown",
   "id": "44c8fcf2",
   "metadata": {},
   "source": [
    "## 3.15 The power of SQL lies in relationships between tables: INNER JOIN\n",
    "\n",
    "Here, you'll perform your first `INNER JOIN`! You'll be working with your favourite SQLite database, `Chinook.sqlite`. For each record in the `Album` table, you'll extract the `Title` along with the `Name` of the `Artist`. The latter will come from the `Artist` table and so you will need to `INNER JOIN` these two tables on the `ArtistID` column of both.\n",
    "\n",
    "Recall that to `INNER JOIN` the `Orders` and `Customers` tables from the Northwind database, Hugo executed the following SQL query:\n",
    "\n",
    "```python\n",
    "\"SELECT OrderID, CompanyName FROM Orders INNER JOIN Customers on Orders.CustomerID = Customers.CustomerID\"\n",
    "```\n",
    "\n",
    "The following code has already been executed to import the necessary packages and to create the engine:\n",
    "\n",
    "```python\n",
    "import pandas as pd\n",
    "from sqlalchemy import create_engine\n",
    "engine = create_engine('sqlite:///Chinook.sqlite')\n",
    "```"
   ]
  },
  {
   "cell_type": "markdown",
   "id": "58d4c2e6",
   "metadata": {},
   "source": [
    "### 3.15.1 Instructions\n",
    "\n",
    "- Assign to `rs` the results from the following query: **select** *all* the records, extracting the `Title` of the record and `Name` of the artist of each record **from** the `Album` table and the `Artist` table, respectively. To do so, `INNER JOIN` these two tables on the `ArtistID` column of both.\n",
    "- In a call to `pd.DataFrame()`, apply the method `fetchall()` to `rs` in order to fetch all records in `rs`. Store them in the DataFrame `df`.\n",
    "- Set the DataFrame's column names to the corresponding names of the table columns."
   ]
  },
  {
   "cell_type": "markdown",
   "id": "d7c70ca5",
   "metadata": {},
   "source": [
    "## 3.16 Filtering your INNER JOIN\n",
    "\n",
    "Congrats on performing your first `INNER JOIN`! You're now going to finish this chapter with one final exercise in which you perform an `INNER JOIN` and filter the result using a `WHERE` clause.\n",
    "\n",
    "Recall that to `INNER JOIN` the `Orders` and `Customers` tables from the Northwind database, Hugo executed the following SQL query:\n",
    "\n",
    "```python\n",
    "\"SELECT OrderID, CompanyName FROM Orders INNER JOIN Customers on Orders.CustomerID = Customers.CustomerID\"\n",
    "```\n",
    "\n",
    "The following code has already been executed to import the necessary packages and to create the engine:\n",
    "\n",
    "```python\n",
    "import pandas as pd\n",
    "from sqlalchemy import create_engine\n",
    "engine = create_engine('sqlite:///Chinook.sqlite')\n",
    "```"
   ]
  },
  {
   "cell_type": "markdown",
   "id": "0378a17d",
   "metadata": {},
   "source": [
    "### 3.16.1 Instructions\n",
    "\n",
    "- Use the `pandas` function `read_sql_query()` to assign to the variable `df` the DataFrame of results from the following query: **select** *all* records **from** `PlaylistTrack INNER JOIN Track on PlaylistTrack.TrackId = Track.TrackId` that satisfy the condition `Milliseconds < 250000`."
   ]
  },
  {
   "cell_type": "markdown",
   "id": "89dfda9d",
   "metadata": {},
   "source": [
    "## 3.17 Final Thoughts"
   ]
  }
 ],
 "metadata": {
  "kernelspec": {
   "display_name": "Python 3 (ipykernel)",
   "language": "python",
   "name": "python3"
  },
  "language_info": {
   "codemirror_mode": {
    "name": "ipython",
    "version": 3
   },
   "file_extension": ".py",
   "mimetype": "text/x-python",
   "name": "python",
   "nbconvert_exporter": "python",
   "pygments_lexer": "ipython3",
   "version": "3.9.15"
  }
 },
 "nbformat": 4,
 "nbformat_minor": 5
}
