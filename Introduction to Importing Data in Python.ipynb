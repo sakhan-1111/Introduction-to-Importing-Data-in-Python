{
 "cells": [
  {
   "cell_type": "markdown",
   "id": "bceadf05",
   "metadata": {},
   "source": []
  },
  {
   "cell_type": "markdown",
   "id": "fd8ce25c",
   "metadata": {},
   "source": []
  },
  {
   "cell_type": "markdown",
   "id": "a3e6f86c",
   "metadata": {},
   "source": []
  },
  {
   "cell_type": "markdown",
   "id": "2d9c9618",
   "metadata": {},
   "source": []
  },
  {
   "cell_type": "markdown",
   "id": "c08e0f0a",
   "metadata": {},
   "source": []
  },
  {
   "cell_type": "markdown",
   "id": "bbd57f6e",
   "metadata": {},
   "source": []
  },
  {
   "cell_type": "markdown",
   "id": "bc05d0fc",
   "metadata": {},
   "source": []
  },
  {
   "cell_type": "markdown",
   "id": "a68c65c1",
   "metadata": {},
   "source": []
  },
  {
   "cell_type": "markdown",
   "id": "78125db5",
   "metadata": {},
   "source": []
  },
  {
   "cell_type": "markdown",
   "id": "69da9194",
   "metadata": {},
   "source": []
  },
  {
   "cell_type": "markdown",
   "id": "8149797f",
   "metadata": {},
   "source": []
  },
  {
   "cell_type": "markdown",
   "id": "474443ad",
   "metadata": {},
   "source": []
  },
  {
   "cell_type": "markdown",
   "id": "36515c75",
   "metadata": {},
   "source": []
  },
  {
   "cell_type": "markdown",
   "id": "7c6cb95d",
   "metadata": {},
   "source": []
  },
  {
   "cell_type": "markdown",
   "id": "2e3a4c4a",
   "metadata": {},
   "source": []
  },
  {
   "cell_type": "markdown",
   "id": "01bfe38e",
   "metadata": {},
   "source": []
  },
  {
   "cell_type": "markdown",
   "id": "98ea6a38",
   "metadata": {},
   "source": []
  },
  {
   "cell_type": "markdown",
   "id": "49bdf93a",
   "metadata": {},
   "source": []
  },
  {
   "cell_type": "markdown",
   "id": "c567a1c4",
   "metadata": {},
   "source": []
  },
  {
   "cell_type": "markdown",
   "id": "7f474674",
   "metadata": {},
   "source": []
  },
  {
   "cell_type": "markdown",
   "id": "5d0ec24a",
   "metadata": {},
   "source": []
  },
  {
   "cell_type": "markdown",
   "id": "06705ebf",
   "metadata": {},
   "source": []
  },
  {
   "cell_type": "markdown",
   "id": "0c22b321",
   "metadata": {},
   "source": []
  },
  {
   "cell_type": "markdown",
   "id": "d5d1eb89",
   "metadata": {},
   "source": []
  },
  {
   "cell_type": "markdown",
   "id": "503aaa33",
   "metadata": {},
   "source": []
  },
  {
   "cell_type": "markdown",
   "id": "4c9082bf",
   "metadata": {},
   "source": []
  },
  {
   "cell_type": "markdown",
   "id": "afc0de3b",
   "metadata": {},
   "source": []
  },
  {
   "cell_type": "markdown",
   "id": "72ecf603",
   "metadata": {},
   "source": []
  },
  {
   "cell_type": "markdown",
   "id": "e32e8fbd",
   "metadata": {},
   "source": []
  },
  {
   "cell_type": "markdown",
   "id": "15b67053",
   "metadata": {},
   "source": []
  },
  {
   "cell_type": "markdown",
   "id": "b4e73c35",
   "metadata": {},
   "source": []
  },
  {
   "cell_type": "markdown",
   "id": "829e412c",
   "metadata": {},
   "source": []
  },
  {
   "cell_type": "markdown",
   "id": "0d52eea9",
   "metadata": {},
   "source": []
  },
  {
   "cell_type": "markdown",
   "id": "643137b3",
   "metadata": {},
   "source": []
  },
  {
   "cell_type": "markdown",
   "id": "dd7568fb",
   "metadata": {},
   "source": []
  },
  {
   "cell_type": "markdown",
   "id": "77dbd323",
   "metadata": {},
   "source": []
  },
  {
   "cell_type": "markdown",
   "id": "2c355d44",
   "metadata": {},
   "source": []
  },
  {
   "cell_type": "markdown",
   "id": "2ac71406",
   "metadata": {},
   "source": []
  },
  {
   "cell_type": "markdown",
   "id": "102f08f7",
   "metadata": {},
   "source": []
  },
  {
   "cell_type": "markdown",
   "id": "37f397aa",
   "metadata": {},
   "source": []
  },
  {
   "cell_type": "markdown",
   "id": "b0d08541",
   "metadata": {},
   "source": []
  },
  {
   "cell_type": "markdown",
   "id": "13ad6004",
   "metadata": {},
   "source": []
  },
  {
   "cell_type": "markdown",
   "id": "395c1f43",
   "metadata": {},
   "source": []
  },
  {
   "cell_type": "markdown",
   "id": "ba8bf93a",
   "metadata": {},
   "source": []
  },
  {
   "cell_type": "markdown",
   "id": "edb6d1e8",
   "metadata": {},
   "source": []
  },
  {
   "cell_type": "markdown",
   "id": "78aa7124",
   "metadata": {},
   "source": []
  },
  {
   "cell_type": "markdown",
   "id": "488a31c9",
   "metadata": {},
   "source": []
  },
  {
   "cell_type": "markdown",
   "id": "135d8185",
   "metadata": {},
   "source": []
  },
  {
   "cell_type": "markdown",
   "id": "b81fd608",
   "metadata": {},
   "source": []
  },
  {
   "cell_type": "markdown",
   "id": "531f2f08",
   "metadata": {},
   "source": []
  },
  {
   "cell_type": "markdown",
   "id": "37bd5696",
   "metadata": {},
   "source": []
  },
  {
   "cell_type": "markdown",
   "id": "d895ce11",
   "metadata": {},
   "source": []
  },
  {
   "cell_type": "markdown",
   "id": "c7f2f306",
   "metadata": {},
   "source": []
  },
  {
   "cell_type": "markdown",
   "id": "00546bd3",
   "metadata": {},
   "source": []
  },
  {
   "cell_type": "markdown",
   "id": "f6ee89dc",
   "metadata": {},
   "source": []
  },
  {
   "cell_type": "markdown",
   "id": "6808511b",
   "metadata": {},
   "source": []
  },
  {
   "cell_type": "markdown",
   "id": "d3a1268c",
   "metadata": {},
   "source": []
  },
  {
   "cell_type": "markdown",
   "id": "65b0dede",
   "metadata": {},
   "source": []
  },
  {
   "cell_type": "markdown",
   "id": "5f72da62",
   "metadata": {},
   "source": []
  },
  {
   "cell_type": "markdown",
   "id": "d6281092",
   "metadata": {},
   "source": []
  },
  {
   "cell_type": "markdown",
   "id": "ccee43fb",
   "metadata": {},
   "source": []
  },
  {
   "cell_type": "markdown",
   "id": "a60426b5",
   "metadata": {},
   "source": []
  },
  {
   "cell_type": "markdown",
   "id": "343d9769",
   "metadata": {},
   "source": []
  },
  {
   "cell_type": "markdown",
   "id": "fbf5dea5",
   "metadata": {},
   "source": []
  },
  {
   "cell_type": "markdown",
   "id": "8bbf13aa",
   "metadata": {},
   "source": []
  },
  {
   "cell_type": "markdown",
   "id": "998a4ec4",
   "metadata": {},
   "source": []
  },
  {
   "cell_type": "markdown",
   "id": "e33db695",
   "metadata": {},
   "source": []
  },
  {
   "cell_type": "markdown",
   "id": "8bb4aee5",
   "metadata": {},
   "source": []
  },
  {
   "cell_type": "markdown",
   "id": "95940351",
   "metadata": {},
   "source": []
  },
  {
   "cell_type": "markdown",
   "id": "3f11a6a8",
   "metadata": {},
   "source": []
  },
  {
   "cell_type": "markdown",
   "id": "a0cbd264",
   "metadata": {},
   "source": []
  },
  {
   "cell_type": "markdown",
   "id": "410d3648",
   "metadata": {},
   "source": []
  },
  {
   "cell_type": "markdown",
   "id": "50855e24",
   "metadata": {},
   "source": []
  },
  {
   "cell_type": "markdown",
   "id": "cf0d718f",
   "metadata": {},
   "source": []
  },
  {
   "cell_type": "markdown",
   "id": "2d478012",
   "metadata": {},
   "source": []
  },
  {
   "cell_type": "markdown",
   "id": "db302f03",
   "metadata": {},
   "source": []
  },
  {
   "cell_type": "markdown",
   "id": "1d38fc79",
   "metadata": {},
   "source": []
  },
  {
   "cell_type": "markdown",
   "id": "92240e3d",
   "metadata": {},
   "source": []
  },
  {
   "cell_type": "markdown",
   "id": "665d33af",
   "metadata": {},
   "source": []
  },
  {
   "cell_type": "markdown",
   "id": "1b4db6b2",
   "metadata": {},
   "source": []
  },
  {
   "cell_type": "markdown",
   "id": "f8e381b5",
   "metadata": {},
   "source": []
  },
  {
   "cell_type": "markdown",
   "id": "22ca0a06",
   "metadata": {},
   "source": []
  },
  {
   "cell_type": "markdown",
   "id": "df19e358",
   "metadata": {},
   "source": []
  },
  {
   "cell_type": "markdown",
   "id": "7e0c492f",
   "metadata": {},
   "source": []
  },
  {
   "cell_type": "markdown",
   "id": "4bfe1543",
   "metadata": {},
   "source": []
  },
  {
   "cell_type": "markdown",
   "id": "f4d949c0",
   "metadata": {},
   "source": []
  },
  {
   "cell_type": "markdown",
   "id": "6f53cbab",
   "metadata": {},
   "source": []
  },
  {
   "cell_type": "markdown",
   "id": "94676731",
   "metadata": {},
   "source": []
  },
  {
   "cell_type": "markdown",
   "id": "ffdae3a4",
   "metadata": {},
   "source": []
  },
  {
   "cell_type": "markdown",
   "id": "9600de3c",
   "metadata": {},
   "source": []
  },
  {
   "cell_type": "markdown",
   "id": "82aa1eea",
   "metadata": {},
   "source": []
  },
  {
   "cell_type": "markdown",
   "id": "0f85d732",
   "metadata": {},
   "source": []
  },
  {
   "cell_type": "markdown",
   "id": "a4ac8116",
   "metadata": {},
   "source": []
  },
  {
   "cell_type": "markdown",
   "id": "74874cb1",
   "metadata": {},
   "source": []
  },
  {
   "cell_type": "markdown",
   "id": "6ec73463",
   "metadata": {},
   "source": []
  },
  {
   "cell_type": "markdown",
   "id": "12543dfc",
   "metadata": {},
   "source": []
  },
  {
   "cell_type": "markdown",
   "id": "4707d51e",
   "metadata": {},
   "source": []
  },
  {
   "cell_type": "markdown",
   "id": "70c8bda0",
   "metadata": {},
   "source": []
  },
  {
   "cell_type": "markdown",
   "id": "1428d392",
   "metadata": {},
   "source": []
  },
  {
   "cell_type": "markdown",
   "id": "9c03ee55",
   "metadata": {},
   "source": []
  },
  {
   "cell_type": "markdown",
   "id": "7224d928",
   "metadata": {},
   "source": []
  },
  {
   "cell_type": "markdown",
   "id": "f79d3d5b",
   "metadata": {},
   "source": []
  },
  {
   "cell_type": "markdown",
   "id": "d96c9f09",
   "metadata": {},
   "source": []
  },
  {
   "cell_type": "markdown",
   "id": "66228322",
   "metadata": {},
   "source": []
  },
  {
   "cell_type": "markdown",
   "id": "a169a236",
   "metadata": {},
   "source": []
  },
  {
   "cell_type": "markdown",
   "id": "d036480a",
   "metadata": {},
   "source": []
  },
  {
   "cell_type": "markdown",
   "id": "bc6529e4",
   "metadata": {},
   "source": []
  },
  {
   "cell_type": "markdown",
   "id": "6a066673",
   "metadata": {},
   "source": []
  },
  {
   "cell_type": "markdown",
   "id": "7b83d23a",
   "metadata": {},
   "source": []
  },
  {
   "cell_type": "markdown",
   "id": "2bfb93e9",
   "metadata": {},
   "source": []
  },
  {
   "cell_type": "markdown",
   "id": "0f32bb52",
   "metadata": {},
   "source": []
  },
  {
   "cell_type": "markdown",
   "id": "1c173aed",
   "metadata": {},
   "source": []
  },
  {
   "cell_type": "markdown",
   "id": "13c0a89b",
   "metadata": {},
   "source": []
  },
  {
   "cell_type": "markdown",
   "id": "9e31b82b",
   "metadata": {},
   "source": []
  },
  {
   "cell_type": "markdown",
   "id": "e551e1da",
   "metadata": {},
   "source": []
  },
  {
   "cell_type": "markdown",
   "id": "cfe63bca",
   "metadata": {},
   "source": []
  },
  {
   "cell_type": "markdown",
   "id": "c63f912f",
   "metadata": {},
   "source": []
  },
  {
   "cell_type": "markdown",
   "id": "8a8f515b",
   "metadata": {},
   "source": []
  },
  {
   "cell_type": "markdown",
   "id": "c1da0546",
   "metadata": {},
   "source": []
  },
  {
   "cell_type": "markdown",
   "id": "a567cc54",
   "metadata": {},
   "source": []
  },
  {
   "cell_type": "markdown",
   "id": "8dd0e7b4",
   "metadata": {},
   "source": []
  },
  {
   "cell_type": "markdown",
   "id": "765e4025",
   "metadata": {},
   "source": []
  },
  {
   "cell_type": "markdown",
   "id": "67830874",
   "metadata": {},
   "source": []
  },
  {
   "cell_type": "markdown",
   "id": "f71734e2",
   "metadata": {},
   "source": []
  },
  {
   "cell_type": "markdown",
   "id": "82e66391",
   "metadata": {},
   "source": []
  },
  {
   "cell_type": "markdown",
   "id": "5aa95b1f",
   "metadata": {},
   "source": []
  },
  {
   "cell_type": "markdown",
   "id": "5189b2e0",
   "metadata": {},
   "source": []
  },
  {
   "cell_type": "markdown",
   "id": "6442b229",
   "metadata": {},
   "source": []
  },
  {
   "cell_type": "markdown",
   "id": "c6028b63",
   "metadata": {},
   "source": []
  },
  {
   "cell_type": "markdown",
   "id": "5480f3f1",
   "metadata": {},
   "source": []
  },
  {
   "cell_type": "markdown",
   "id": "e3a51adf",
   "metadata": {},
   "source": []
  },
  {
   "cell_type": "markdown",
   "id": "36b9fc3d",
   "metadata": {},
   "source": []
  },
  {
   "cell_type": "markdown",
   "id": "ca2aa679",
   "metadata": {},
   "source": []
  },
  {
   "cell_type": "markdown",
   "id": "d0bedf3b",
   "metadata": {},
   "source": []
  },
  {
   "cell_type": "markdown",
   "id": "ecb4b393",
   "metadata": {},
   "source": []
  },
  {
   "cell_type": "markdown",
   "id": "cdfbfe30",
   "metadata": {},
   "source": []
  },
  {
   "cell_type": "markdown",
   "id": "b27b9ec2",
   "metadata": {},
   "source": []
  },
  {
   "cell_type": "markdown",
   "id": "bced7814",
   "metadata": {},
   "source": []
  },
  {
   "cell_type": "markdown",
   "id": "6517f83a",
   "metadata": {},
   "source": []
  },
  {
   "cell_type": "markdown",
   "id": "96ed06dd",
   "metadata": {},
   "source": []
  },
  {
   "cell_type": "markdown",
   "id": "7c1cb974",
   "metadata": {},
   "source": []
  },
  {
   "cell_type": "markdown",
   "id": "2408aeff",
   "metadata": {},
   "source": []
  },
  {
   "cell_type": "markdown",
   "id": "1808f21c",
   "metadata": {},
   "source": []
  },
  {
   "cell_type": "markdown",
   "id": "ecf01fc0",
   "metadata": {},
   "source": []
  },
  {
   "cell_type": "markdown",
   "id": "eacaef5a",
   "metadata": {},
   "source": []
  },
  {
   "cell_type": "markdown",
   "id": "411ed9a1",
   "metadata": {},
   "source": []
  },
  {
   "cell_type": "markdown",
   "id": "701f665d",
   "metadata": {},
   "source": []
  },
  {
   "cell_type": "markdown",
   "id": "ae81fdac",
   "metadata": {},
   "source": []
  },
  {
   "cell_type": "markdown",
   "id": "15bae485",
   "metadata": {},
   "source": []
  },
  {
   "cell_type": "markdown",
   "id": "a6954277",
   "metadata": {},
   "source": []
  },
  {
   "cell_type": "markdown",
   "id": "de04bf8c",
   "metadata": {},
   "source": []
  },
  {
   "cell_type": "markdown",
   "id": "17887c12",
   "metadata": {},
   "source": []
  },
  {
   "cell_type": "markdown",
   "id": "031ca860",
   "metadata": {},
   "source": []
  },
  {
   "cell_type": "markdown",
   "id": "b8dc4666",
   "metadata": {},
   "source": []
  },
  {
   "cell_type": "markdown",
   "id": "a5f1bb5a",
   "metadata": {},
   "source": []
  }
 ],
 "metadata": {
  "kernelspec": {
   "display_name": "Python 3 (ipykernel)",
   "language": "python",
   "name": "python3"
  },
  "language_info": {
   "codemirror_mode": {
    "name": "ipython",
    "version": 3
   },
   "file_extension": ".py",
   "mimetype": "text/x-python",
   "name": "python",
   "nbconvert_exporter": "python",
   "pygments_lexer": "ipython3",
   "version": "3.9.15"
  }
 },
 "nbformat": 4,
 "nbformat_minor": 5
}
