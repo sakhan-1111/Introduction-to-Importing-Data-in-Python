{
 "cells": [
  {
   "cell_type": "markdown",
   "id": "1bb801d2",
   "metadata": {},
   "source": [
    "# 1 Introduction and flat files\n",
    "\n",
    "In this chapter, you'll learn how to import data into Python from all types of flat files, which are a simple and prevalent form of data storage. You've previously learned how to use NumPy and pandas—you will learn how to use these packages to import flat files and customize your imports."
   ]
  },
  {
   "cell_type": "markdown",
   "id": "182e2aad",
   "metadata": {},
   "source": [
    "## 1.1 Welcome to the course!"
   ]
  },
  {
   "cell_type": "markdown",
   "id": "3d252177",
   "metadata": {},
   "source": [
    "## 1.2 Exploring your working directory\n",
    "\n",
    "In order to import data into Python, you should first have an idea of what files are in your working directory.\n",
    "\n",
    "IPython, which is running on DataCamp's servers, has a bunch of cool commands, including its [magic commands](https://ipython.readthedocs.io/en/stable/overview.html). For example, starting a line with `!` gives you complete system shell access. This means that the IPython magic command `! ls` will display the contents of your current directory. Your task is to use the IPython magic command `! ls` to check out the contents of your current directory and answer the following question: which of the following files is in your working directory?"
   ]
  },
  {
   "cell_type": "markdown",
   "id": "901ab915",
   "metadata": {},
   "source": [
    "### 1.2.1 Instructions\n",
    "\n",
    "### Possible Answers\n",
    "\n",
    "- [ ] `huck_finn.txt`\n",
    "\n",
    "\n",
    "- [ ] `titanic.csv`\n",
    "\n",
    "\n",
    "- [x] `moby_dick.txt`"
   ]
  },
  {
   "cell_type": "markdown",
   "id": "310ca857",
   "metadata": {},
   "source": [
    "## 1.3 Importing entire text files\n",
    "\n",
    "In this exercise, you'll be working with the file `moby_dick.txt`. It is a text file that contains the opening sentences of Moby Dick, one of the great American novels! Here you'll get experience opening a text file, printing its contents to the shell and, finally, closing it."
   ]
  },
  {
   "cell_type": "markdown",
   "id": "a910569d",
   "metadata": {},
   "source": [
    "### 1.3.1 Instructions\n",
    "\n",
    "- Open the file `moby_dick.txt` as *read-only* and store it in the variable `file`. Make sure to pass the filename enclosed in quotation marks `''`.\n",
    "- Print the contents of the file to the shell using the `print()` function. As Hugo showed in the video, you'll need to apply the method `read()` to the object `file`.\n",
    "- Check whether the file is closed by executing `print(file.closed)`.\n",
    "- Close the file using the `close()` method.\n",
    "- Check again that the file is closed as you did above."
   ]
  },
  {
   "cell_type": "markdown",
   "id": "28fc6fdf",
   "metadata": {},
   "source": [
    "## 1.4 Importing text files line by line\n",
    "\n",
    "For large files, we may not want to print all of their content to the shell: you may wish to print only the first few lines. Enter the `readline()` method, which allows you to do this. When a file called `file` is open, you can print out the first line by executing `file.readline()`. If you execute the same command again, the second line will print, and so on.\n",
    "\n",
    "In the introductory video, Hugo also introduced the concept of a **context manager**. He showed that you can bind a variable `file` by using a context manager construct:\n",
    "\n",
    "```python\n",
    "with open('huck_finn.txt') as file:\n",
    "```\n",
    "\n",
    "While still within this construct, the variable `file` will be bound to `open('huck_finn.txt')`; thus, to print the file to the shell, all the code you need to execute is:\n",
    "\n",
    "```python\n",
    "with open('huck_finn.txt') as file:\n",
    "    print(file.readline())\n",
    "```\n",
    "\n",
    "You'll now use these tools to print the first few lines of `moby_dick.txt`!"
   ]
  },
  {
   "cell_type": "markdown",
   "id": "f19ad8f7",
   "metadata": {},
   "source": [
    "### 1.4.1 Instructions\n",
    "\n",
    "- Open `moby_dick.txt` using the `with` context manager and the variable `file`.\n",
    "- Print the first three lines of the file to the shell by using `readline()` three times within the context manager."
   ]
  },
  {
   "cell_type": "markdown",
   "id": "018f72df",
   "metadata": {},
   "source": [
    "## 1.5 The importance of flat files in data science"
   ]
  },
  {
   "cell_type": "markdown",
   "id": "5cc17365",
   "metadata": {},
   "source": [
    "## 1.6 Pop quiz: examples of flat files\n",
    "\n",
    "You're now well-versed in importing text files and you're about to become a wiz at importing flat files. But can you remember exactly what a flat file is? Test your knowledge by answering the following question: which of these file types below is NOT an example of a flat file?"
   ]
  },
  {
   "cell_type": "markdown",
   "id": "994a1b8f",
   "metadata": {},
   "source": [
    "### 1.6.1 Answer the question\n",
    "\n",
    "### Possible Answers\n",
    "\n",
    "- [ ] A .csv file.\n",
    "\n",
    "- [ ] A tab-delimited .txt.\n",
    "\n",
    "- [x] A relational database (e.g. PostgreSQL)."
   ]
  },
  {
   "cell_type": "markdown",
   "id": "b0f0c53c",
   "metadata": {},
   "source": [
    "## 1.7 Pop quiz: what exactly are flat files?\n",
    "\n",
    "Which of the following statements about flat files is incorrect?"
   ]
  },
  {
   "cell_type": "markdown",
   "id": "1ff91816",
   "metadata": {},
   "source": [
    "### 1.7.1 Answer the question\n",
    "\n",
    "### Possible Answers\n",
    "\n",
    "- [ ] Flat files consist of rows and each row is called a record.\n",
    "\n",
    "- [x] Flat files consist of multiple tables with structured relationships between the tables.\n",
    "\n",
    "- [ ] A record in a flat file is composed of *fields* or *attributes*, each of which contains at most one item of information.\n",
    "\n",
    "- [ ] Flat files are pervasive in data science."
   ]
  },
  {
   "cell_type": "markdown",
   "id": "a5f9a9a0",
   "metadata": {},
   "source": [
    "## 1.8 Why we like flat files and the Zen of Python\n",
    "\n",
    "In PythonLand, there are currently hundreds of *Python Enhancement Proposals*, commonly referred to as *PEP*s. [PEP8](https://www.python.org/dev/peps/pep-0008/), for example, is a standard style guide for Python, written by our sensei Guido van Rossum himself. It is the basis for how we here at DataCamp ask our instructors to style their code. Another one of my favorites is [PEP20](https://www.python.org/dev/peps/pep-0020/), commonly called the *Zen of Python*. Its abstract is as follows:\n",
    "\n",
    "> Long time Pythoneer Tim Peters succinctly channels the BDFL's guiding principles for Python's design into 20 aphorisms, only 19 of which have been written down.\n",
    "\n",
    "If you don't know what the acronym `BDFL` stands for, I suggest that you look [here](https://docs.python.org/3.3/glossary.html#term-bdfl). You can print the Zen of Python in your shell by typing `import this` into it! You're going to do this now and the 5th aphorism (line) will say something of particular interest.\n",
    "\n",
    "The question you need to answer is: **what is the 5th aphorism of the *Zen of Python*?**"
   ]
  },
  {
   "cell_type": "markdown",
   "id": "1f847c2f",
   "metadata": {},
   "source": [
    "### 1.8.1 Instructions\n",
    "\n",
    "### Possible Answers\n",
    "\n",
    "- [x] Flat is better than nested.\n",
    "\n",
    "- [ ] Flat files are essential for data science.\n",
    "\n",
    "- [ ] The world is representable as a flat file.\n",
    "\n",
    "- [ ] Flatness is in the eye of the beholder."
   ]
  },
  {
   "cell_type": "markdown",
   "id": "ca9c56ae",
   "metadata": {},
   "source": [
    "## 1.9 Importing flat files using NumPy"
   ]
  },
  {
   "cell_type": "markdown",
   "id": "ecc7f0a9",
   "metadata": {},
   "source": [
    "## 1.10 Using NumPy to import flat files\n",
    "\n",
    "In this exercise, you're now going to load the MNIST digit recognition dataset using the numpy function `loadtxt()` and see just how easy it can be:\n",
    "\n",
    "- The first argument will be the filename.\n",
    "- The second will be the delimiter which, in this case, is a comma.\n",
    "\n",
    "You can find more information about the MNIST dataset [here](http://yann.lecun.com/exdb/mnist/) on the webpage of Yann LeCun, who is currently Director of AI Research at Facebook and Founding Director of the NYU Center for Data Science, among many other things."
   ]
  },
  {
   "cell_type": "markdown",
   "id": "6b78356e",
   "metadata": {},
   "source": [
    "### 1.10.1 Instructions\n",
    "\n",
    "- Fill in the arguments of `np.loadtxt()` by passing `file` and a comma `','` for the delimiter.\n",
    "- Fill in the argument of `print()` to print the type of the object `digits`. Use the function `type()`.\n",
    "- Execute the rest of the code to visualize one of the rows of the data."
   ]
  },
  {
   "cell_type": "markdown",
   "id": "e12020f2",
   "metadata": {},
   "source": [
    "## 1.11 Customizing your NumPy import\n",
    "\n",
    "What if there are rows, such as a header, that you don't want to import? What if your file has a delimiter other than a comma? What if you only wish to import particular columns?\n",
    "\n",
    "There are a number of arguments that `np.loadtxt()` takes that you'll find useful:\n",
    "\n",
    "- `delimiter` changes the delimiter that `loadtxt()` is expecting.\n",
    "  - You can use `','` for comma-delimited.\n",
    "  - You can use `'\\t'` for tab-delimited.\n",
    "- `skiprows` allows you to specify *how many rows* (not indices) you wish to skip\n",
    "- `usecols` takes a *list* of the indices of the columns you wish to keep.\n",
    "\n",
    "The file that you'll be importing, `digits_header.txt`, has a header and is tab-delimited."
   ]
  },
  {
   "cell_type": "markdown",
   "id": "f0858d3f",
   "metadata": {},
   "source": [
    "### 1.11.1 Instructions\n",
    "\n",
    "- Complete the arguments of `np.loadtxt()`: the file you're importing is tab-delimited, you want to skip the first row and you only want to import the first and third columns.\n",
    "- Complete the argument of the `print()` call in order to print the entire array that you just imported."
   ]
  },
  {
   "cell_type": "markdown",
   "id": "7d8a7a56",
   "metadata": {},
   "source": [
    "## 1.12 Importing different datatypes\n",
    "\n",
    "The file `seaslug.txt`\n",
    "\n",
    "- has a text header, consisting of strings\n",
    "- is tab-delimited.\n",
    "\n",
    "These data consists of percentage of sea slug larvae that had metamorphosed in a given time period. Read more [here](http://www.stat.ucla.edu/~rgould/datasets/aboutseaslugs.html).\n",
    "\n",
    "Due to the header, if you tried to import it as-is using `np.loadtxt()`, Python would throw you a `ValueError` and tell you that it `could not convert string to float`. There are two ways to deal with this: firstly, you can set the data type argument `dtype` equal to `str` (for string).\n",
    "\n",
    "Alternatively, you can skip the first row as we have seen before, using the `skiprows` argument."
   ]
  },
  {
   "cell_type": "markdown",
   "id": "2f04d31c",
   "metadata": {},
   "source": [
    "### 1.12.1 Instructions\n",
    "\n",
    "- Complete the first call to `np.loadtxt()` by passing `file` as the first argument.\n",
    "- Execute `print(data[0])` to print the first element of `data`.\n",
    "- Complete the second call to `np.loadtxt()`. The file you're importing is tab-delimited, the datatype is `float`, and you want to skip the first row.\n",
    "- Print the 10th element of `data_float` by completing the `print()` command. Be guided by the previous `print()` call.\n",
    "- Execute the rest of the code to visualize the data."
   ]
  },
  {
   "cell_type": "markdown",
   "id": "5ec45fba",
   "metadata": {},
   "source": [
    "## 1.13 Working with mixed datatypes (1)\n",
    "\n",
    "Much of the time you will need to import datasets which have different datatypes in different columns; one column may contain strings and another floats, for example. The function `np.loadtxt()` will freak at this. There is another function, `np.genfromtxt()`, which can handle such structures. If we pass `dtype=None` to it, it will figure out what types each column should be.\n",
    "\n",
    "Import `'titanic.csv'` using the function `np.genfromtxt()` as follows:\n",
    "\n",
    "```python\n",
    "data = np.genfromtxt('titanic.csv', delimiter=',', names=True, dtype=None)\n",
    "```\n",
    "\n",
    "Here, the first argument is the filename, the second specifies the delimiter `,` and the third argument `names` tells us there is a header. Because the data are of different types, `data` is an object called a [structured array](http://docs.scipy.org/doc/numpy/user/basics.rec.html). Because numpy arrays have to contain elements that are all the same type, the structured array solves this by being a 1D array, where each element of the array is a row of the flat file imported. You can test this by checking out the array's shape in the shell by executing `np.shape(data)`.\n",
    "\n",
    "Accessing rows and columns of structured arrays is super-intuitive: to get the ith row, merely execute `data[i]` and to get the column with name `'Fare'`, execute `data['Fare']`.\n",
    "\n",
    "After importing the Titanic data as a structured array (as per the instructions above), print the entire column with the name `Survived` to the shell. What are the last 4 values of this column?"
   ]
  },
  {
   "cell_type": "markdown",
   "id": "1849ba27",
   "metadata": {},
   "source": [
    "### 1.13.1 Instructions\n",
    "\n",
    "### Possible Answers\n",
    "\n",
    "- [ ] 1,0,0,1.\n",
    "\n",
    "- [ ] 1,2,0,0.\n",
    "\n",
    "- [x] 1,0,1,0.\n",
    "\n",
    "- [ ] 0,1,1,1."
   ]
  },
  {
   "cell_type": "markdown",
   "id": "d7f1b4ed",
   "metadata": {},
   "source": [
    "## 1.14 Working with mixed datatypes (2)\n",
    "\n",
    "You have just used `np.genfromtxt()` to import data containing mixed datatypes. There is also another function `np.recfromcsv()` that behaves similarly to `np.genfromtxt()`, except that its default `dtype` is `None`. In this exercise, you'll practice using this to achieve the same result."
   ]
  },
  {
   "cell_type": "markdown",
   "id": "b3a671bc",
   "metadata": {},
   "source": [
    "### 1.14.1 Instructions\n",
    "\n",
    "- Import `titanic.csv` using the function `np.recfromcsv()` and assign it to the variable, `d`. You'll only need to pass `file` to it because it has the defaults `delimiter=','` and `names=True` in addition to `dtype=None`!\n",
    "- Run the remaining code to print the first three entries of the resulting array `d`."
   ]
  },
  {
   "cell_type": "markdown",
   "id": "acc57c4e",
   "metadata": {},
   "source": [
    "## 1.15 Importing flat files using pandas"
   ]
  },
  {
   "cell_type": "markdown",
   "id": "7103d230",
   "metadata": {},
   "source": []
  },
  {
   "cell_type": "markdown",
   "id": "f13960a6",
   "metadata": {},
   "source": []
  },
  {
   "cell_type": "markdown",
   "id": "88c434bb",
   "metadata": {},
   "source": []
  },
  {
   "cell_type": "markdown",
   "id": "f83832d7",
   "metadata": {},
   "source": []
  },
  {
   "cell_type": "markdown",
   "id": "45a6d425",
   "metadata": {},
   "source": []
  },
  {
   "cell_type": "markdown",
   "id": "ac392372",
   "metadata": {},
   "source": []
  },
  {
   "cell_type": "markdown",
   "id": "063ea1b5",
   "metadata": {},
   "source": []
  },
  {
   "cell_type": "markdown",
   "id": "443a9920",
   "metadata": {},
   "source": []
  },
  {
   "cell_type": "markdown",
   "id": "0a90dad2",
   "metadata": {},
   "source": []
  },
  {
   "cell_type": "markdown",
   "id": "9d87be83",
   "metadata": {},
   "source": []
  },
  {
   "cell_type": "markdown",
   "id": "79f4a31c",
   "metadata": {},
   "source": []
  },
  {
   "cell_type": "markdown",
   "id": "e7d9a375",
   "metadata": {},
   "source": []
  },
  {
   "cell_type": "markdown",
   "id": "4b8e937b",
   "metadata": {},
   "source": []
  },
  {
   "cell_type": "markdown",
   "id": "62de9cf2",
   "metadata": {},
   "source": []
  },
  {
   "cell_type": "markdown",
   "id": "de3529cd",
   "metadata": {},
   "source": []
  },
  {
   "cell_type": "markdown",
   "id": "3c52569d",
   "metadata": {},
   "source": []
  },
  {
   "cell_type": "markdown",
   "id": "971dfeea",
   "metadata": {},
   "source": []
  },
  {
   "cell_type": "markdown",
   "id": "acc661a3",
   "metadata": {},
   "source": []
  },
  {
   "cell_type": "markdown",
   "id": "c20035f5",
   "metadata": {},
   "source": []
  },
  {
   "cell_type": "markdown",
   "id": "8b19d0ed",
   "metadata": {},
   "source": []
  },
  {
   "cell_type": "markdown",
   "id": "c396e5e4",
   "metadata": {},
   "source": []
  },
  {
   "cell_type": "markdown",
   "id": "7cf16fd6",
   "metadata": {},
   "source": []
  },
  {
   "cell_type": "markdown",
   "id": "32461372",
   "metadata": {},
   "source": []
  },
  {
   "cell_type": "markdown",
   "id": "7f0273f1",
   "metadata": {},
   "source": []
  },
  {
   "cell_type": "markdown",
   "id": "6629e02a",
   "metadata": {},
   "source": []
  },
  {
   "cell_type": "markdown",
   "id": "172ec029",
   "metadata": {},
   "source": []
  },
  {
   "cell_type": "markdown",
   "id": "04fc01fc",
   "metadata": {},
   "source": []
  },
  {
   "cell_type": "markdown",
   "id": "0225ccc5",
   "metadata": {},
   "source": []
  },
  {
   "cell_type": "markdown",
   "id": "193e25e6",
   "metadata": {},
   "source": []
  },
  {
   "cell_type": "markdown",
   "id": "5de84daa",
   "metadata": {},
   "source": []
  },
  {
   "cell_type": "markdown",
   "id": "a1b35631",
   "metadata": {},
   "source": []
  },
  {
   "cell_type": "markdown",
   "id": "b70d1492",
   "metadata": {},
   "source": []
  },
  {
   "cell_type": "markdown",
   "id": "03fb4b0a",
   "metadata": {},
   "source": []
  },
  {
   "cell_type": "markdown",
   "id": "b12107ea",
   "metadata": {},
   "source": []
  },
  {
   "cell_type": "markdown",
   "id": "394b78a3",
   "metadata": {},
   "source": []
  },
  {
   "cell_type": "markdown",
   "id": "c284fc54",
   "metadata": {},
   "source": []
  },
  {
   "cell_type": "markdown",
   "id": "481536fa",
   "metadata": {},
   "source": []
  },
  {
   "cell_type": "markdown",
   "id": "124f7fde",
   "metadata": {},
   "source": []
  },
  {
   "cell_type": "markdown",
   "id": "6b494b43",
   "metadata": {},
   "source": []
  },
  {
   "cell_type": "markdown",
   "id": "ceec1ab2",
   "metadata": {},
   "source": []
  },
  {
   "cell_type": "markdown",
   "id": "55b0c69b",
   "metadata": {},
   "source": []
  },
  {
   "cell_type": "markdown",
   "id": "945239b4",
   "metadata": {},
   "source": []
  },
  {
   "cell_type": "markdown",
   "id": "9d700410",
   "metadata": {},
   "source": []
  },
  {
   "cell_type": "markdown",
   "id": "39c30c03",
   "metadata": {},
   "source": []
  },
  {
   "cell_type": "markdown",
   "id": "844d0df8",
   "metadata": {},
   "source": []
  },
  {
   "cell_type": "markdown",
   "id": "29841005",
   "metadata": {},
   "source": []
  },
  {
   "cell_type": "markdown",
   "id": "492b76eb",
   "metadata": {},
   "source": []
  },
  {
   "cell_type": "markdown",
   "id": "55f873fa",
   "metadata": {},
   "source": []
  },
  {
   "cell_type": "markdown",
   "id": "25c984e5",
   "metadata": {},
   "source": []
  },
  {
   "cell_type": "markdown",
   "id": "102eb6fa",
   "metadata": {},
   "source": []
  },
  {
   "cell_type": "markdown",
   "id": "79dd6641",
   "metadata": {},
   "source": []
  },
  {
   "cell_type": "markdown",
   "id": "08554873",
   "metadata": {},
   "source": []
  },
  {
   "cell_type": "markdown",
   "id": "62a6599f",
   "metadata": {},
   "source": []
  },
  {
   "cell_type": "markdown",
   "id": "6ac4b2e4",
   "metadata": {},
   "source": []
  },
  {
   "cell_type": "markdown",
   "id": "a197b728",
   "metadata": {},
   "source": []
  },
  {
   "cell_type": "markdown",
   "id": "d1d8b139",
   "metadata": {},
   "source": []
  },
  {
   "cell_type": "markdown",
   "id": "06e646ba",
   "metadata": {},
   "source": []
  },
  {
   "cell_type": "markdown",
   "id": "dfb18e59",
   "metadata": {},
   "source": []
  },
  {
   "cell_type": "markdown",
   "id": "25696acd",
   "metadata": {},
   "source": []
  },
  {
   "cell_type": "markdown",
   "id": "8377384b",
   "metadata": {},
   "source": []
  },
  {
   "cell_type": "markdown",
   "id": "11f8bb1c",
   "metadata": {},
   "source": []
  },
  {
   "cell_type": "markdown",
   "id": "1606cd90",
   "metadata": {},
   "source": []
  },
  {
   "cell_type": "markdown",
   "id": "ca2e1c8e",
   "metadata": {},
   "source": []
  },
  {
   "cell_type": "markdown",
   "id": "450e9755",
   "metadata": {},
   "source": []
  },
  {
   "cell_type": "markdown",
   "id": "ce08ba90",
   "metadata": {},
   "source": []
  },
  {
   "cell_type": "markdown",
   "id": "af37d966",
   "metadata": {},
   "source": []
  },
  {
   "cell_type": "markdown",
   "id": "88e94f9f",
   "metadata": {},
   "source": []
  },
  {
   "cell_type": "markdown",
   "id": "015f8eb9",
   "metadata": {},
   "source": []
  },
  {
   "cell_type": "markdown",
   "id": "6fe22977",
   "metadata": {},
   "source": []
  },
  {
   "cell_type": "markdown",
   "id": "7657f431",
   "metadata": {},
   "source": []
  },
  {
   "cell_type": "markdown",
   "id": "e17a4900",
   "metadata": {},
   "source": []
  },
  {
   "cell_type": "markdown",
   "id": "5c78abf0",
   "metadata": {},
   "source": []
  },
  {
   "cell_type": "markdown",
   "id": "d17999ba",
   "metadata": {},
   "source": []
  },
  {
   "cell_type": "markdown",
   "id": "12538e5e",
   "metadata": {},
   "source": []
  },
  {
   "cell_type": "markdown",
   "id": "4ce0891e",
   "metadata": {},
   "source": []
  },
  {
   "cell_type": "markdown",
   "id": "3953074a",
   "metadata": {},
   "source": []
  },
  {
   "cell_type": "markdown",
   "id": "bb15a909",
   "metadata": {},
   "source": []
  },
  {
   "cell_type": "markdown",
   "id": "f0cd0c44",
   "metadata": {},
   "source": []
  },
  {
   "cell_type": "markdown",
   "id": "b912368d",
   "metadata": {},
   "source": []
  },
  {
   "cell_type": "markdown",
   "id": "e55f7cb3",
   "metadata": {},
   "source": []
  },
  {
   "cell_type": "markdown",
   "id": "73e3085a",
   "metadata": {},
   "source": []
  },
  {
   "cell_type": "markdown",
   "id": "79f3b890",
   "metadata": {},
   "source": []
  },
  {
   "cell_type": "markdown",
   "id": "b2cd7dc4",
   "metadata": {},
   "source": []
  },
  {
   "cell_type": "markdown",
   "id": "fedb4071",
   "metadata": {},
   "source": []
  },
  {
   "cell_type": "markdown",
   "id": "429df28e",
   "metadata": {},
   "source": []
  },
  {
   "cell_type": "markdown",
   "id": "f0517014",
   "metadata": {},
   "source": []
  },
  {
   "cell_type": "markdown",
   "id": "f79ab382",
   "metadata": {},
   "source": []
  },
  {
   "cell_type": "markdown",
   "id": "e529c261",
   "metadata": {},
   "source": []
  },
  {
   "cell_type": "markdown",
   "id": "578b275c",
   "metadata": {},
   "source": []
  },
  {
   "cell_type": "markdown",
   "id": "9bd2e0d6",
   "metadata": {},
   "source": []
  },
  {
   "cell_type": "markdown",
   "id": "19daadcb",
   "metadata": {},
   "source": []
  },
  {
   "cell_type": "markdown",
   "id": "6cd9e743",
   "metadata": {},
   "source": []
  },
  {
   "cell_type": "markdown",
   "id": "a8d14597",
   "metadata": {},
   "source": []
  },
  {
   "cell_type": "markdown",
   "id": "f63f5fde",
   "metadata": {},
   "source": []
  },
  {
   "cell_type": "markdown",
   "id": "05976291",
   "metadata": {},
   "source": []
  },
  {
   "cell_type": "markdown",
   "id": "af49f86f",
   "metadata": {},
   "source": []
  },
  {
   "cell_type": "markdown",
   "id": "c6450824",
   "metadata": {},
   "source": []
  },
  {
   "cell_type": "markdown",
   "id": "bb0fd863",
   "metadata": {},
   "source": []
  },
  {
   "cell_type": "markdown",
   "id": "fd645fd9",
   "metadata": {},
   "source": []
  },
  {
   "cell_type": "markdown",
   "id": "e96a7956",
   "metadata": {},
   "source": []
  },
  {
   "cell_type": "markdown",
   "id": "795e2c50",
   "metadata": {},
   "source": []
  },
  {
   "cell_type": "markdown",
   "id": "a6fa9796",
   "metadata": {},
   "source": []
  },
  {
   "cell_type": "markdown",
   "id": "38a1e381",
   "metadata": {},
   "source": []
  },
  {
   "cell_type": "markdown",
   "id": "ef8fb525",
   "metadata": {},
   "source": []
  },
  {
   "cell_type": "markdown",
   "id": "a143726a",
   "metadata": {},
   "source": []
  },
  {
   "cell_type": "markdown",
   "id": "983c21c1",
   "metadata": {},
   "source": []
  },
  {
   "cell_type": "markdown",
   "id": "01d68666",
   "metadata": {},
   "source": []
  },
  {
   "cell_type": "markdown",
   "id": "1c169977",
   "metadata": {},
   "source": []
  },
  {
   "cell_type": "markdown",
   "id": "6f447eba",
   "metadata": {},
   "source": []
  },
  {
   "cell_type": "markdown",
   "id": "0e367bde",
   "metadata": {},
   "source": []
  },
  {
   "cell_type": "markdown",
   "id": "38128daf",
   "metadata": {},
   "source": []
  },
  {
   "cell_type": "markdown",
   "id": "477e49d7",
   "metadata": {},
   "source": []
  },
  {
   "cell_type": "markdown",
   "id": "80cd4f4f",
   "metadata": {},
   "source": []
  },
  {
   "cell_type": "markdown",
   "id": "43499e86",
   "metadata": {},
   "source": []
  },
  {
   "cell_type": "markdown",
   "id": "93f663e3",
   "metadata": {},
   "source": []
  },
  {
   "cell_type": "markdown",
   "id": "e29c1c16",
   "metadata": {},
   "source": []
  },
  {
   "cell_type": "markdown",
   "id": "936aa859",
   "metadata": {},
   "source": []
  },
  {
   "cell_type": "markdown",
   "id": "f73d6649",
   "metadata": {},
   "source": []
  },
  {
   "cell_type": "markdown",
   "id": "490b09e5",
   "metadata": {},
   "source": []
  },
  {
   "cell_type": "markdown",
   "id": "4b03d57c",
   "metadata": {},
   "source": []
  },
  {
   "cell_type": "markdown",
   "id": "9445837c",
   "metadata": {},
   "source": []
  },
  {
   "cell_type": "markdown",
   "id": "3886d98f",
   "metadata": {},
   "source": []
  },
  {
   "cell_type": "markdown",
   "id": "ae9704f8",
   "metadata": {},
   "source": []
  },
  {
   "cell_type": "markdown",
   "id": "f1c84726",
   "metadata": {},
   "source": []
  },
  {
   "cell_type": "markdown",
   "id": "b94f028f",
   "metadata": {},
   "source": []
  },
  {
   "cell_type": "markdown",
   "id": "0acba028",
   "metadata": {},
   "source": []
  },
  {
   "cell_type": "markdown",
   "id": "60bd6399",
   "metadata": {},
   "source": []
  },
  {
   "cell_type": "markdown",
   "id": "7f82a3d9",
   "metadata": {},
   "source": []
  }
 ],
 "metadata": {
  "kernelspec": {
   "display_name": "Python 3 (ipykernel)",
   "language": "python",
   "name": "python3"
  },
  "language_info": {
   "codemirror_mode": {
    "name": "ipython",
    "version": 3
   },
   "file_extension": ".py",
   "mimetype": "text/x-python",
   "name": "python",
   "nbconvert_exporter": "python",
   "pygments_lexer": "ipython3",
   "version": "3.9.15"
  }
 },
 "nbformat": 4,
 "nbformat_minor": 5
}
